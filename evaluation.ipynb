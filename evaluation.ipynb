{
 "cells": [
  {
   "cell_type": "markdown",
   "metadata": {},
   "source": [
    "Biometric Systems (2023-2024) Project\n",
    "\n",
    "**Weidong Cai 1836167**\n",
    "\n",
    "**Elena Jiang 1846716**"
   ]
  },
  {
   "cell_type": "markdown",
   "metadata": {},
   "source": [
    "# **Abstract**\n",
    "\n",
    "The evaluation of this project, a face recognition system, is an open-set identification (1:N) task, as an un-enrolled user can interact with the system. The system can detect whether the user is registered in the system. We use **Deepface**, a lightweight face recognition framework for Python, which is a hybrid face recognition package. In particular, we use the **'GhostFaceNet'** model, as its declared LFW score is the highest.\n",
    "\n",
    "The dataset used is the **LFW** (Labeled Faces in the Wild), and we use an **all probe templates compared with all gallery templates** approach to evaluate the performance of the model. We use thresholds ranging from 0.01 to 0.99 with a step of 0.01. For each threshold, we calculate the False Acceptance (FA) rate, False Rejection (FR) rate, Detection and Identification Rate (DI), and Genuine Recognition (GR) rate, to evaluate the system's performance comprehensively."
   ]
  },
  {
   "cell_type": "markdown",
   "metadata": {},
   "source": [
    "# **1. Dependences**"
   ]
  },
  {
   "cell_type": "code",
   "execution_count": 1,
   "metadata": {},
   "outputs": [],
   "source": [
    "import os\n",
    "import re\n",
    "import json\n",
    "import keras\n",
    "import random\n",
    "import numpy as np\n",
    "import pandas as pd\n",
    "import matplotlib.pyplot as plt\n",
    "import matplotlib.ticker as ticker\n",
    "\n",
    "from deepface import DeepFace\n",
    "from sklearn.metrics import det_curve"
   ]
  },
  {
   "cell_type": "markdown",
   "metadata": {},
   "source": [
    "# **2. Global Constants**"
   ]
  },
  {
   "cell_type": "markdown",
   "metadata": {},
   "source": [
    "The dataset used for evaluation is the Labeled Faces in the Wild (LFW)."
   ]
  },
  {
   "cell_type": "code",
   "execution_count": 2,
   "metadata": {},
   "outputs": [],
   "source": [
    "RANDOM_SEED = 42\n",
    "random.seed(RANDOM_SEED)"
   ]
  },
  {
   "cell_type": "code",
   "execution_count": 38,
   "metadata": {},
   "outputs": [],
   "source": [
    "# Load the model and the path of the dataset \n",
    "model = keras.models.load_model('ghostfacenet_v1.h5')\n",
    "dataset_dir = 'dataset' # LFW dataset\n",
    "evaluation_metrics_file = 'evaluation_metrics.json'"
   ]
  },
  {
   "cell_type": "code",
   "execution_count": 7,
   "metadata": {},
   "outputs": [
    {
     "name": "stdout",
     "output_type": "stream",
     "text": [
      "The dataframe has a total of 5749 entities\n"
     ]
    }
   ],
   "source": [
    "# Get the list of persons\n",
    "entities = [p for p in os.listdir(dataset_dir) if os.path.isdir(os.path.join(dataset_dir, p)) and not p.startswith('.')]\n",
    "random.shuffle(entities) \n",
    "print(f'The dataframe has a total of {len(entities)} entities')"
   ]
  },
  {
   "cell_type": "markdown",
   "metadata": {},
   "source": [
    "# **3. Dataset**"
   ]
  },
  {
   "cell_type": "markdown",
   "metadata": {},
   "source": [
    "## **3.1 Generate Dataframe**"
   ]
  },
  {
   "cell_type": "markdown",
   "metadata": {},
   "source": [
    "For each image, first check if it contains a human face. If so, the person has more than 3 images, classify them as \"Genuine,\" and select at most 6 valid photos. If the person has 3 or fewer images, classify them as an \"Impostor.\""
   ]
  },
  {
   "cell_type": "code",
   "execution_count": 8,
   "metadata": {},
   "outputs": [],
   "source": [
    "data = []\n",
    "min_num_photo_for_person = 3\n",
    "max_num_photo_for_person = 6\n",
    "\n",
    "for person in entities:\n",
    "    person_dir = os.path.join(dataset_dir, person) # Entity path\n",
    "    images_path = os.listdir(person_dir) # Entity photos\n",
    "    random.shuffle(images_path)\n",
    "    count = 0\n",
    "    for image in images_path:   \n",
    "        img_path = os.path.join(person_dir, image)\n",
    "        result = DeepFace.extract_faces(img_path=img_path, enforce_detection=False)\n",
    "        # Remove image which can't detect the face\n",
    "        if result[0]['confidence'] != 0 and count < max_num_photo_for_person:\n",
    "            if len(images_path) >= min_num_photo_for_person:\n",
    "                data.append([person, img_path, 'Genuine'])\n",
    "            else: \n",
    "                data.append([person, img_path, 'Impostor'])\n",
    "        count += 1"
   ]
  },
  {
   "cell_type": "code",
   "execution_count": 9,
   "metadata": {},
   "outputs": [
    {
     "data": {
      "text/html": [
       "<div>\n",
       "<style scoped>\n",
       "    .dataframe tbody tr th:only-of-type {\n",
       "        vertical-align: middle;\n",
       "    }\n",
       "\n",
       "    .dataframe tbody tr th {\n",
       "        vertical-align: top;\n",
       "    }\n",
       "\n",
       "    .dataframe thead th {\n",
       "        text-align: right;\n",
       "    }\n",
       "</style>\n",
       "<table border=\"1\" class=\"dataframe\">\n",
       "  <thead>\n",
       "    <tr style=\"text-align: right;\">\n",
       "      <th></th>\n",
       "      <th>Person</th>\n",
       "      <th>Image_Path</th>\n",
       "      <th>Label</th>\n",
       "    </tr>\n",
       "  </thead>\n",
       "  <tbody>\n",
       "    <tr>\n",
       "      <th>0</th>\n",
       "      <td>Giuseppe_Gibilisco</td>\n",
       "      <td>dataset/Giuseppe_Gibilisco/Giuseppe_Gibilisco_...</td>\n",
       "      <td>Genuine</td>\n",
       "    </tr>\n",
       "    <tr>\n",
       "      <th>1</th>\n",
       "      <td>Giuseppe_Gibilisco</td>\n",
       "      <td>dataset/Giuseppe_Gibilisco/Giuseppe_Gibilisco_...</td>\n",
       "      <td>Genuine</td>\n",
       "    </tr>\n",
       "    <tr>\n",
       "      <th>2</th>\n",
       "      <td>Giuseppe_Gibilisco</td>\n",
       "      <td>dataset/Giuseppe_Gibilisco/Giuseppe_Gibilisco_...</td>\n",
       "      <td>Genuine</td>\n",
       "    </tr>\n",
       "    <tr>\n",
       "      <th>3</th>\n",
       "      <td>Giuseppe_Gibilisco</td>\n",
       "      <td>dataset/Giuseppe_Gibilisco/Giuseppe_Gibilisco_...</td>\n",
       "      <td>Genuine</td>\n",
       "    </tr>\n",
       "    <tr>\n",
       "      <th>4</th>\n",
       "      <td>Diana_Krall</td>\n",
       "      <td>dataset/Diana_Krall/Diana_Krall_0001.jpg</td>\n",
       "      <td>Genuine</td>\n",
       "    </tr>\n",
       "  </tbody>\n",
       "</table>\n",
       "</div>"
      ],
      "text/plain": [
       "               Person                                         Image_Path  \\\n",
       "0  Giuseppe_Gibilisco  dataset/Giuseppe_Gibilisco/Giuseppe_Gibilisco_...   \n",
       "1  Giuseppe_Gibilisco  dataset/Giuseppe_Gibilisco/Giuseppe_Gibilisco_...   \n",
       "2  Giuseppe_Gibilisco  dataset/Giuseppe_Gibilisco/Giuseppe_Gibilisco_...   \n",
       "3  Giuseppe_Gibilisco  dataset/Giuseppe_Gibilisco/Giuseppe_Gibilisco_...   \n",
       "4         Diana_Krall           dataset/Diana_Krall/Diana_Krall_0001.jpg   \n",
       "\n",
       "     Label  \n",
       "0  Genuine  \n",
       "1  Genuine  \n",
       "2  Genuine  \n",
       "3  Genuine  \n",
       "4  Genuine  "
      ]
     },
     "execution_count": 9,
     "metadata": {},
     "output_type": "execute_result"
    }
   ],
   "source": [
    "df = pd.DataFrame(data, columns=['Person', 'Image_Path', 'Label'])\n",
    "df.head()"
   ]
  },
  {
   "cell_type": "code",
   "execution_count": 11,
   "metadata": {},
   "outputs": [
    {
     "name": "stdout",
     "output_type": "stream",
     "text": [
      "The dataframe has a total of 9378 images\n",
      "The dataframe has 3925 Genuine Probes\n",
      "The dataframe has 5453 Impostor Probes\n"
     ]
    }
   ],
   "source": [
    "print(f'The dataframe has a total of {df.shape[0]} images')\n",
    "print(f\"The dataframe has {(df['Label'] == 'Genuine').sum()} Genuine Probes\")\n",
    "print(f\"The dataframe has {(df['Label'] == 'Impostor').sum()} Impostor Probes\")"
   ]
  },
  {
   "cell_type": "code",
   "execution_count": 12,
   "metadata": {},
   "outputs": [
    {
     "name": "stdout",
     "output_type": "stream",
     "text": [
      "The dataframe has a total of 901 Enrolled entities\n",
      "The dataframe has a total of 4717 Not Enrolled entities\n"
     ]
    }
   ],
   "source": [
    "person_genuine = set(df[df['Label'] == 'Genuine']['Person'].tolist())\n",
    "print(f'The dataframe has a total of {len(person_genuine)} Enrolled entities')\n",
    "\n",
    "person_impostor = set(df[df['Label'] == 'Impostor']['Person'].tolist())\n",
    "print(f'The dataframe has a total of {len(person_impostor)} Not Enrolled entities')"
   ]
  },
  {
   "cell_type": "markdown",
   "metadata": {},
   "source": [
    "## **3.2 Reduce the entities to 200** "
   ]
  },
  {
   "cell_type": "code",
   "execution_count": 26,
   "metadata": {},
   "outputs": [
    {
     "name": "stdout",
     "output_type": "stream",
     "text": [
      "Total enrolled in the new dataframe: 100\n",
      "The new dataframe has 425 Genuine Probes\n"
     ]
    }
   ],
   "source": [
    "selected_genuine = random.sample(list(person_genuine), 100)\n",
    "\n",
    "filtered_df = df[df['Person'].isin(selected_genuine)]\n",
    "genuine_df = pd.concat([filtered_df, df[df['Label'] == 'Impostor']])\n",
    "\n",
    "print(f\"Total enrolled in the new dataframe: {genuine_df[genuine_df['Label'] == 'Genuine']['Person'].nunique()}\")\n",
    "print(f\"The new dataframe has {(genuine_df['Label'] == 'Genuine').sum()} Genuine Probes\")"
   ]
  },
  {
   "cell_type": "code",
   "execution_count": 31,
   "metadata": {},
   "outputs": [
    {
     "name": "stdout",
     "output_type": "stream",
     "text": [
      "Total impostors in the new dataframe: 100\n",
      "Total enrolled in the new dataframe: 100\n",
      "The new dataframe has 437 Genuine Probes and 115 Impostor Probes\n"
     ]
    }
   ],
   "source": [
    "selected_impostors = random.sample(list(person_impostor), 100)\n",
    "\n",
    "filtered_impostor_df = genuine_df[genuine_df['Person'].isin(selected_impostors)]\n",
    "final_df = pd.concat([filtered_impostor_df, genuine_df[genuine_df['Label'] == 'Genuine']])\n",
    "\n",
    "print(f\"Total impostors in the new dataframe: {final_df[final_df['Label'] == 'Impostor']['Person'].nunique()}\")\n",
    "print(f\"Total enrolled in the new dataframe: {final_df[final_df['Label'] == 'Genuine']['Person'].nunique()}\")\n",
    "\n",
    "print(f\"The new dataframe has {(final_df['Label'] == 'Genuine').sum()} Genuine Probes and {(final_df['Label'] == 'Impostor').sum()} Impostor Probes\")"
   ]
  },
  {
   "cell_type": "code",
   "execution_count": 4,
   "metadata": {},
   "outputs": [
    {
     "data": {
      "text/html": [
       "<div>\n",
       "<style scoped>\n",
       "    .dataframe tbody tr th:only-of-type {\n",
       "        vertical-align: middle;\n",
       "    }\n",
       "\n",
       "    .dataframe tbody tr th {\n",
       "        vertical-align: top;\n",
       "    }\n",
       "\n",
       "    .dataframe thead th {\n",
       "        text-align: right;\n",
       "    }\n",
       "</style>\n",
       "<table border=\"1\" class=\"dataframe\">\n",
       "  <thead>\n",
       "    <tr style=\"text-align: right;\">\n",
       "      <th></th>\n",
       "      <th>Person</th>\n",
       "      <th>Image_Path</th>\n",
       "      <th>Label</th>\n",
       "    </tr>\n",
       "  </thead>\n",
       "  <tbody>\n",
       "    <tr>\n",
       "      <th>0</th>\n",
       "      <td>David_Kelly</td>\n",
       "      <td>lfw_dataset/David_Kelly/David_Kelly_0001.jpg</td>\n",
       "      <td>Impostor</td>\n",
       "    </tr>\n",
       "    <tr>\n",
       "      <th>1</th>\n",
       "      <td>Rafeeuddin_Ahmed</td>\n",
       "      <td>lfw_dataset/Rafeeuddin_Ahmed/Rafeeuddin_Ahmed_...</td>\n",
       "      <td>Impostor</td>\n",
       "    </tr>\n",
       "    <tr>\n",
       "      <th>2</th>\n",
       "      <td>Elva_Hsiao</td>\n",
       "      <td>lfw_dataset/Elva_Hsiao/Elva_Hsiao_0001.jpg</td>\n",
       "      <td>Impostor</td>\n",
       "    </tr>\n",
       "    <tr>\n",
       "      <th>3</th>\n",
       "      <td>Ruth_Dreifuss</td>\n",
       "      <td>lfw_dataset/Ruth_Dreifuss/Ruth_Dreifuss_0001.jpg</td>\n",
       "      <td>Impostor</td>\n",
       "    </tr>\n",
       "    <tr>\n",
       "      <th>4</th>\n",
       "      <td>Ruth_Dreifuss</td>\n",
       "      <td>lfw_dataset/Ruth_Dreifuss/Ruth_Dreifuss_0002.jpg</td>\n",
       "      <td>Impostor</td>\n",
       "    </tr>\n",
       "  </tbody>\n",
       "</table>\n",
       "</div>"
      ],
      "text/plain": [
       "             Person                                         Image_Path  \\\n",
       "0       David_Kelly       lfw_dataset/David_Kelly/David_Kelly_0001.jpg   \n",
       "1  Rafeeuddin_Ahmed  lfw_dataset/Rafeeuddin_Ahmed/Rafeeuddin_Ahmed_...   \n",
       "2        Elva_Hsiao         lfw_dataset/Elva_Hsiao/Elva_Hsiao_0001.jpg   \n",
       "3     Ruth_Dreifuss   lfw_dataset/Ruth_Dreifuss/Ruth_Dreifuss_0001.jpg   \n",
       "4     Ruth_Dreifuss   lfw_dataset/Ruth_Dreifuss/Ruth_Dreifuss_0002.jpg   \n",
       "\n",
       "      Label  \n",
       "0  Impostor  \n",
       "1  Impostor  \n",
       "2  Impostor  \n",
       "3  Impostor  \n",
       "4  Impostor  "
      ]
     },
     "execution_count": 4,
     "metadata": {},
     "output_type": "execute_result"
    }
   ],
   "source": [
    "final_df.head()"
   ]
  },
  {
   "cell_type": "code",
   "execution_count": 15,
   "metadata": {},
   "outputs": [],
   "source": [
    "final_df.to_csv('image_genuine_impostor.csv', index=False)"
   ]
  },
  {
   "cell_type": "markdown",
   "metadata": {},
   "source": [
    "# **4. Evaluation ALL-against-ALL approach** "
   ]
  },
  {
   "cell_type": "markdown",
   "metadata": {},
   "source": [
    "## **4.1 Generate matrix** "
   ]
  },
  {
   "cell_type": "code",
   "execution_count": 3,
   "metadata": {},
   "outputs": [],
   "source": [
    "final_df = pd.read_csv('image_genuine_impostor.csv')"
   ]
  },
  {
   "cell_type": "code",
   "execution_count": 33,
   "metadata": {},
   "outputs": [
    {
     "name": "stdout",
     "output_type": "stream",
     "text": [
      "The gallery contains 437 templates.\n",
      "There are 552 probes in total\n"
     ]
    }
   ],
   "source": [
    "gallery = final_df[final_df['Label'] == 'Genuine']['Image_Path'].tolist() # Column\n",
    "probes = final_df['Image_Path'].tolist() # Row\n",
    "\n",
    "print(f\"The gallery contains {len(gallery)} templates.\")\n",
    "print(f\"There are {len(probes)} probes in total\")"
   ]
  },
  {
   "cell_type": "code",
   "execution_count": 6,
   "metadata": {},
   "outputs": [],
   "source": [
    "distances = []"
   ]
  },
  {
   "cell_type": "markdown",
   "metadata": {},
   "source": [
    "Divide the probes into subsets and run them separately. To calculate the distance between two images, use the Deepface library by calling its function with the GhostFaceNet model."
   ]
  },
  {
   "cell_type": "code",
   "execution_count": 7,
   "metadata": {},
   "outputs": [
    {
     "name": "stdout",
     "output_type": "stream",
     "text": [
      "working on the row  540 lfw_dataset/Laura_Bush/Laura_Bush_0017.jpg\n",
      "working on the row  541 lfw_dataset/Lucy_Liu/Lucy_Liu_0004.jpg\n",
      "working on the row  542 lfw_dataset/Lucy_Liu/Lucy_Liu_0001.jpg\n",
      "working on the row  543 lfw_dataset/Lucy_Liu/Lucy_Liu_0003.jpg\n",
      "working on the row  544 lfw_dataset/Lucy_Liu/Lucy_Liu_0005.jpg\n",
      "working on the row  545 lfw_dataset/Lucy_Liu/Lucy_Liu_0002.jpg\n",
      "working on the row  546 lfw_dataset/Hu_Jintao/Hu_Jintao_0004.jpg\n",
      "working on the row  547 lfw_dataset/Hu_Jintao/Hu_Jintao_0002.jpg\n",
      "working on the row  548 lfw_dataset/Hu_Jintao/Hu_Jintao_0003.jpg\n",
      "working on the row  549 lfw_dataset/Hu_Jintao/Hu_Jintao_0001.jpg\n"
     ]
    }
   ],
   "source": [
    "count = 0\n",
    "for img2_path in probes[540:550]:\n",
    "    print(\"working on the row \", count, img2_path)\n",
    "    distances_row = []\n",
    "    for img1_path in gallery:\n",
    "        result = DeepFace.verify(img1_path=img1_path, img2_path = img2_path, model_name = 'GhostFaceNet')\n",
    "        distances_row.append(result['distance'])\n",
    "    distances.append(distances_row)\n",
    "    count += 1"
   ]
  },
  {
   "cell_type": "code",
   "execution_count": 10,
   "metadata": {},
   "outputs": [],
   "source": [
    "df_distanze = pd.DataFrame(distances, index=probes[540:550], columns=gallery)"
   ]
  },
  {
   "cell_type": "code",
   "execution_count": 11,
   "metadata": {},
   "outputs": [
    {
     "data": {
      "text/html": [
       "<div>\n",
       "<style scoped>\n",
       "    .dataframe tbody tr th:only-of-type {\n",
       "        vertical-align: middle;\n",
       "    }\n",
       "\n",
       "    .dataframe tbody tr th {\n",
       "        vertical-align: top;\n",
       "    }\n",
       "\n",
       "    .dataframe thead th {\n",
       "        text-align: right;\n",
       "    }\n",
       "</style>\n",
       "<table border=\"1\" class=\"dataframe\">\n",
       "  <thead>\n",
       "    <tr style=\"text-align: right;\">\n",
       "      <th></th>\n",
       "      <th>lfw_dataset/John_Warner/John_Warner_0002.jpg</th>\n",
       "      <th>lfw_dataset/John_Warner/John_Warner_0003.jpg</th>\n",
       "      <th>lfw_dataset/John_Warner/John_Warner_0004.jpg</th>\n",
       "      <th>lfw_dataset/John_Warner/John_Warner_0001.jpg</th>\n",
       "      <th>lfw_dataset/Candice_Bergen/Candice_Bergen_0003.jpg</th>\n",
       "      <th>lfw_dataset/Candice_Bergen/Candice_Bergen_0002.jpg</th>\n",
       "      <th>lfw_dataset/Candice_Bergen/Candice_Bergen_0001.jpg</th>\n",
       "      <th>lfw_dataset/Naoto_Kan/Naoto_Kan_0001.jpg</th>\n",
       "      <th>lfw_dataset/Naoto_Kan/Naoto_Kan_0004.jpg</th>\n",
       "      <th>lfw_dataset/Naoto_Kan/Naoto_Kan_0003.jpg</th>\n",
       "      <th>...</th>\n",
       "      <th>lfw_dataset/Lucy_Liu/Lucy_Liu_0001.jpg</th>\n",
       "      <th>lfw_dataset/Lucy_Liu/Lucy_Liu_0003.jpg</th>\n",
       "      <th>lfw_dataset/Lucy_Liu/Lucy_Liu_0005.jpg</th>\n",
       "      <th>lfw_dataset/Lucy_Liu/Lucy_Liu_0002.jpg</th>\n",
       "      <th>lfw_dataset/Hu_Jintao/Hu_Jintao_0004.jpg</th>\n",
       "      <th>lfw_dataset/Hu_Jintao/Hu_Jintao_0002.jpg</th>\n",
       "      <th>lfw_dataset/Hu_Jintao/Hu_Jintao_0003.jpg</th>\n",
       "      <th>lfw_dataset/Hu_Jintao/Hu_Jintao_0001.jpg</th>\n",
       "      <th>lfw_dataset/Hu_Jintao/Hu_Jintao_0014.jpg</th>\n",
       "      <th>lfw_dataset/Hu_Jintao/Hu_Jintao_0006.jpg</th>\n",
       "    </tr>\n",
       "  </thead>\n",
       "  <tbody>\n",
       "    <tr>\n",
       "      <th>lfw_dataset/Laura_Bush/Laura_Bush_0017.jpg</th>\n",
       "      <td>0.752520</td>\n",
       "      <td>0.849843</td>\n",
       "      <td>0.854745</td>\n",
       "      <td>0.882114</td>\n",
       "      <td>0.809179</td>\n",
       "      <td>0.865830</td>\n",
       "      <td>0.853882</td>\n",
       "      <td>0.967927</td>\n",
       "      <td>1.006749</td>\n",
       "      <td>0.929747</td>\n",
       "      <td>...</td>\n",
       "      <td>9.466756e-01</td>\n",
       "      <td>8.204558e-01</td>\n",
       "      <td>8.270963e-01</td>\n",
       "      <td>0.905781</td>\n",
       "      <td>0.926717</td>\n",
       "      <td>0.868164</td>\n",
       "      <td>0.897032</td>\n",
       "      <td>0.945776</td>\n",
       "      <td>0.880382</td>\n",
       "      <td>0.896276</td>\n",
       "    </tr>\n",
       "    <tr>\n",
       "      <th>lfw_dataset/Lucy_Liu/Lucy_Liu_0004.jpg</th>\n",
       "      <td>0.924644</td>\n",
       "      <td>0.905922</td>\n",
       "      <td>0.909250</td>\n",
       "      <td>1.000674</td>\n",
       "      <td>0.895732</td>\n",
       "      <td>0.894063</td>\n",
       "      <td>0.948856</td>\n",
       "      <td>1.090310</td>\n",
       "      <td>0.901296</td>\n",
       "      <td>1.057003</td>\n",
       "      <td>...</td>\n",
       "      <td>7.355845e-01</td>\n",
       "      <td>7.602012e-01</td>\n",
       "      <td>6.999691e-01</td>\n",
       "      <td>0.819989</td>\n",
       "      <td>0.929907</td>\n",
       "      <td>1.009370</td>\n",
       "      <td>0.861883</td>\n",
       "      <td>1.018286</td>\n",
       "      <td>0.987922</td>\n",
       "      <td>0.949948</td>\n",
       "    </tr>\n",
       "    <tr>\n",
       "      <th>lfw_dataset/Lucy_Liu/Lucy_Liu_0001.jpg</th>\n",
       "      <td>1.003570</td>\n",
       "      <td>0.883298</td>\n",
       "      <td>0.950991</td>\n",
       "      <td>0.972609</td>\n",
       "      <td>0.936451</td>\n",
       "      <td>0.974795</td>\n",
       "      <td>0.996513</td>\n",
       "      <td>1.125084</td>\n",
       "      <td>1.056322</td>\n",
       "      <td>1.134649</td>\n",
       "      <td>...</td>\n",
       "      <td>8.881784e-16</td>\n",
       "      <td>5.878089e-01</td>\n",
       "      <td>7.569015e-01</td>\n",
       "      <td>0.594975</td>\n",
       "      <td>0.890337</td>\n",
       "      <td>0.974384</td>\n",
       "      <td>0.922192</td>\n",
       "      <td>0.941528</td>\n",
       "      <td>1.106198</td>\n",
       "      <td>0.900562</td>\n",
       "    </tr>\n",
       "    <tr>\n",
       "      <th>lfw_dataset/Lucy_Liu/Lucy_Liu_0003.jpg</th>\n",
       "      <td>0.935340</td>\n",
       "      <td>0.887188</td>\n",
       "      <td>0.900366</td>\n",
       "      <td>0.902132</td>\n",
       "      <td>0.938120</td>\n",
       "      <td>0.874369</td>\n",
       "      <td>1.024620</td>\n",
       "      <td>0.986906</td>\n",
       "      <td>1.052324</td>\n",
       "      <td>1.074596</td>\n",
       "      <td>...</td>\n",
       "      <td>5.878089e-01</td>\n",
       "      <td>8.881784e-16</td>\n",
       "      <td>4.605242e-01</td>\n",
       "      <td>0.488165</td>\n",
       "      <td>0.967214</td>\n",
       "      <td>0.844855</td>\n",
       "      <td>0.990130</td>\n",
       "      <td>1.064681</td>\n",
       "      <td>1.015969</td>\n",
       "      <td>0.870349</td>\n",
       "    </tr>\n",
       "    <tr>\n",
       "      <th>lfw_dataset/Lucy_Liu/Lucy_Liu_0005.jpg</th>\n",
       "      <td>0.975447</td>\n",
       "      <td>0.905764</td>\n",
       "      <td>0.904695</td>\n",
       "      <td>0.955834</td>\n",
       "      <td>0.909418</td>\n",
       "      <td>0.968866</td>\n",
       "      <td>1.031620</td>\n",
       "      <td>0.934214</td>\n",
       "      <td>0.904791</td>\n",
       "      <td>0.983057</td>\n",
       "      <td>...</td>\n",
       "      <td>7.569015e-01</td>\n",
       "      <td>4.605242e-01</td>\n",
       "      <td>6.661338e-16</td>\n",
       "      <td>0.593072</td>\n",
       "      <td>1.000690</td>\n",
       "      <td>0.991285</td>\n",
       "      <td>1.028442</td>\n",
       "      <td>1.023868</td>\n",
       "      <td>1.068257</td>\n",
       "      <td>0.987472</td>\n",
       "    </tr>\n",
       "  </tbody>\n",
       "</table>\n",
       "<p>5 rows × 437 columns</p>\n",
       "</div>"
      ],
      "text/plain": [
       "                                            lfw_dataset/John_Warner/John_Warner_0002.jpg  \\\n",
       "lfw_dataset/Laura_Bush/Laura_Bush_0017.jpg                                      0.752520   \n",
       "lfw_dataset/Lucy_Liu/Lucy_Liu_0004.jpg                                          0.924644   \n",
       "lfw_dataset/Lucy_Liu/Lucy_Liu_0001.jpg                                          1.003570   \n",
       "lfw_dataset/Lucy_Liu/Lucy_Liu_0003.jpg                                          0.935340   \n",
       "lfw_dataset/Lucy_Liu/Lucy_Liu_0005.jpg                                          0.975447   \n",
       "\n",
       "                                            lfw_dataset/John_Warner/John_Warner_0003.jpg  \\\n",
       "lfw_dataset/Laura_Bush/Laura_Bush_0017.jpg                                      0.849843   \n",
       "lfw_dataset/Lucy_Liu/Lucy_Liu_0004.jpg                                          0.905922   \n",
       "lfw_dataset/Lucy_Liu/Lucy_Liu_0001.jpg                                          0.883298   \n",
       "lfw_dataset/Lucy_Liu/Lucy_Liu_0003.jpg                                          0.887188   \n",
       "lfw_dataset/Lucy_Liu/Lucy_Liu_0005.jpg                                          0.905764   \n",
       "\n",
       "                                            lfw_dataset/John_Warner/John_Warner_0004.jpg  \\\n",
       "lfw_dataset/Laura_Bush/Laura_Bush_0017.jpg                                      0.854745   \n",
       "lfw_dataset/Lucy_Liu/Lucy_Liu_0004.jpg                                          0.909250   \n",
       "lfw_dataset/Lucy_Liu/Lucy_Liu_0001.jpg                                          0.950991   \n",
       "lfw_dataset/Lucy_Liu/Lucy_Liu_0003.jpg                                          0.900366   \n",
       "lfw_dataset/Lucy_Liu/Lucy_Liu_0005.jpg                                          0.904695   \n",
       "\n",
       "                                            lfw_dataset/John_Warner/John_Warner_0001.jpg  \\\n",
       "lfw_dataset/Laura_Bush/Laura_Bush_0017.jpg                                      0.882114   \n",
       "lfw_dataset/Lucy_Liu/Lucy_Liu_0004.jpg                                          1.000674   \n",
       "lfw_dataset/Lucy_Liu/Lucy_Liu_0001.jpg                                          0.972609   \n",
       "lfw_dataset/Lucy_Liu/Lucy_Liu_0003.jpg                                          0.902132   \n",
       "lfw_dataset/Lucy_Liu/Lucy_Liu_0005.jpg                                          0.955834   \n",
       "\n",
       "                                            lfw_dataset/Candice_Bergen/Candice_Bergen_0003.jpg  \\\n",
       "lfw_dataset/Laura_Bush/Laura_Bush_0017.jpg                                           0.809179    \n",
       "lfw_dataset/Lucy_Liu/Lucy_Liu_0004.jpg                                               0.895732    \n",
       "lfw_dataset/Lucy_Liu/Lucy_Liu_0001.jpg                                               0.936451    \n",
       "lfw_dataset/Lucy_Liu/Lucy_Liu_0003.jpg                                               0.938120    \n",
       "lfw_dataset/Lucy_Liu/Lucy_Liu_0005.jpg                                               0.909418    \n",
       "\n",
       "                                            lfw_dataset/Candice_Bergen/Candice_Bergen_0002.jpg  \\\n",
       "lfw_dataset/Laura_Bush/Laura_Bush_0017.jpg                                           0.865830    \n",
       "lfw_dataset/Lucy_Liu/Lucy_Liu_0004.jpg                                               0.894063    \n",
       "lfw_dataset/Lucy_Liu/Lucy_Liu_0001.jpg                                               0.974795    \n",
       "lfw_dataset/Lucy_Liu/Lucy_Liu_0003.jpg                                               0.874369    \n",
       "lfw_dataset/Lucy_Liu/Lucy_Liu_0005.jpg                                               0.968866    \n",
       "\n",
       "                                            lfw_dataset/Candice_Bergen/Candice_Bergen_0001.jpg  \\\n",
       "lfw_dataset/Laura_Bush/Laura_Bush_0017.jpg                                           0.853882    \n",
       "lfw_dataset/Lucy_Liu/Lucy_Liu_0004.jpg                                               0.948856    \n",
       "lfw_dataset/Lucy_Liu/Lucy_Liu_0001.jpg                                               0.996513    \n",
       "lfw_dataset/Lucy_Liu/Lucy_Liu_0003.jpg                                               1.024620    \n",
       "lfw_dataset/Lucy_Liu/Lucy_Liu_0005.jpg                                               1.031620    \n",
       "\n",
       "                                            lfw_dataset/Naoto_Kan/Naoto_Kan_0001.jpg  \\\n",
       "lfw_dataset/Laura_Bush/Laura_Bush_0017.jpg                                  0.967927   \n",
       "lfw_dataset/Lucy_Liu/Lucy_Liu_0004.jpg                                      1.090310   \n",
       "lfw_dataset/Lucy_Liu/Lucy_Liu_0001.jpg                                      1.125084   \n",
       "lfw_dataset/Lucy_Liu/Lucy_Liu_0003.jpg                                      0.986906   \n",
       "lfw_dataset/Lucy_Liu/Lucy_Liu_0005.jpg                                      0.934214   \n",
       "\n",
       "                                            lfw_dataset/Naoto_Kan/Naoto_Kan_0004.jpg  \\\n",
       "lfw_dataset/Laura_Bush/Laura_Bush_0017.jpg                                  1.006749   \n",
       "lfw_dataset/Lucy_Liu/Lucy_Liu_0004.jpg                                      0.901296   \n",
       "lfw_dataset/Lucy_Liu/Lucy_Liu_0001.jpg                                      1.056322   \n",
       "lfw_dataset/Lucy_Liu/Lucy_Liu_0003.jpg                                      1.052324   \n",
       "lfw_dataset/Lucy_Liu/Lucy_Liu_0005.jpg                                      0.904791   \n",
       "\n",
       "                                            lfw_dataset/Naoto_Kan/Naoto_Kan_0003.jpg  \\\n",
       "lfw_dataset/Laura_Bush/Laura_Bush_0017.jpg                                  0.929747   \n",
       "lfw_dataset/Lucy_Liu/Lucy_Liu_0004.jpg                                      1.057003   \n",
       "lfw_dataset/Lucy_Liu/Lucy_Liu_0001.jpg                                      1.134649   \n",
       "lfw_dataset/Lucy_Liu/Lucy_Liu_0003.jpg                                      1.074596   \n",
       "lfw_dataset/Lucy_Liu/Lucy_Liu_0005.jpg                                      0.983057   \n",
       "\n",
       "                                            ...  \\\n",
       "lfw_dataset/Laura_Bush/Laura_Bush_0017.jpg  ...   \n",
       "lfw_dataset/Lucy_Liu/Lucy_Liu_0004.jpg      ...   \n",
       "lfw_dataset/Lucy_Liu/Lucy_Liu_0001.jpg      ...   \n",
       "lfw_dataset/Lucy_Liu/Lucy_Liu_0003.jpg      ...   \n",
       "lfw_dataset/Lucy_Liu/Lucy_Liu_0005.jpg      ...   \n",
       "\n",
       "                                            lfw_dataset/Lucy_Liu/Lucy_Liu_0001.jpg  \\\n",
       "lfw_dataset/Laura_Bush/Laura_Bush_0017.jpg                            9.466756e-01   \n",
       "lfw_dataset/Lucy_Liu/Lucy_Liu_0004.jpg                                7.355845e-01   \n",
       "lfw_dataset/Lucy_Liu/Lucy_Liu_0001.jpg                                8.881784e-16   \n",
       "lfw_dataset/Lucy_Liu/Lucy_Liu_0003.jpg                                5.878089e-01   \n",
       "lfw_dataset/Lucy_Liu/Lucy_Liu_0005.jpg                                7.569015e-01   \n",
       "\n",
       "                                            lfw_dataset/Lucy_Liu/Lucy_Liu_0003.jpg  \\\n",
       "lfw_dataset/Laura_Bush/Laura_Bush_0017.jpg                            8.204558e-01   \n",
       "lfw_dataset/Lucy_Liu/Lucy_Liu_0004.jpg                                7.602012e-01   \n",
       "lfw_dataset/Lucy_Liu/Lucy_Liu_0001.jpg                                5.878089e-01   \n",
       "lfw_dataset/Lucy_Liu/Lucy_Liu_0003.jpg                                8.881784e-16   \n",
       "lfw_dataset/Lucy_Liu/Lucy_Liu_0005.jpg                                4.605242e-01   \n",
       "\n",
       "                                            lfw_dataset/Lucy_Liu/Lucy_Liu_0005.jpg  \\\n",
       "lfw_dataset/Laura_Bush/Laura_Bush_0017.jpg                            8.270963e-01   \n",
       "lfw_dataset/Lucy_Liu/Lucy_Liu_0004.jpg                                6.999691e-01   \n",
       "lfw_dataset/Lucy_Liu/Lucy_Liu_0001.jpg                                7.569015e-01   \n",
       "lfw_dataset/Lucy_Liu/Lucy_Liu_0003.jpg                                4.605242e-01   \n",
       "lfw_dataset/Lucy_Liu/Lucy_Liu_0005.jpg                                6.661338e-16   \n",
       "\n",
       "                                            lfw_dataset/Lucy_Liu/Lucy_Liu_0002.jpg  \\\n",
       "lfw_dataset/Laura_Bush/Laura_Bush_0017.jpg                                0.905781   \n",
       "lfw_dataset/Lucy_Liu/Lucy_Liu_0004.jpg                                    0.819989   \n",
       "lfw_dataset/Lucy_Liu/Lucy_Liu_0001.jpg                                    0.594975   \n",
       "lfw_dataset/Lucy_Liu/Lucy_Liu_0003.jpg                                    0.488165   \n",
       "lfw_dataset/Lucy_Liu/Lucy_Liu_0005.jpg                                    0.593072   \n",
       "\n",
       "                                            lfw_dataset/Hu_Jintao/Hu_Jintao_0004.jpg  \\\n",
       "lfw_dataset/Laura_Bush/Laura_Bush_0017.jpg                                  0.926717   \n",
       "lfw_dataset/Lucy_Liu/Lucy_Liu_0004.jpg                                      0.929907   \n",
       "lfw_dataset/Lucy_Liu/Lucy_Liu_0001.jpg                                      0.890337   \n",
       "lfw_dataset/Lucy_Liu/Lucy_Liu_0003.jpg                                      0.967214   \n",
       "lfw_dataset/Lucy_Liu/Lucy_Liu_0005.jpg                                      1.000690   \n",
       "\n",
       "                                            lfw_dataset/Hu_Jintao/Hu_Jintao_0002.jpg  \\\n",
       "lfw_dataset/Laura_Bush/Laura_Bush_0017.jpg                                  0.868164   \n",
       "lfw_dataset/Lucy_Liu/Lucy_Liu_0004.jpg                                      1.009370   \n",
       "lfw_dataset/Lucy_Liu/Lucy_Liu_0001.jpg                                      0.974384   \n",
       "lfw_dataset/Lucy_Liu/Lucy_Liu_0003.jpg                                      0.844855   \n",
       "lfw_dataset/Lucy_Liu/Lucy_Liu_0005.jpg                                      0.991285   \n",
       "\n",
       "                                            lfw_dataset/Hu_Jintao/Hu_Jintao_0003.jpg  \\\n",
       "lfw_dataset/Laura_Bush/Laura_Bush_0017.jpg                                  0.897032   \n",
       "lfw_dataset/Lucy_Liu/Lucy_Liu_0004.jpg                                      0.861883   \n",
       "lfw_dataset/Lucy_Liu/Lucy_Liu_0001.jpg                                      0.922192   \n",
       "lfw_dataset/Lucy_Liu/Lucy_Liu_0003.jpg                                      0.990130   \n",
       "lfw_dataset/Lucy_Liu/Lucy_Liu_0005.jpg                                      1.028442   \n",
       "\n",
       "                                            lfw_dataset/Hu_Jintao/Hu_Jintao_0001.jpg  \\\n",
       "lfw_dataset/Laura_Bush/Laura_Bush_0017.jpg                                  0.945776   \n",
       "lfw_dataset/Lucy_Liu/Lucy_Liu_0004.jpg                                      1.018286   \n",
       "lfw_dataset/Lucy_Liu/Lucy_Liu_0001.jpg                                      0.941528   \n",
       "lfw_dataset/Lucy_Liu/Lucy_Liu_0003.jpg                                      1.064681   \n",
       "lfw_dataset/Lucy_Liu/Lucy_Liu_0005.jpg                                      1.023868   \n",
       "\n",
       "                                            lfw_dataset/Hu_Jintao/Hu_Jintao_0014.jpg  \\\n",
       "lfw_dataset/Laura_Bush/Laura_Bush_0017.jpg                                  0.880382   \n",
       "lfw_dataset/Lucy_Liu/Lucy_Liu_0004.jpg                                      0.987922   \n",
       "lfw_dataset/Lucy_Liu/Lucy_Liu_0001.jpg                                      1.106198   \n",
       "lfw_dataset/Lucy_Liu/Lucy_Liu_0003.jpg                                      1.015969   \n",
       "lfw_dataset/Lucy_Liu/Lucy_Liu_0005.jpg                                      1.068257   \n",
       "\n",
       "                                            lfw_dataset/Hu_Jintao/Hu_Jintao_0006.jpg  \n",
       "lfw_dataset/Laura_Bush/Laura_Bush_0017.jpg                                  0.896276  \n",
       "lfw_dataset/Lucy_Liu/Lucy_Liu_0004.jpg                                      0.949948  \n",
       "lfw_dataset/Lucy_Liu/Lucy_Liu_0001.jpg                                      0.900562  \n",
       "lfw_dataset/Lucy_Liu/Lucy_Liu_0003.jpg                                      0.870349  \n",
       "lfw_dataset/Lucy_Liu/Lucy_Liu_0005.jpg                                      0.987472  \n",
       "\n",
       "[5 rows x 437 columns]"
      ]
     },
     "execution_count": 11,
     "metadata": {},
     "output_type": "execute_result"
    }
   ],
   "source": [
    "df_distanze.head()"
   ]
  },
  {
   "cell_type": "code",
   "execution_count": 12,
   "metadata": {},
   "outputs": [],
   "source": [
    "df_distanze_old = pd.read_csv('distance_matrix.csv', index_col=0)"
   ]
  },
  {
   "cell_type": "code",
   "execution_count": 13,
   "metadata": {},
   "outputs": [
    {
     "name": "stdout",
     "output_type": "stream",
     "text": [
      "Shape of df1: (10, 437)\n",
      "Shape of df2: (542, 437)\n"
     ]
    }
   ],
   "source": [
    "print(\"Shape of df1:\", df_distanze.shape)\n",
    "print(\"Shape of df2:\", df_distanze_old.shape)"
   ]
  },
  {
   "cell_type": "code",
   "execution_count": 14,
   "metadata": {},
   "outputs": [
    {
     "name": "stdout",
     "output_type": "stream",
     "text": [
      "Shape of df_new: (552, 437)\n"
     ]
    }
   ],
   "source": [
    "# Concatenating the dataframes\n",
    "df_distanze_new = pd.concat([df_distanze_old, df_distanze], ignore_index=False)\n",
    "print(\"Shape of df_new:\", df_distanze_new.shape)"
   ]
  },
  {
   "cell_type": "code",
   "execution_count": 15,
   "metadata": {},
   "outputs": [],
   "source": [
    "df_distanze_new.to_csv('distance_matrix.csv')"
   ]
  },
  {
   "cell_type": "markdown",
   "metadata": {},
   "source": [
    "## **4.2 Evaluation** "
   ]
  },
  {
   "cell_type": "code",
   "execution_count": 3,
   "metadata": {},
   "outputs": [],
   "source": [
    "df_matrix = pd.read_csv('distance_matrix.csv', index_col=0)"
   ]
  },
  {
   "cell_type": "code",
   "execution_count": 6,
   "metadata": {},
   "outputs": [
    {
     "data": {
      "text/html": [
       "<div>\n",
       "<style scoped>\n",
       "    .dataframe tbody tr th:only-of-type {\n",
       "        vertical-align: middle;\n",
       "    }\n",
       "\n",
       "    .dataframe tbody tr th {\n",
       "        vertical-align: top;\n",
       "    }\n",
       "\n",
       "    .dataframe thead th {\n",
       "        text-align: right;\n",
       "    }\n",
       "</style>\n",
       "<table border=\"1\" class=\"dataframe\">\n",
       "  <thead>\n",
       "    <tr style=\"text-align: right;\">\n",
       "      <th></th>\n",
       "      <th>lfw_dataset/John_Warner/John_Warner_0002.jpg</th>\n",
       "      <th>lfw_dataset/John_Warner/John_Warner_0003.jpg</th>\n",
       "      <th>lfw_dataset/John_Warner/John_Warner_0004.jpg</th>\n",
       "      <th>lfw_dataset/John_Warner/John_Warner_0001.jpg</th>\n",
       "      <th>lfw_dataset/Candice_Bergen/Candice_Bergen_0003.jpg</th>\n",
       "      <th>lfw_dataset/Candice_Bergen/Candice_Bergen_0002.jpg</th>\n",
       "      <th>lfw_dataset/Candice_Bergen/Candice_Bergen_0001.jpg</th>\n",
       "      <th>lfw_dataset/Naoto_Kan/Naoto_Kan_0001.jpg</th>\n",
       "      <th>lfw_dataset/Naoto_Kan/Naoto_Kan_0004.jpg</th>\n",
       "      <th>lfw_dataset/Naoto_Kan/Naoto_Kan_0003.jpg</th>\n",
       "      <th>...</th>\n",
       "      <th>lfw_dataset/Lucy_Liu/Lucy_Liu_0001.jpg</th>\n",
       "      <th>lfw_dataset/Lucy_Liu/Lucy_Liu_0003.jpg</th>\n",
       "      <th>lfw_dataset/Lucy_Liu/Lucy_Liu_0005.jpg</th>\n",
       "      <th>lfw_dataset/Lucy_Liu/Lucy_Liu_0002.jpg</th>\n",
       "      <th>lfw_dataset/Hu_Jintao/Hu_Jintao_0004.jpg</th>\n",
       "      <th>lfw_dataset/Hu_Jintao/Hu_Jintao_0002.jpg</th>\n",
       "      <th>lfw_dataset/Hu_Jintao/Hu_Jintao_0003.jpg</th>\n",
       "      <th>lfw_dataset/Hu_Jintao/Hu_Jintao_0001.jpg</th>\n",
       "      <th>lfw_dataset/Hu_Jintao/Hu_Jintao_0014.jpg</th>\n",
       "      <th>lfw_dataset/Hu_Jintao/Hu_Jintao_0006.jpg</th>\n",
       "    </tr>\n",
       "  </thead>\n",
       "  <tbody>\n",
       "    <tr>\n",
       "      <th>lfw_dataset/David_Kelly/David_Kelly_0001.jpg</th>\n",
       "      <td>0.879116</td>\n",
       "      <td>0.942266</td>\n",
       "      <td>0.924329</td>\n",
       "      <td>0.979727</td>\n",
       "      <td>1.105893</td>\n",
       "      <td>0.989984</td>\n",
       "      <td>0.944206</td>\n",
       "      <td>1.048207</td>\n",
       "      <td>0.914631</td>\n",
       "      <td>1.041607</td>\n",
       "      <td>...</td>\n",
       "      <td>0.973548</td>\n",
       "      <td>0.908894</td>\n",
       "      <td>0.878789</td>\n",
       "      <td>1.047840</td>\n",
       "      <td>1.118613</td>\n",
       "      <td>1.088277</td>\n",
       "      <td>1.069035</td>\n",
       "      <td>1.126395</td>\n",
       "      <td>1.028905</td>\n",
       "      <td>0.988939</td>\n",
       "    </tr>\n",
       "    <tr>\n",
       "      <th>lfw_dataset/Rafeeuddin_Ahmed/Rafeeuddin_Ahmed_0001.jpg</th>\n",
       "      <td>0.980195</td>\n",
       "      <td>1.079067</td>\n",
       "      <td>0.995905</td>\n",
       "      <td>1.050768</td>\n",
       "      <td>0.984404</td>\n",
       "      <td>0.950706</td>\n",
       "      <td>1.017019</td>\n",
       "      <td>1.063993</td>\n",
       "      <td>1.039084</td>\n",
       "      <td>1.035873</td>\n",
       "      <td>...</td>\n",
       "      <td>0.954869</td>\n",
       "      <td>1.025906</td>\n",
       "      <td>0.979935</td>\n",
       "      <td>0.960934</td>\n",
       "      <td>1.001140</td>\n",
       "      <td>1.053817</td>\n",
       "      <td>0.999691</td>\n",
       "      <td>0.993549</td>\n",
       "      <td>1.100012</td>\n",
       "      <td>1.014586</td>\n",
       "    </tr>\n",
       "    <tr>\n",
       "      <th>lfw_dataset/Elva_Hsiao/Elva_Hsiao_0001.jpg</th>\n",
       "      <td>0.930730</td>\n",
       "      <td>0.961095</td>\n",
       "      <td>1.011984</td>\n",
       "      <td>1.060170</td>\n",
       "      <td>0.943128</td>\n",
       "      <td>0.891116</td>\n",
       "      <td>0.889607</td>\n",
       "      <td>0.916384</td>\n",
       "      <td>0.954518</td>\n",
       "      <td>0.953805</td>\n",
       "      <td>...</td>\n",
       "      <td>0.907405</td>\n",
       "      <td>0.914287</td>\n",
       "      <td>0.964144</td>\n",
       "      <td>0.873216</td>\n",
       "      <td>1.033899</td>\n",
       "      <td>0.983167</td>\n",
       "      <td>1.085014</td>\n",
       "      <td>1.115104</td>\n",
       "      <td>1.078906</td>\n",
       "      <td>0.981097</td>\n",
       "    </tr>\n",
       "    <tr>\n",
       "      <th>lfw_dataset/Ruth_Dreifuss/Ruth_Dreifuss_0001.jpg</th>\n",
       "      <td>0.889052</td>\n",
       "      <td>0.948400</td>\n",
       "      <td>0.918185</td>\n",
       "      <td>0.969964</td>\n",
       "      <td>0.978780</td>\n",
       "      <td>0.928985</td>\n",
       "      <td>1.196540</td>\n",
       "      <td>1.042635</td>\n",
       "      <td>0.992588</td>\n",
       "      <td>1.022940</td>\n",
       "      <td>...</td>\n",
       "      <td>1.050190</td>\n",
       "      <td>0.950575</td>\n",
       "      <td>0.967188</td>\n",
       "      <td>0.940902</td>\n",
       "      <td>0.924669</td>\n",
       "      <td>0.937227</td>\n",
       "      <td>0.943346</td>\n",
       "      <td>0.947962</td>\n",
       "      <td>0.896843</td>\n",
       "      <td>0.959814</td>\n",
       "    </tr>\n",
       "    <tr>\n",
       "      <th>lfw_dataset/Ruth_Dreifuss/Ruth_Dreifuss_0002.jpg</th>\n",
       "      <td>0.879719</td>\n",
       "      <td>0.982314</td>\n",
       "      <td>0.906765</td>\n",
       "      <td>0.927681</td>\n",
       "      <td>0.966522</td>\n",
       "      <td>0.954642</td>\n",
       "      <td>1.051315</td>\n",
       "      <td>1.019228</td>\n",
       "      <td>0.983995</td>\n",
       "      <td>1.028311</td>\n",
       "      <td>...</td>\n",
       "      <td>1.075924</td>\n",
       "      <td>0.904474</td>\n",
       "      <td>0.815829</td>\n",
       "      <td>0.968696</td>\n",
       "      <td>1.031271</td>\n",
       "      <td>0.897242</td>\n",
       "      <td>1.049617</td>\n",
       "      <td>0.989342</td>\n",
       "      <td>1.022758</td>\n",
       "      <td>0.979616</td>\n",
       "    </tr>\n",
       "  </tbody>\n",
       "</table>\n",
       "<p>5 rows × 437 columns</p>\n",
       "</div>"
      ],
      "text/plain": [
       "                                                    lfw_dataset/John_Warner/John_Warner_0002.jpg  \\\n",
       "lfw_dataset/David_Kelly/David_Kelly_0001.jpg                                            0.879116   \n",
       "lfw_dataset/Rafeeuddin_Ahmed/Rafeeuddin_Ahmed_0...                                      0.980195   \n",
       "lfw_dataset/Elva_Hsiao/Elva_Hsiao_0001.jpg                                              0.930730   \n",
       "lfw_dataset/Ruth_Dreifuss/Ruth_Dreifuss_0001.jpg                                        0.889052   \n",
       "lfw_dataset/Ruth_Dreifuss/Ruth_Dreifuss_0002.jpg                                        0.879719   \n",
       "\n",
       "                                                    lfw_dataset/John_Warner/John_Warner_0003.jpg  \\\n",
       "lfw_dataset/David_Kelly/David_Kelly_0001.jpg                                            0.942266   \n",
       "lfw_dataset/Rafeeuddin_Ahmed/Rafeeuddin_Ahmed_0...                                      1.079067   \n",
       "lfw_dataset/Elva_Hsiao/Elva_Hsiao_0001.jpg                                              0.961095   \n",
       "lfw_dataset/Ruth_Dreifuss/Ruth_Dreifuss_0001.jpg                                        0.948400   \n",
       "lfw_dataset/Ruth_Dreifuss/Ruth_Dreifuss_0002.jpg                                        0.982314   \n",
       "\n",
       "                                                    lfw_dataset/John_Warner/John_Warner_0004.jpg  \\\n",
       "lfw_dataset/David_Kelly/David_Kelly_0001.jpg                                            0.924329   \n",
       "lfw_dataset/Rafeeuddin_Ahmed/Rafeeuddin_Ahmed_0...                                      0.995905   \n",
       "lfw_dataset/Elva_Hsiao/Elva_Hsiao_0001.jpg                                              1.011984   \n",
       "lfw_dataset/Ruth_Dreifuss/Ruth_Dreifuss_0001.jpg                                        0.918185   \n",
       "lfw_dataset/Ruth_Dreifuss/Ruth_Dreifuss_0002.jpg                                        0.906765   \n",
       "\n",
       "                                                    lfw_dataset/John_Warner/John_Warner_0001.jpg  \\\n",
       "lfw_dataset/David_Kelly/David_Kelly_0001.jpg                                            0.979727   \n",
       "lfw_dataset/Rafeeuddin_Ahmed/Rafeeuddin_Ahmed_0...                                      1.050768   \n",
       "lfw_dataset/Elva_Hsiao/Elva_Hsiao_0001.jpg                                              1.060170   \n",
       "lfw_dataset/Ruth_Dreifuss/Ruth_Dreifuss_0001.jpg                                        0.969964   \n",
       "lfw_dataset/Ruth_Dreifuss/Ruth_Dreifuss_0002.jpg                                        0.927681   \n",
       "\n",
       "                                                    lfw_dataset/Candice_Bergen/Candice_Bergen_0003.jpg  \\\n",
       "lfw_dataset/David_Kelly/David_Kelly_0001.jpg                                                 1.105893    \n",
       "lfw_dataset/Rafeeuddin_Ahmed/Rafeeuddin_Ahmed_0...                                           0.984404    \n",
       "lfw_dataset/Elva_Hsiao/Elva_Hsiao_0001.jpg                                                   0.943128    \n",
       "lfw_dataset/Ruth_Dreifuss/Ruth_Dreifuss_0001.jpg                                             0.978780    \n",
       "lfw_dataset/Ruth_Dreifuss/Ruth_Dreifuss_0002.jpg                                             0.966522    \n",
       "\n",
       "                                                    lfw_dataset/Candice_Bergen/Candice_Bergen_0002.jpg  \\\n",
       "lfw_dataset/David_Kelly/David_Kelly_0001.jpg                                                 0.989984    \n",
       "lfw_dataset/Rafeeuddin_Ahmed/Rafeeuddin_Ahmed_0...                                           0.950706    \n",
       "lfw_dataset/Elva_Hsiao/Elva_Hsiao_0001.jpg                                                   0.891116    \n",
       "lfw_dataset/Ruth_Dreifuss/Ruth_Dreifuss_0001.jpg                                             0.928985    \n",
       "lfw_dataset/Ruth_Dreifuss/Ruth_Dreifuss_0002.jpg                                             0.954642    \n",
       "\n",
       "                                                    lfw_dataset/Candice_Bergen/Candice_Bergen_0001.jpg  \\\n",
       "lfw_dataset/David_Kelly/David_Kelly_0001.jpg                                                 0.944206    \n",
       "lfw_dataset/Rafeeuddin_Ahmed/Rafeeuddin_Ahmed_0...                                           1.017019    \n",
       "lfw_dataset/Elva_Hsiao/Elva_Hsiao_0001.jpg                                                   0.889607    \n",
       "lfw_dataset/Ruth_Dreifuss/Ruth_Dreifuss_0001.jpg                                             1.196540    \n",
       "lfw_dataset/Ruth_Dreifuss/Ruth_Dreifuss_0002.jpg                                             1.051315    \n",
       "\n",
       "                                                    lfw_dataset/Naoto_Kan/Naoto_Kan_0001.jpg  \\\n",
       "lfw_dataset/David_Kelly/David_Kelly_0001.jpg                                        1.048207   \n",
       "lfw_dataset/Rafeeuddin_Ahmed/Rafeeuddin_Ahmed_0...                                  1.063993   \n",
       "lfw_dataset/Elva_Hsiao/Elva_Hsiao_0001.jpg                                          0.916384   \n",
       "lfw_dataset/Ruth_Dreifuss/Ruth_Dreifuss_0001.jpg                                    1.042635   \n",
       "lfw_dataset/Ruth_Dreifuss/Ruth_Dreifuss_0002.jpg                                    1.019228   \n",
       "\n",
       "                                                    lfw_dataset/Naoto_Kan/Naoto_Kan_0004.jpg  \\\n",
       "lfw_dataset/David_Kelly/David_Kelly_0001.jpg                                        0.914631   \n",
       "lfw_dataset/Rafeeuddin_Ahmed/Rafeeuddin_Ahmed_0...                                  1.039084   \n",
       "lfw_dataset/Elva_Hsiao/Elva_Hsiao_0001.jpg                                          0.954518   \n",
       "lfw_dataset/Ruth_Dreifuss/Ruth_Dreifuss_0001.jpg                                    0.992588   \n",
       "lfw_dataset/Ruth_Dreifuss/Ruth_Dreifuss_0002.jpg                                    0.983995   \n",
       "\n",
       "                                                    lfw_dataset/Naoto_Kan/Naoto_Kan_0003.jpg  \\\n",
       "lfw_dataset/David_Kelly/David_Kelly_0001.jpg                                        1.041607   \n",
       "lfw_dataset/Rafeeuddin_Ahmed/Rafeeuddin_Ahmed_0...                                  1.035873   \n",
       "lfw_dataset/Elva_Hsiao/Elva_Hsiao_0001.jpg                                          0.953805   \n",
       "lfw_dataset/Ruth_Dreifuss/Ruth_Dreifuss_0001.jpg                                    1.022940   \n",
       "lfw_dataset/Ruth_Dreifuss/Ruth_Dreifuss_0002.jpg                                    1.028311   \n",
       "\n",
       "                                                    ...  \\\n",
       "lfw_dataset/David_Kelly/David_Kelly_0001.jpg        ...   \n",
       "lfw_dataset/Rafeeuddin_Ahmed/Rafeeuddin_Ahmed_0...  ...   \n",
       "lfw_dataset/Elva_Hsiao/Elva_Hsiao_0001.jpg          ...   \n",
       "lfw_dataset/Ruth_Dreifuss/Ruth_Dreifuss_0001.jpg    ...   \n",
       "lfw_dataset/Ruth_Dreifuss/Ruth_Dreifuss_0002.jpg    ...   \n",
       "\n",
       "                                                    lfw_dataset/Lucy_Liu/Lucy_Liu_0001.jpg  \\\n",
       "lfw_dataset/David_Kelly/David_Kelly_0001.jpg                                      0.973548   \n",
       "lfw_dataset/Rafeeuddin_Ahmed/Rafeeuddin_Ahmed_0...                                0.954869   \n",
       "lfw_dataset/Elva_Hsiao/Elva_Hsiao_0001.jpg                                        0.907405   \n",
       "lfw_dataset/Ruth_Dreifuss/Ruth_Dreifuss_0001.jpg                                  1.050190   \n",
       "lfw_dataset/Ruth_Dreifuss/Ruth_Dreifuss_0002.jpg                                  1.075924   \n",
       "\n",
       "                                                    lfw_dataset/Lucy_Liu/Lucy_Liu_0003.jpg  \\\n",
       "lfw_dataset/David_Kelly/David_Kelly_0001.jpg                                      0.908894   \n",
       "lfw_dataset/Rafeeuddin_Ahmed/Rafeeuddin_Ahmed_0...                                1.025906   \n",
       "lfw_dataset/Elva_Hsiao/Elva_Hsiao_0001.jpg                                        0.914287   \n",
       "lfw_dataset/Ruth_Dreifuss/Ruth_Dreifuss_0001.jpg                                  0.950575   \n",
       "lfw_dataset/Ruth_Dreifuss/Ruth_Dreifuss_0002.jpg                                  0.904474   \n",
       "\n",
       "                                                    lfw_dataset/Lucy_Liu/Lucy_Liu_0005.jpg  \\\n",
       "lfw_dataset/David_Kelly/David_Kelly_0001.jpg                                      0.878789   \n",
       "lfw_dataset/Rafeeuddin_Ahmed/Rafeeuddin_Ahmed_0...                                0.979935   \n",
       "lfw_dataset/Elva_Hsiao/Elva_Hsiao_0001.jpg                                        0.964144   \n",
       "lfw_dataset/Ruth_Dreifuss/Ruth_Dreifuss_0001.jpg                                  0.967188   \n",
       "lfw_dataset/Ruth_Dreifuss/Ruth_Dreifuss_0002.jpg                                  0.815829   \n",
       "\n",
       "                                                    lfw_dataset/Lucy_Liu/Lucy_Liu_0002.jpg  \\\n",
       "lfw_dataset/David_Kelly/David_Kelly_0001.jpg                                      1.047840   \n",
       "lfw_dataset/Rafeeuddin_Ahmed/Rafeeuddin_Ahmed_0...                                0.960934   \n",
       "lfw_dataset/Elva_Hsiao/Elva_Hsiao_0001.jpg                                        0.873216   \n",
       "lfw_dataset/Ruth_Dreifuss/Ruth_Dreifuss_0001.jpg                                  0.940902   \n",
       "lfw_dataset/Ruth_Dreifuss/Ruth_Dreifuss_0002.jpg                                  0.968696   \n",
       "\n",
       "                                                    lfw_dataset/Hu_Jintao/Hu_Jintao_0004.jpg  \\\n",
       "lfw_dataset/David_Kelly/David_Kelly_0001.jpg                                        1.118613   \n",
       "lfw_dataset/Rafeeuddin_Ahmed/Rafeeuddin_Ahmed_0...                                  1.001140   \n",
       "lfw_dataset/Elva_Hsiao/Elva_Hsiao_0001.jpg                                          1.033899   \n",
       "lfw_dataset/Ruth_Dreifuss/Ruth_Dreifuss_0001.jpg                                    0.924669   \n",
       "lfw_dataset/Ruth_Dreifuss/Ruth_Dreifuss_0002.jpg                                    1.031271   \n",
       "\n",
       "                                                    lfw_dataset/Hu_Jintao/Hu_Jintao_0002.jpg  \\\n",
       "lfw_dataset/David_Kelly/David_Kelly_0001.jpg                                        1.088277   \n",
       "lfw_dataset/Rafeeuddin_Ahmed/Rafeeuddin_Ahmed_0...                                  1.053817   \n",
       "lfw_dataset/Elva_Hsiao/Elva_Hsiao_0001.jpg                                          0.983167   \n",
       "lfw_dataset/Ruth_Dreifuss/Ruth_Dreifuss_0001.jpg                                    0.937227   \n",
       "lfw_dataset/Ruth_Dreifuss/Ruth_Dreifuss_0002.jpg                                    0.897242   \n",
       "\n",
       "                                                    lfw_dataset/Hu_Jintao/Hu_Jintao_0003.jpg  \\\n",
       "lfw_dataset/David_Kelly/David_Kelly_0001.jpg                                        1.069035   \n",
       "lfw_dataset/Rafeeuddin_Ahmed/Rafeeuddin_Ahmed_0...                                  0.999691   \n",
       "lfw_dataset/Elva_Hsiao/Elva_Hsiao_0001.jpg                                          1.085014   \n",
       "lfw_dataset/Ruth_Dreifuss/Ruth_Dreifuss_0001.jpg                                    0.943346   \n",
       "lfw_dataset/Ruth_Dreifuss/Ruth_Dreifuss_0002.jpg                                    1.049617   \n",
       "\n",
       "                                                    lfw_dataset/Hu_Jintao/Hu_Jintao_0001.jpg  \\\n",
       "lfw_dataset/David_Kelly/David_Kelly_0001.jpg                                        1.126395   \n",
       "lfw_dataset/Rafeeuddin_Ahmed/Rafeeuddin_Ahmed_0...                                  0.993549   \n",
       "lfw_dataset/Elva_Hsiao/Elva_Hsiao_0001.jpg                                          1.115104   \n",
       "lfw_dataset/Ruth_Dreifuss/Ruth_Dreifuss_0001.jpg                                    0.947962   \n",
       "lfw_dataset/Ruth_Dreifuss/Ruth_Dreifuss_0002.jpg                                    0.989342   \n",
       "\n",
       "                                                    lfw_dataset/Hu_Jintao/Hu_Jintao_0014.jpg  \\\n",
       "lfw_dataset/David_Kelly/David_Kelly_0001.jpg                                        1.028905   \n",
       "lfw_dataset/Rafeeuddin_Ahmed/Rafeeuddin_Ahmed_0...                                  1.100012   \n",
       "lfw_dataset/Elva_Hsiao/Elva_Hsiao_0001.jpg                                          1.078906   \n",
       "lfw_dataset/Ruth_Dreifuss/Ruth_Dreifuss_0001.jpg                                    0.896843   \n",
       "lfw_dataset/Ruth_Dreifuss/Ruth_Dreifuss_0002.jpg                                    1.022758   \n",
       "\n",
       "                                                    lfw_dataset/Hu_Jintao/Hu_Jintao_0006.jpg  \n",
       "lfw_dataset/David_Kelly/David_Kelly_0001.jpg                                        0.988939  \n",
       "lfw_dataset/Rafeeuddin_Ahmed/Rafeeuddin_Ahmed_0...                                  1.014586  \n",
       "lfw_dataset/Elva_Hsiao/Elva_Hsiao_0001.jpg                                          0.981097  \n",
       "lfw_dataset/Ruth_Dreifuss/Ruth_Dreifuss_0001.jpg                                    0.959814  \n",
       "lfw_dataset/Ruth_Dreifuss/Ruth_Dreifuss_0002.jpg                                    0.979616  \n",
       "\n",
       "[5 rows x 437 columns]"
      ]
     },
     "execution_count": 6,
     "metadata": {},
     "output_type": "execute_result"
    }
   ],
   "source": [
    "df_matrix.head()"
   ]
  },
  {
   "cell_type": "code",
   "execution_count": 4,
   "metadata": {},
   "outputs": [],
   "source": [
    "\"\"\"\n",
    "This function tells if the image is an impostor or not.\n",
    "\"\"\"\n",
    "def is_impostor(df, image_path):\n",
    "    if image_path in df['Image_Path'].values:\n",
    "        row = df[df['Image_Path'] == image_path].iloc[0]\n",
    "        if row['Label'] == 'Impostor':\n",
    "            return True\n",
    "    return False"
   ]
  },
  {
   "cell_type": "code",
   "execution_count": 5,
   "metadata": {},
   "outputs": [],
   "source": [
    "\"\"\"\n",
    "This function extracts a person's name from the image path.\n",
    "\"\"\"\n",
    "def extract_middle_part(string):\n",
    "    # Use regular expression to extract the middle part\n",
    "    match = re.search(r'(?<=/)\\w+(?=/)', string)\n",
    "    if match:\n",
    "        return match.group(0)\n",
    "    else:\n",
    "        return None"
   ]
  },
  {
   "cell_type": "code",
   "execution_count": 6,
   "metadata": {},
   "outputs": [],
   "source": [
    "\"\"\"\n",
    "This function computes the all-against-all evaluation metrics.\n",
    "\"\"\"\n",
    "def all_against_all(df_distanze):\n",
    "    # From 0.01 to 0.99\n",
    "    thresholds = [round(threshold, 2) for threshold in np.arange(0.01, 1.0, 0.01)] \n",
    "    thresholds.sort()\n",
    "\n",
    "    total_genuine_attempts = df_distanze.shape[1]\n",
    "    number_of_impostors = (final_df['Label'] == 'Impostor').sum()\n",
    "\n",
    "    evaluation_metrics = {\n",
    "        \"number_of_subjects\": len(set(final_df['Person'].tolist())),\n",
    "        \"number_of_impostors\": number_of_impostors,\n",
    "        \"number_of_subjects_in_gallery\": (final_df['Label'] == 'Genuine').sum(),\n",
    "        \"total_number_of_gallery_samples\": df_distanze.shape[1],\n",
    "        \"total_number_of_probe_samples\": df_distanze.shape[0],\n",
    "        \"total_genuine_attempts\": total_genuine_attempts,\n",
    "        \"thresholds\": list()\n",
    "    }\n",
    "    \n",
    "    for threshold in thresholds:\n",
    "        threshold_metrics = {\n",
    "            \"DI\": 0,  # Direct Identifications\n",
    "            \"FA\": 0,  # False Accepts\n",
    "            \"GR\": 0,  # Genuine Rejects\n",
    "            \"FR\": 0,  # False Rejects\n",
    "            \"DIR\": dict(),  # Direct Identification Rate\n",
    "            \"FRR\": 0,  # False Reject Rate\n",
    "            \"FAR\": 0,  # False Accept Rate\n",
    "            \"GRR\": 0  # Genuine Reject Rate\n",
    "        }\n",
    "\n",
    "        total_impostor_attempts = number_of_impostors\n",
    "\n",
    "        for probe_index in range(df_distanze.shape[0]):  # Iterate through probe samples\n",
    "            distances = df_distanze.iloc[probe_index].values  # Distances for current probe\n",
    "            sorted_indices = np.argsort(distances)  # Indices of gallery sorted by distance\n",
    "\n",
    "            impostor = is_impostor(final_df, df_distanze.index[probe_index])\n",
    "            if not impostor:\n",
    "                sorted_indices = sorted_indices[1:]  # Remove first index (genuine)\n",
    "\n",
    "            probe = df_distanze.index[probe_index]  # The index (row labels) of the DataFrame.\n",
    "            probe_name = extract_middle_part(probe)\n",
    "            first_gallery = df_distanze.iloc[probe_index].index[sorted_indices[0]] # The index (column labels) of the DataFrame.\n",
    "            first_gallery_name = extract_middle_part(first_gallery)\n",
    "\n",
    "            smallest_distance = distances[sorted_indices[0]]\n",
    "            is_accepted_value = smallest_distance <= threshold\n",
    "\n",
    "            if is_accepted_value:\n",
    "                if probe_name == first_gallery_name: # same person\n",
    "                    threshold_metrics[\"DI\"] += 1 # Direct Identifications\n",
    "                    if not impostor:\n",
    "                        for value_index in range(1, len(sorted_indices)):\n",
    "                            if distances[sorted_indices[value_index]] <= threshold:\n",
    "                                gallery_name = extract_middle_part(df_distanze.iloc[probe_index].index[sorted_indices[value_index]])\n",
    "                                if probe_name != gallery_name: # check if there are not same person\n",
    "                                    threshold_metrics[\"FA\"] += 1\n",
    "                                    total_impostor_attempts += 1\n",
    "                                    break\n",
    "                            else:\n",
    "                               break\n",
    "                else:\n",
    "                    if not impostor:\n",
    "                        for value_index in range(1, len(sorted_indices)-1): \n",
    "                            if distances[sorted_indices[value_index]] <= threshold: \n",
    "                                gallery_name = extract_middle_part(df_distanze.iloc[probe_index].index[sorted_indices[value_index]])\n",
    "                                if probe == gallery_name:\n",
    "                                    threshold_metrics[\"DI\"] += 1\n",
    "                                    break\n",
    "                            else:\n",
    "                                break\n",
    "                        total_impostor_attempts += 1\n",
    "                    # False Accepts: When an impostor subject is accepted\n",
    "                    threshold_metrics[\"FA\"] += 1 \n",
    "            else:\n",
    "                # threshold is greater than the accepted_value\n",
    "                if impostor:\n",
    "                    # Genuine Rejects: When an impostor subject is rejected\n",
    "                    threshold_metrics[\"GR\"] += 1\n",
    "                else:\n",
    "                    # False Rejects: When the declared identity is true but the subject is rejected\n",
    "                    threshold_metrics[\"FR\"] += 1\n",
    "\n",
    "        threshold_metrics[\"DIR\"] = threshold_metrics[\"DI\"] / total_genuine_attempts\n",
    "        threshold_metrics[\"FAR\"] = threshold_metrics[\"FA\"] / total_impostor_attempts \n",
    "        threshold_metrics[\"GRR\"] = threshold_metrics[\"GR\"] / total_impostor_attempts\n",
    "        threshold_metrics[\"FRR\"] = 1 - threshold_metrics[\"DIR\"] # False Reject Rate\n",
    "        evaluation_metrics[\"thresholds\"].append({threshold: threshold_metrics})\n",
    "\n",
    "    return evaluation_metrics"
   ]
  },
  {
   "cell_type": "code",
   "execution_count": 10,
   "metadata": {},
   "outputs": [],
   "source": [
    "evaluation_metrics = all_against_all(df_matrix)"
   ]
  },
  {
   "cell_type": "code",
   "execution_count": 11,
   "metadata": {},
   "outputs": [
    {
     "name": "stdout",
     "output_type": "stream",
     "text": [
      "[INFO] Evaluation metrics saved in evaluation_metrics.json\n"
     ]
    }
   ],
   "source": [
    "'''\n",
    "This function Recursively convert all numpy int64 values to native Python ints.\n",
    "'''\n",
    "def convert_values(data):\n",
    "    if isinstance(data, dict):\n",
    "        return {k: convert_values(v) for k, v in data.items()}\n",
    "    elif isinstance(data, list):\n",
    "        return [convert_values(item) for item in data]\n",
    "    elif isinstance(data, np.int64):\n",
    "        return int(data)\n",
    "    return data\n",
    "\n",
    "evaluation_metrics = convert_values(evaluation_metrics)\n",
    "\n",
    "# Save the evaluation metrics in a json file\n",
    "with open('evaluation_metrics.json', 'w') as json_file:\n",
    "    json_file.write(json.dumps(evaluation_metrics))\n",
    "    print(\"[INFO] Evaluation metrics saved in evaluation_metrics.json\")"
   ]
  },
  {
   "cell_type": "markdown",
   "metadata": {},
   "source": [
    "## **4.3 Plot the graphs** "
   ]
  },
  {
   "cell_type": "code",
   "execution_count": 12,
   "metadata": {},
   "outputs": [],
   "source": [
    "far_values = [metrics[list(metrics.keys())[0]]['FAR'] for metrics in evaluation_metrics['thresholds']]\n",
    "frr_values = [metrics[list(metrics.keys())[0]]['FRR'] for metrics in evaluation_metrics['thresholds']]\n",
    "thresholds = [list(metrics.keys())[0] for metrics in evaluation_metrics['thresholds']]"
   ]
  },
  {
   "cell_type": "code",
   "execution_count": 13,
   "metadata": {},
   "outputs": [
    {
     "data": {
      "image/png": "[encoded data removed]",
      "text/plain": [
       "<Figure size 640x480 with 1 Axes>"
      ]
     },
     "metadata": {},
     "output_type": "display_data"
    }
   ],
   "source": [
    "# Plot FAR against Thresholds\n",
    "plt.figure()\n",
    "plt.plot(thresholds, far_values, color='r')\n",
    "plt.title('False Accept Rate (FAR) vs Threshold')\n",
    "plt.xlabel('Threshold')\n",
    "plt.ylabel('FAR')\n",
    "plt.show()"
   ]
  },
  {
   "cell_type": "code",
   "execution_count": 14,
   "metadata": {},
   "outputs": [
    {
     "data": {
      "image/png": "[encoded data removed]",
      "text/plain": [
       "<Figure size 640x480 with 1 Axes>"
      ]
     },
     "metadata": {},
     "output_type": "display_data"
    }
   ],
   "source": [
    "# Plot FAR against Thresholds\n",
    "plt.figure()\n",
    "plt.plot(thresholds, frr_values)\n",
    "plt.title('False Reject Rate (FRR) vs Threshold')\n",
    "plt.xlabel('Threshold')\n",
    "plt.ylabel('FRR')\n",
    "plt.show()"
   ]
  },
  {
   "cell_type": "code",
   "execution_count": 15,
   "metadata": {},
   "outputs": [
    {
     "data": {
      "image/png": "[encoded data removed]",
      "text/plain": [
       "<Figure size 640x480 with 1 Axes>"
      ]
     },
     "metadata": {},
     "output_type": "display_data"
    }
   ],
   "source": [
    "diffs = [abs(fa - fr) for fa, fr in zip(far_values, frr_values)]\n",
    "eer_index = diffs.index(min(diffs))\n",
    "eer_threshold = thresholds[eer_index]\n",
    "eer_value = (far_values[eer_index] + frr_values[eer_index]) / 2\n",
    "\n",
    "# Plot FAR and FRR against thresholds\n",
    "plt.figure()\n",
    "plt.plot(thresholds, far_values, color='g', label='FAR')\n",
    "plt.plot(thresholds, frr_values, color='b', label='FRR')\n",
    "plt.plot(eer_threshold, eer_value, 'ro', label='EER')\n",
    "plt.text(eer_threshold, eer_value, 'EER', color='black', ha='right', va='bottom')\n",
    "\n",
    "plt.title('Equal Error Rate (EER)')\n",
    "plt.xlabel('Threshold')\n",
    "plt.ylabel('Rate')\n",
    "plt.legend(loc='upper right')\n",
    "plt.show()"
   ]
  },
  {
   "cell_type": "code",
   "execution_count": 42,
   "metadata": {},
   "outputs": [
    {
     "name": "stdout",
     "output_type": "stream",
     "text": [
      "Information at EER point:\n",
      "{0.58: {'DI': 371, 'FA': 19, 'GR': 108, 'FR': 58, 'DIR': 0.8489702517162472, 'FRR': 0.15102974828375282, 'FAR': 0.14960629921259844, 'GRR': 0.8503937007874016}}\n"
     ]
    }
   ],
   "source": [
    "eer_info = evaluation_metrics['thresholds'][eer_index]\n",
    "print(\"Information at EER point:\", eer_info)"
   ]
  },
  {
   "cell_type": "code",
   "execution_count": 16,
   "metadata": {},
   "outputs": [
    {
     "data": {
      "image/png": "[encoded data removed]",
      "text/plain": [
       "<Figure size 640x480 with 1 Axes>"
      ]
     },
     "metadata": {},
     "output_type": "display_data"
    }
   ],
   "source": [
    "tpr_values = [1 - frr for frr in frr_values]  # TPR is 1 - FRR\n",
    "\n",
    "plt.figure()\n",
    "plt.plot(far_values, tpr_values)\n",
    "plt.title('ROC Curve')\n",
    "plt.xlabel('False Accept Rate (FAR)')\n",
    "plt.ylabel('1 - False Reject Rate (FRR)')\n",
    "plt.show()"
   ]
  },
  {
   "cell_type": "code",
   "execution_count": 19,
   "metadata": {},
   "outputs": [
    {
     "data": {
      "image/png": "[encoded data removed]",
      "text/plain": [
       "<Figure size 640x480 with 1 Axes>"
      ]
     },
     "metadata": {},
     "output_type": "display_data"
    }
   ],
   "source": [
    "# Convert to numpy arrays if necessary\n",
    "frr_values = np.array(frr_values)\n",
    "far_values = np.array(far_values)\n",
    "\n",
    "plt.figure()\n",
    "plt.plot(far_values, frr_values, label='DET Curve')\n",
    "plt.title('Detection Error Tradeoff (DET) Curve')\n",
    "\n",
    "# Logarithmic scales for both axes\n",
    "plt.xscale('log')\n",
    "plt.yscale('log')\n",
    "\n",
    "plt.gca().xaxis.set_major_formatter(ticker.FuncFormatter(lambda x, _: '{:g}'.format(x)))\n",
    "plt.gca().yaxis.set_major_formatter(ticker.FuncFormatter(lambda y, _: '{:g}'.format(y)))\n",
    "\n",
    "plt.xlabel('False Accept Rate (FAR)')\n",
    "plt.ylabel('False Reject Rate (FRR)')\n",
    "plt.show()\n"
   ]
  },
  {
   "cell_type": "code",
   "execution_count": 44,
   "metadata": {},
   "outputs": [
    {
     "name": "stdout",
     "output_type": "stream",
     "text": [
      "Best threshold with FAR between 0.1 and 0.2 : 0.47 {'DI': 270, 'FA': 13, 'GR': 111, 'FR': 159, 'DIR': 0.6178489702517163, 'FRR': 0.38215102974828374, 'FAR': 0.10483870967741936, 'GRR': 0.8951612903225806}\n"
     ]
    }
   ],
   "source": [
    "'''\n",
    "This function identifies the optimal threshold within a specified \n",
    "False Alarm Rate (FAR) range from a given set of evaluation metrics.\n",
    "'''\n",
    "def find_best_threshold_in_range(evaluation_metrics, criterion, min_far, max_far):\n",
    "    best_threshold = None\n",
    "    best_far = float('inf')\n",
    "    info = None\n",
    "\n",
    "    for threshold_entry in evaluation_metrics['thresholds']:\n",
    "        threshold_value, threshold_data = list(threshold_entry.items())[0]\n",
    "        far = threshold_data[criterion]\n",
    "\n",
    "        if min_far <= far <= max_far and far < best_far:\n",
    "            best_far = far\n",
    "            best_threshold = float(threshold_value)\n",
    "            info = threshold_data\n",
    "\n",
    "    return best_threshold, info\n",
    "\n",
    "min_far = 0.1\n",
    "max_far = 0.2\n",
    "best_threshold_in_range, info = find_best_threshold_in_range(evaluation_metrics, 'FAR', min_far, max_far)\n",
    "print(\"Best threshold with FAR between\", min_far, \"and\", max_far, \":\", best_threshold_in_range, info)"
   ]
  }
 ],
 "metadata": {
  "kernelspec": {
   "display_name": "Python 3",
   "language": "python",
   "name": "python3"
  },
  "language_info": {
   "codemirror_mode": {
    "name": "ipython",
    "version": 3
   },
   "file_extension": ".py",
   "mimetype": "text/x-python",
   "name": "python",
   "nbconvert_exporter": "python",
   "pygments_lexer": "ipython3",
   "version": "3.9.6"
  }
 },
 "nbformat": 4,
 "nbformat_minor": 2
}
