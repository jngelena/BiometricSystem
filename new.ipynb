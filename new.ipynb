{
 "cells": [
  {
   "cell_type": "code",
   "execution_count": 2,
   "metadata": {},
   "outputs": [],
   "source": [
    "import os\n",
    "import random\n",
    "\n",
    "dataset_dir = 'dataset'\n",
    "persons = os.listdir(dataset_dir)\n",
    "random.shuffle(persons)  # Shuffle to randomize the persons selected\n",
    "\n",
    "# Split into enrolled and unenrolled\n",
    "enrolled_persons = persons[:1500]\n",
    "unenrolled_persons = persons[1500:]\n",
    "\n",
    "# Selecting genuine probes: 3 images from each enrolled person\n",
    "genuine_probes = []\n",
    "for person in enrolled_persons:\n",
    "    if person[0] == '.':\n",
    "        continue\n",
    "    person_dir = os.path.join(dataset_dir, person)\n",
    "    images = os.listdir(person_dir)\n",
    "    genuine_probes.extend(random.sample(images, 3))\n",
    "\n",
    "# Selecting impostor probes: 1 image from each unenrolled person\n",
    "impostor_probes = []\n",
    "for person in unenrolled_persons[:500]:\n",
    "    if person[0] == '.':\n",
    "        continue\n",
    "    person_dir = os.path.join(dataset_dir, person)\n",
    "    images = os.listdir(person_dir)\n",
    "    impostor_probes.append(random.choice(images))\n",
    "\n"
   ]
  },
  {
   "cell_type": "code",
   "execution_count": 3,
   "metadata": {},
   "outputs": [
    {
     "name": "stdout",
     "output_type": "stream",
     "text": [
      "Total enrolled persons: 1500\n",
      "Total genuine probes: 4497\n",
      "Total impostor probes: 500\n"
     ]
    }
   ],
   "source": [
    "print(f\"Total enrolled persons: {len(enrolled_persons)}\")\n",
    "print(f\"Total genuine probes: {len(genuine_probes)}\")\n",
    "print(f\"Total impostor probes: {len(impostor_probes)}\")"
   ]
  }
 ],
 "metadata": {
  "kernelspec": {
   "display_name": "Python 3",
   "language": "python",
   "name": "python3"
  },
  "language_info": {
   "codemirror_mode": {
    "name": "ipython",
    "version": 3
   },
   "file_extension": ".py",
   "mimetype": "text/x-python",
   "name": "python",
   "nbconvert_exporter": "python",
   "pygments_lexer": "ipython3",
   "version": "3.9.6"
  }
 },
 "nbformat": 4,
 "nbformat_minor": 2
}
