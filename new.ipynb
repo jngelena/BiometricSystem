{
 "cells": [
  {
   "cell_type": "code",
   "execution_count": 1,
   "metadata": {},
   "outputs": [],
   "source": [
    "import os\n",
    "import keras\n",
    "import random\n",
    "import numpy as np\n",
    "import pandas as pd\n",
    "import tensorflow as tf\n",
    "\n",
    "from scipy.spatial.distance import cosine\n",
    "from itertools import combinations\n",
    "\n",
    "from PIL import Image"
   ]
  },
  {
   "cell_type": "code",
   "execution_count": 2,
   "metadata": {},
   "outputs": [],
   "source": [
    "from itertools import combinations, product\n",
    "from sklearn.metrics.pairwise import cosine_similarity\n",
    "\n",
    "from tensorflow.keras.preprocessing import image\n",
    "from tensorflow.keras.applications.resnet50 import preprocess_input"
   ]
  },
  {
   "cell_type": "code",
   "execution_count": 3,
   "metadata": {},
   "outputs": [],
   "source": [
    "RANDOM_SEED = 42\n",
    "random.seed(RANDOM_SEED)"
   ]
  },
  {
   "cell_type": "code",
   "execution_count": 4,
   "metadata": {},
   "outputs": [
    {
     "name": "stdout",
     "output_type": "stream",
     "text": [
      "WARNING:tensorflow:Mixed precision compatibility check (mixed_float16): WARNING\n",
      "The dtype policy mixed_float16 may run slowly because this machine does not have a GPU. Only Nvidia GPUs with compute capability of at least 7.0 run quickly with mixed_float16.\n",
      "If you will use compatible GPU(s) not attached to this host, e.g. by running a multi-worker model, you can ignore this warning. This message will only be logged once\n",
      "WARNING:tensorflow:No training configuration found in the save file, so the model was *not* compiled. Compile it manually.\n"
     ]
    }
   ],
   "source": [
    "model = keras.models.load_model('ghostfacenet_v1.h5')"
   ]
  },
  {
   "cell_type": "code",
   "execution_count": 5,
   "metadata": {},
   "outputs": [],
   "source": [
    "dataset_dir = 'dataset'\n",
    "persons = os.listdir(dataset_dir)"
   ]
  },
  {
   "cell_type": "code",
   "execution_count": 6,
   "metadata": {},
   "outputs": [],
   "source": [
    "persons = [p for p in os.listdir(dataset_dir) if os.path.isdir(os.path.join(dataset_dir, p)) and not p.startswith('.')]\n",
    "random.shuffle(persons) \n",
    "\n",
    "# Split into enrolled and unenrolled\n",
    "enrolled_persons = persons[:1500]\n",
    "unenrolled_persons = persons[1500:]\n",
    "\n",
    "data = []\n",
    "\n",
    "for person in enrolled_persons:\n",
    "    person_dir = os.path.join(dataset_dir, person)\n",
    "    images = os.listdir(person_dir)\n",
    "    selected_images = random.sample(images, 3) if len(images) >= 3 else images  \n",
    "    for image in selected_images:\n",
    "        data.append([person, os.path.join(person_dir, image), 'Enrolled'])\n",
    "\n",
    "for person in unenrolled_persons:\n",
    "    person_dir = os.path.join(dataset_dir, person)\n",
    "    images = os.listdir(person_dir)\n",
    "    if images:  # Ensure there is at least one image\n",
    "        selected_image = random.choice(images)\n",
    "        data.append([person, os.path.join(person_dir, selected_image), 'Not Enrolled'])"
   ]
  },
  {
   "cell_type": "code",
   "execution_count": 7,
   "metadata": {},
   "outputs": [
    {
     "name": "stdout",
     "output_type": "stream",
     "text": [
      "5000\n"
     ]
    }
   ],
   "source": [
    "df = pd.DataFrame(data, columns=['Person', 'Image_Path', 'Label'])\n",
    "print(len(df))  "
   ]
  },
  {
   "cell_type": "code",
   "execution_count": 8,
   "metadata": {},
   "outputs": [
    {
     "data": {
      "text/html": [
       "<div>\n",
       "<style scoped>\n",
       "    .dataframe tbody tr th:only-of-type {\n",
       "        vertical-align: middle;\n",
       "    }\n",
       "\n",
       "    .dataframe tbody tr th {\n",
       "        vertical-align: top;\n",
       "    }\n",
       "\n",
       "    .dataframe thead th {\n",
       "        text-align: right;\n",
       "    }\n",
       "</style>\n",
       "<table border=\"1\" class=\"dataframe\">\n",
       "  <thead>\n",
       "    <tr style=\"text-align: right;\">\n",
       "      <th></th>\n",
       "      <th>Person</th>\n",
       "      <th>Image_Path</th>\n",
       "      <th>Label</th>\n",
       "    </tr>\n",
       "  </thead>\n",
       "  <tbody>\n",
       "    <tr>\n",
       "      <th>0</th>\n",
       "      <td>1593</td>\n",
       "      <td>dataset/1593/24.png</td>\n",
       "      <td>Enrolled</td>\n",
       "    </tr>\n",
       "    <tr>\n",
       "      <th>1</th>\n",
       "      <td>1593</td>\n",
       "      <td>dataset/1593/37.png</td>\n",
       "      <td>Enrolled</td>\n",
       "    </tr>\n",
       "    <tr>\n",
       "      <th>2</th>\n",
       "      <td>1593</td>\n",
       "      <td>dataset/1593/9.png</td>\n",
       "      <td>Enrolled</td>\n",
       "    </tr>\n",
       "    <tr>\n",
       "      <th>3</th>\n",
       "      <td>170</td>\n",
       "      <td>dataset/170/56.png</td>\n",
       "      <td>Enrolled</td>\n",
       "    </tr>\n",
       "    <tr>\n",
       "      <th>4</th>\n",
       "      <td>170</td>\n",
       "      <td>dataset/170/69.png</td>\n",
       "      <td>Enrolled</td>\n",
       "    </tr>\n",
       "  </tbody>\n",
       "</table>\n",
       "</div>"
      ],
      "text/plain": [
       "  Person           Image_Path     Label\n",
       "0   1593  dataset/1593/24.png  Enrolled\n",
       "1   1593  dataset/1593/37.png  Enrolled\n",
       "2   1593   dataset/1593/9.png  Enrolled\n",
       "3    170   dataset/170/56.png  Enrolled\n",
       "4    170   dataset/170/69.png  Enrolled"
      ]
     },
     "execution_count": 8,
     "metadata": {},
     "output_type": "execute_result"
    }
   ],
   "source": [
    "df.head()"
   ]
  },
  {
   "cell_type": "code",
   "execution_count": 9,
   "metadata": {},
   "outputs": [],
   "source": [
    "random.shuffle(persons)  # Shuffle to randomize the persons selected\n",
    "\n",
    "# Split into enrolled and unenrolled\n",
    "enrolled_persons = persons[:1500]\n",
    "unenrolled_persons = persons[1500:]\n",
    "\n",
    "# Selecting genuine probes: 3 images from each enrolled person\n",
    "genuine_probes = []\n",
    "for person in enrolled_persons:\n",
    "    if person[0] == '.':\n",
    "        continue\n",
    "    person_dir = os.path.join(dataset_dir, person)\n",
    "    images = os.listdir(person_dir)\n",
    "    genuine_probes.extend(random.sample(images, 3))\n",
    "\n",
    "# Selecting impostor probes: 1 image from each unenrolled person\n",
    "impostor_probes = []\n",
    "for person in unenrolled_persons[:500]:\n",
    "    if person[0] == '.':\n",
    "        continue\n",
    "    person_dir = os.path.join(dataset_dir, person)\n",
    "    images = os.listdir(person_dir)\n",
    "    impostor_probes.append(random.choice(images))"
   ]
  },
  {
   "cell_type": "code",
   "execution_count": 10,
   "metadata": {},
   "outputs": [],
   "source": [
    "from sklearn.model_selection import train_test_split\n",
    "\n",
    "train_df, test_df = train_test_split(df, train_size= 0.7, shuffle= True, random_state= RANDOM_SEED)"
   ]
  },
  {
   "cell_type": "code",
   "execution_count": 11,
   "metadata": {},
   "outputs": [
    {
     "name": "stdout",
     "output_type": "stream",
     "text": [
      "1500\n"
     ]
    }
   ],
   "source": [
    "print(len(test_df))"
   ]
  },
  {
   "cell_type": "markdown",
   "metadata": {},
   "source": [
    "---------  above ok --------------"
   ]
  },
  {
   "cell_type": "code",
   "execution_count": 17,
   "metadata": {},
   "outputs": [],
   "source": [
    "def generate_pairs(df):\n",
    "    \"\"\"Generate all possible genuine and impostor pairs and then randomly select impostor pairs to match the number of genuine pairs.\"\"\"\n",
    "    genuine_pairs = []\n",
    "    impostor_pairs = []\n",
    "\n",
    "    # Generate genuine pairs\n",
    "    for _, group in df.groupby('Person'):\n",
    "        genuine_pairs.extend(list(combinations(group['Image_Path'], 2)))\n",
    "\n",
    "    # Compute all possible impostor pairs\n",
    "    temp_impostor_pairs = []\n",
    "    unique_person_ids = df['Person'].unique()\n",
    "    for person_id_a, person_id_b in combinations(unique_person_ids, 2):\n",
    "        paths_a = df[df['Person'] == person_id_a]['Image_Path']\n",
    "        paths_b = df[df['Person'] == person_id_b]['Image_Path']\n",
    "        temp_impostor_pairs.extend(product(paths_a, paths_b))\n",
    "    \n",
    "    # Randomly select impostor pairs to match the number of genuine pairs\n",
    "    if len(temp_impostor_pairs) > len(genuine_pairs):\n",
    "        impostor_pairs = random.sample(temp_impostor_pairs, len(genuine_pairs))\n",
    "    else:\n",
    "        impostor_pairs = temp_impostor_pairs\n",
    "\n",
    "    return genuine_pairs, impostor_pairs\n"
   ]
  },
  {
   "cell_type": "code",
   "execution_count": 18,
   "metadata": {},
   "outputs": [],
   "source": [
    "genuine_pairs, impostor_pairs = generate_pairs(test_df)\n"
   ]
  },
  {
   "cell_type": "code",
   "execution_count": 19,
   "metadata": {},
   "outputs": [
    {
     "name": "stdout",
     "output_type": "stream",
     "text": [
      "399\n"
     ]
    }
   ],
   "source": [
    "print(len(genuine_pairs))"
   ]
  },
  {
   "cell_type": "code",
   "execution_count": 20,
   "metadata": {},
   "outputs": [
    {
     "name": "stdout",
     "output_type": "stream",
     "text": [
      "399\n"
     ]
    }
   ],
   "source": [
    "print(len(impostor_pairs))"
   ]
  },
  {
   "cell_type": "code",
   "execution_count": 30,
   "metadata": {},
   "outputs": [],
   "source": [
    "def get_embedding(model, image_path):\n",
    "    \"\"\"\n",
    "    Get an image embedding using ghostfacenet_v1 model.\n",
    "    \n",
    "    Parameters:\n",
    "    - image_path: Path to the image file.\n",
    "    \n",
    "    Returns:\n",
    "    - embedding: The embedding vector for the image.\n",
    "    \"\"\"\n",
    "    img = Image.open(image_path).convert('RGB')\n",
    "    img = img.resize((112, 112))\n",
    "    img_array = np.array(img).astype('float32')\n",
    "    \n",
    "    # Normalize the image data to [-1, 1]\n",
    "    img_array = (img_array / 127.5) - 1  # Assuming the original range is [0, 255]\n",
    "    return model.predict(np.expand_dims(img_array, axis=0))\n",
    "\n",
    "\n",
    "def compute_cosine_distance(features1, features2):\n",
    "    # Compute and return the cosine distance between two feature vectors\n",
    "    return cosine_similarity(features1, features2)\n",
    "\n",
    "def compute_distances(pairs, model):\n",
    "    \"\"\"Compute the cosine distance for each pair, handling NaN values.\"\"\"\n",
    "    distances = []\n",
    "    for img_path_a, img_path_b in pairs:\n",
    "\n",
    "        embedding1 = get_embedding(model, img_path_a)\n",
    "        embedding2 = get_embedding(model, img_path_b)\n",
    "\n",
    "        if embedding1 is None or embedding2 is None:\n",
    "            print(f\"Skipping pair {img_path_a}, {img_path_b} due to an error.\")\n",
    "            continue\n",
    "        # Ensure no NaN values are present in features before computing distance\n",
    "        if np.isnan(embedding1).any() or np.isnan(embedding2).any():\n",
    "            print(f\"Found NaN in features for pair {img_path_a}, {img_path_b}. Skipping.\")\n",
    "            continue\n",
    "        # Compute cosine similarity and convert it to distance\n",
    "        similarity = cosine_similarity(embedding1.reshape(1, -1), embedding2.reshape(1, -1))\n",
    "        distance = 1 - similarity.item()  # Convert numpy array to scalar\n",
    "        print(f\"Distance between {img_path_a} and {img_path_b}: {distance}\")\n",
    "        distances.append(distance)\n",
    "    return distances"
   ]
  },
  {
   "cell_type": "code",
   "execution_count": null,
   "metadata": {},
   "outputs": [],
   "source": [
    "genuine_distances = compute_distances(genuine_pairs, model)"
   ]
  },
  {
   "cell_type": "code",
   "execution_count": null,
   "metadata": {},
   "outputs": [],
   "source": [
    "impostor_distances = compute_distances(impostor_pairs, model)"
   ]
  },
  {
   "cell_type": "code",
   "execution_count": 33,
   "metadata": {},
   "outputs": [
    {
     "name": "stdout",
     "output_type": "stream",
     "text": [
      "[0.9558769166469574, 0.9852291811257601, 0.9834005311131477, 0.7727940827608109, 0.7179615497589111, 1.0199040621519089, 0.9931047074496746, 0.7742968201637268, 0.9266489595174789, 0.768708348274231, 0.8639180362224579, 1.0022139274515212, 0.8355524241924286, 0.7927316427230835, 0.7999085187911987, 1.001103295944631, 0.9486871361732483, 0.9697746187448502, 0.9775345176458359, 0.762077584862709, 0.8686010539531708, 0.9808289147913456, 0.7941057682037354, 0.9283743500709534, 0.8019586652517319, 0.7440077066421509, 0.8503034263849258, 0.8508463203907013, 0.9766532890498638, 0.9874053336679935, 0.8967286646366119, 0.9607216194272041, 1.000383984297514, 0.9753408804535866, 0.7390269637107849, 0.9195351973176003, 0.8813528046011925, 0.892404668033123, 0.6998376250267029, 0.922886461019516, 1.1308923214673996, 0.9062410295009613, 0.9972728565335274, 0.8640103489160538, 0.982693849131465, 1.0389345660805702, 0.8748224675655365, 1.0051909368485212, 0.896133154630661, 0.9052317664027214, 0.9238308370113373, 0.7796090394258499, 0.8701698184013367, 0.9655497670173645, 0.9265769571065903, 0.9147566258907318, 0.9241489917039871, 0.8169508576393127, 0.9190735891461372, 0.8470532149076462, 0.8507210463285446, 0.8878029510378838, 0.7974357604980469, 0.8542769700288773, 1.0246600862592459, 0.8209687173366547, 0.9099486023187637, 1.0198301263153553, 0.7345661818981171, 0.9243328496813774, 0.8822831138968468, 0.9933309815824032, 0.8877722471952438, 0.8099428713321686, 0.8735074698925018, 0.7964486628770828, 0.972629752010107, 0.803575336933136, 0.724381148815155, 0.9728763811290264, 0.8539321273565292, 0.8263203799724579, 0.9236585646867752, 0.91133052110672, 0.9210029095411301, 0.6741185784339905, 0.7773828357458115, 0.9355964362621307, 0.6739959418773651, 0.8360999822616577, 0.8900681734085083, 0.9356981888413429, 0.6934961080551147, 0.7428005635738373, 0.8220223933458328, 0.8018556237220764, 0.67247474193573, 0.9704779908061028, 0.924681767821312, 0.7446916997432709, 0.703653872013092, 0.9585645571351051, 0.9285548627376556, 0.7444921731948853, 0.7958580702543259, 0.9279280453920364, 0.8839697912335396, 0.8459905833005905, 0.8299184143543243, 0.7949540615081787, 0.8584381639957428, 0.8922257423400879, 0.7864154577255249, 0.9291886985301971, 0.8026579916477203, 0.9233518540859222, 0.9908047243952751, 0.7870273888111115, 0.9307657033205032, 0.8486297875642776, 0.8775244131684303, 0.6837909817695618, 0.6249800324440002, 0.9507430344820023, 0.810948520898819, 0.8694573491811752, 0.9804461672902107, 1.1136775240302086, 0.8358306586742401, 0.8442852050065994, 0.8513231873512268, 0.810897022485733, 0.8144260942935944, 0.8411265462636948, 0.931663990020752, 0.8182498514652252, 0.9363201558589935, 0.7555289268493652, 0.7982115149497986, 0.8966734707355499, 0.7694492638111115, 0.9184273928403854, 0.9106685444712639, 1.024768091738224, 0.9262521415948868, 0.8432674556970596, 0.9373913034796715, 0.8071154057979584, 0.9817974269390106, 0.9518053755164146, 1.0578843653202057, 0.9060254395008087, 0.9069074615836143, 0.7947541326284409, 0.8482553660869598, 0.7791565358638763, 0.7486437261104584, 0.8286084830760956, 0.8165217339992523, 1.023297380656004, 0.9155000522732735, 0.7607962787151337, 0.8594162464141846, 0.9967034086585045, 0.9296228960156441, 0.7139870524406433, 0.8615129888057709, 0.7664671391248703, 0.9324494302272797, 0.8404885530471802, 0.9838517941534519, 0.9443078115582466, 0.8344265818595886, 0.9231469109654427, 0.9699591733515263, 1.123814344406128, 0.630593478679657, 0.8559737205505371, 0.851421982049942, 0.8499260544776917, 0.9273685738444328, 0.9066771194338799, 0.9849648699164391, 1.0119729693979025, 0.9849192379042506, 0.8674443662166595, 0.9652172066271305, 0.8931832388043404, 0.9482142999768257, 0.6864136457443237, 0.9335093274712563, 0.9605957195162773, 0.8754544705152512, 0.6819884181022644, 0.8521080017089844, 1.0357526615262032, 0.9969875235110521, 0.9089819565415382, 1.0166834499686956, 0.9305287152528763, 1.0151042165234685, 0.9632341340184212, 1.0306821167469025, 0.7673011422157288, 0.8674189001321793, 0.9213859662413597, 0.8935928717255592, 0.7679659426212311, 0.9509917348623276, 0.6802770793437958, 0.8401206731796265, 0.8009426593780518, 0.9275469928979874, 1.0257700458168983, 0.6421037316322327, 0.8944191709160805, 0.8450125306844711, 1.0106723420321941, 0.939323402941227, 1.0162121392786503, 1.0049812961369753, 1.023493219166994, 0.8269230723381042, 0.9090392291545868, 0.8511289060115814, 0.862594947218895, 0.9606971405446529, 0.8217277973890305, 0.8422323912382126, 0.9350933507084846, 0.8423827290534973, 0.9585474021732807, 0.9116607457399368, 0.943650983273983, 0.9158361703157425, 0.9197847694158554, 0.8806366696953773, 0.9591291546821594, 0.937046118080616, 0.7976917028427124, 0.9218830764293671, 0.8774752765893936, 0.777408093214035, 0.8384382426738739, 0.8406310677528381, 0.6993906199932098, 0.8925797045230865, 0.9056669026613235, 0.8410073816776276, 0.8976879790425301, 0.9199317172169685, 0.8970145359635353, 0.8421472012996674, 0.8267298638820648, 1.0334179401397705, 1.014882493764162, 0.8987659513950348, 0.9426260218024254, 0.8288062065839767, 0.8712430000305176, 0.8442596644163132, 0.8812709003686905, 0.974361864849925, 0.9833457693457603, 0.9969537481665611, 0.903594121336937, 0.8694545328617096, 0.7598093301057816, 0.9274933636188507, 0.881715402007103, 0.5877390801906586, 0.9257852137088776, 0.9571964591741562, 0.889709822833538, 0.9137887954711914, 0.8212589919567108, 0.7518371343612671, 0.9294361174106598, 0.6858129799365997, 0.7595748454332352, 0.9684740230441093, 0.9378329403698444, 0.7554930448532104, 0.8518600761890411, 0.6992317140102386, 0.8841397315263748, 0.7965184450149536, 0.8213326632976532, 0.8417834490537643, 0.9177379533648491, 0.8922012150287628, 0.9399397037923336, 0.72843798995018, 0.9938374543562531, 0.8659947365522385, 1.0804556608200073, 0.9176474511623383, 1.0046152919530869, 0.8596693426370621, 0.966637596487999, 0.9716649167239666, 0.7690454423427582, 0.8339508920907974, 0.8908791244029999, 0.8711337596178055, 0.9577314518392086, 0.8801320791244507, 0.8306552469730377, 0.8066017329692841, 0.7113401889801025, 0.7948237359523773, 0.8359297513961792, 0.8420525044202805, 0.8181298971176147, 0.9087606891989708, 0.8928233757615089, 0.776746541261673, 0.9401869475841522, 0.9875515829771757, 0.9095847010612488, 0.8051701933145523, 0.9105037897825241, 0.8965495377779007, 0.9247336164116859, 0.9447208195924759, 0.9402468502521515, 0.7821309566497803, 0.890599250793457, 0.9624356143176556, 0.8551256954669952, 0.9260359555482864, 0.9408754110336304, 0.8929484263062477, 0.8153331577777863, 0.9056431353092194, 0.8941456526517868, 0.874477744102478, 1.026405792683363, 0.8604037463665009, 1.0247975066304207, 0.980922594666481, 0.7994116246700287, 0.894548773765564, 1.0375100821256638, 0.9244086220860481, 0.9095979556441307, 0.8069780766963959, 0.9168228954076767, 0.7973995506763458, 0.7524823546409607, 0.8584958612918854, 0.9694613181054592, 0.7941071540117264, 0.8007461875677109, 1.0148829109966755, 0.8511361479759216, 0.8583461940288544, 0.9659853726625443, 0.868366926908493, 0.7434188723564148, 0.8668399900197983, 0.8506293892860413, 0.8604002594947815, 0.7495691776275635, 0.763691782951355, 0.8653707504272461, 0.9311465919017792, 0.8450861871242523, 0.9507551714777946, 0.8891835361719131, 1.1175478100776672, 1.0087227709591389, 0.712873101234436, 0.9845731034874916, 0.9956967309117317, 0.758755549788475, 0.9343322515487671, 0.6866466403007507, 1.0582436695694923, 0.9330306872725487, 0.8425848186016083, 1.1043948605656624, 0.9252566173672676, 0.9757667277008295, 0.7900854647159576, 0.9437321349978447, 0.943872731178999, 0.8841090053319931, 0.9394988231360912, 1.021922029554844, 0.960884440690279, 0.7256492972373962, 0.9542737156152725, 0.7658977955579758, 0.8052659332752228, 0.8493161201477051, 0.9114005267620087, 0.8941800892353058, 0.9997204197570682]\n"
     ]
    }
   ],
   "source": [
    "print(impostor_distances)"
   ]
  },
  {
   "cell_type": "code",
   "execution_count": 34,
   "metadata": {},
   "outputs": [],
   "source": [
    "def evaluate_threshold(distances, threshold):\n",
    "    \"\"\"Evaluate pairs against the threshold to determine matches and non-matches.\"\"\"\n",
    "    matches = [distance <= threshold for distance in distances]\n",
    "    return matches\n",
    "\n",
    "def calculate_metrics(genuine_distances, impostor_distances, threshold):\n",
    "    \"\"\"Calculate evaluation metrics based on distances and a threshold.\"\"\"\n",
    "    genuine_matches = evaluate_threshold(genuine_distances, threshold)\n",
    "    impostor_matches = evaluate_threshold(impostor_distances, threshold)\n",
    "\n",
    "    # True Positive: Genuine pair correctly matched\n",
    "    tp = sum(genuine_matches)\n",
    "    # False Positive: Impostor pair incorrectly matched\n",
    "    fp = sum(impostor_matches)\n",
    "    # True Negative: Impostor pair correctly not matched\n",
    "    tn = len(impostor_matches) - fp\n",
    "    # False Negative: Genuine pair incorrectly not matched\n",
    "    fn = len(genuine_matches) - tp\n",
    "\n",
    "    # Example metric calculations\n",
    "    far = fp / (fp + tn)  # False Acceptance Rate\n",
    "    frr = fn / (fn + tp)  # False Rejection Rate\n",
    "\n",
    "    return {'FAR': far, 'FRR': frr}"
   ]
  },
  {
   "cell_type": "code",
   "execution_count": 35,
   "metadata": {},
   "outputs": [],
   "source": [
    "# Main evaluation\n",
    "\n",
    "thresholds = np.arange(0.01, 1.0, 0.01)\n",
    "results = {}\n",
    "\n",
    "for threshold in thresholds:\n",
    "    metrics = calculate_metrics(genuine_distances, impostor_distances, threshold)\n",
    "    results[threshold] = metrics"
   ]
  },
  {
   "cell_type": "code",
   "execution_count": 36,
   "metadata": {},
   "outputs": [
    {
     "name": "stdout",
     "output_type": "stream",
     "text": [
      "{0.01: {'FAR': 0.0, 'FRR': 1.0}, 0.02: {'FAR': 0.0, 'FRR': 1.0}, 0.03: {'FAR': 0.0, 'FRR': 1.0}, 0.04: {'FAR': 0.0, 'FRR': 1.0}, 0.05: {'FAR': 0.0, 'FRR': 1.0}, 0.060000000000000005: {'FAR': 0.0, 'FRR': 1.0}, 0.06999999999999999: {'FAR': 0.0, 'FRR': 1.0}, 0.08: {'FAR': 0.0, 'FRR': 1.0}, 0.09: {'FAR': 0.0, 'FRR': 1.0}, 0.09999999999999999: {'FAR': 0.0, 'FRR': 1.0}, 0.11: {'FAR': 0.0, 'FRR': 1.0}, 0.12: {'FAR': 0.0, 'FRR': 1.0}, 0.13: {'FAR': 0.0, 'FRR': 1.0}, 0.14: {'FAR': 0.0, 'FRR': 1.0}, 0.15000000000000002: {'FAR': 0.0, 'FRR': 1.0}, 0.16: {'FAR': 0.0, 'FRR': 1.0}, 0.17: {'FAR': 0.0, 'FRR': 1.0}, 0.18000000000000002: {'FAR': 0.0, 'FRR': 0.9924812030075187}, 0.19: {'FAR': 0.0, 'FRR': 0.9924812030075187}, 0.2: {'FAR': 0.0, 'FRR': 0.9899749373433584}, 0.21000000000000002: {'FAR': 0.0, 'FRR': 0.9874686716791979}, 0.22: {'FAR': 0.0, 'FRR': 0.9874686716791979}, 0.23: {'FAR': 0.0, 'FRR': 0.9699248120300752}, 0.24000000000000002: {'FAR': 0.0, 'FRR': 0.9674185463659147}, 0.25: {'FAR': 0.0, 'FRR': 0.9649122807017544}, 0.26: {'FAR': 0.0, 'FRR': 0.9523809523809523}, 0.27: {'FAR': 0.0, 'FRR': 0.9398496240601504}, 0.28: {'FAR': 0.0, 'FRR': 0.924812030075188}, 0.29000000000000004: {'FAR': 0.0, 'FRR': 0.9172932330827067}, 0.3: {'FAR': 0.0, 'FRR': 0.9047619047619048}, 0.31: {'FAR': 0.0, 'FRR': 0.8972431077694235}, 0.32: {'FAR': 0.0, 'FRR': 0.8872180451127819}, 0.33: {'FAR': 0.0, 'FRR': 0.8696741854636592}, 0.34: {'FAR': 0.0, 'FRR': 0.8521303258145363}, 0.35000000000000003: {'FAR': 0.0, 'FRR': 0.8345864661654135}, 0.36000000000000004: {'FAR': 0.0, 'FRR': 0.8095238095238095}, 0.37: {'FAR': 0.0, 'FRR': 0.7894736842105263}, 0.38: {'FAR': 0.0, 'FRR': 0.7794486215538847}, 0.39: {'FAR': 0.0, 'FRR': 0.7719298245614035}, 0.4: {'FAR': 0.0, 'FRR': 0.7343358395989975}, 0.41000000000000003: {'FAR': 0.0, 'FRR': 0.6867167919799498}, 0.42000000000000004: {'FAR': 0.0, 'FRR': 0.6791979949874687}, 0.43: {'FAR': 0.0, 'FRR': 0.6616541353383458}, 0.44: {'FAR': 0.0, 'FRR': 0.6441102756892231}, 0.45: {'FAR': 0.0, 'FRR': 0.6190476190476191}, 0.46: {'FAR': 0.0, 'FRR': 0.5939849624060151}, 0.47000000000000003: {'FAR': 0.0, 'FRR': 0.5538847117794486}, 0.48000000000000004: {'FAR': 0.0, 'FRR': 0.5263157894736842}, 0.49: {'FAR': 0.0, 'FRR': 0.5012531328320802}, 0.5: {'FAR': 0.0, 'FRR': 0.46867167919799496}, 0.51: {'FAR': 0.0, 'FRR': 0.44611528822055135}, 0.52: {'FAR': 0.0, 'FRR': 0.42105263157894735}, 0.53: {'FAR': 0.0, 'FRR': 0.40100250626566414}, 0.54: {'FAR': 0.0, 'FRR': 0.37092731829573933}, 0.55: {'FAR': 0.0, 'FRR': 0.3433583959899749}, 0.56: {'FAR': 0.0, 'FRR': 0.3182957393483709}, 0.5700000000000001: {'FAR': 0.0, 'FRR': 0.2957393483709273}, 0.5800000000000001: {'FAR': 0.0, 'FRR': 0.2807017543859649}, 0.59: {'FAR': 0.002506265664160401, 'FRR': 0.2531328320802005}, 0.6: {'FAR': 0.002506265664160401, 'FRR': 0.24310776942355888}, 0.61: {'FAR': 0.002506265664160401, 'FRR': 0.21303258145363407}, 0.62: {'FAR': 0.002506265664160401, 'FRR': 0.19548872180451127}, 0.63: {'FAR': 0.005012531328320802, 'FRR': 0.16791979949874686}, 0.64: {'FAR': 0.007518796992481203, 'FRR': 0.14786967418546365}, 0.65: {'FAR': 0.010025062656641603, 'FRR': 0.13784461152882205}, 0.66: {'FAR': 0.010025062656641603, 'FRR': 0.11779448621553884}, 0.67: {'FAR': 0.010025062656641603, 'FRR': 0.10526315789473684}, 0.68: {'FAR': 0.017543859649122806, 'FRR': 0.08771929824561403}, 0.6900000000000001: {'FAR': 0.03258145363408521, 'FRR': 0.08270676691729323}, 0.7000000000000001: {'FAR': 0.042606516290726815, 'FRR': 0.07017543859649122}, 0.7100000000000001: {'FAR': 0.045112781954887216, 'FRR': 0.06766917293233082}, 0.72: {'FAR': 0.05513784461152882, 'FRR': 0.05764411027568922}, 0.73: {'FAR': 0.06265664160401002, 'FRR': 0.05263157894736842}, 0.74: {'FAR': 0.06766917293233082, 'FRR': 0.045112781954887216}, 0.75: {'FAR': 0.08521303258145363, 'FRR': 0.03258145363408521}, 0.76: {'FAR': 0.10275689223057644, 'FRR': 0.02756892230576441}, 0.77: {'FAR': 0.12781954887218044, 'FRR': 0.022556390977443608}, 0.78: {'FAR': 0.14536340852130325, 'FRR': 0.022556390977443608}, 0.79: {'FAR': 0.15288220551378445, 'FRR': 0.020050125313283207}, 0.8: {'FAR': 0.19298245614035087, 'FRR': 0.017543859649122806}, 0.81: {'FAR': 0.22305764411027568, 'FRR': 0.017543859649122806}, 0.8200000000000001: {'FAR': 0.24310776942355888, 'FRR': 0.012531328320802004}, 0.8300000000000001: {'FAR': 0.2706766917293233, 'FRR': 0.012531328320802004}, 0.8400000000000001: {'FAR': 0.2907268170426065, 'FRR': 0.010025062656641603}, 0.85: {'FAR': 0.3458646616541353, 'FRR': 0.010025062656641603}, 0.86: {'FAR': 0.39348370927318294, 'FRR': 0.010025062656641603}, 0.87: {'FAR': 0.43107769423558895, 'FRR': 0.010025062656641603}, 0.88: {'FAR': 0.45363408521303256, 'FRR': 0.007518796992481203}, 0.89: {'FAR': 0.48621553884711777, 'FRR': 0.007518796992481203}, 0.9: {'FAR': 0.5413533834586466, 'FRR': 0.007518796992481203}, 0.91: {'FAR': 0.5764411027568922, 'FRR': 0.007518796992481203}, 0.92: {'FAR': 0.6190476190476191, 'FRR': 0.005012531328320802}, 0.93: {'FAR': 0.6892230576441103, 'FRR': 0.005012531328320802}, 0.9400000000000001: {'FAR': 0.7343358395989975, 'FRR': 0.005012531328320802}, 0.9500000000000001: {'FAR': 0.7619047619047619, 'FRR': 0.005012531328320802}, 0.9600000000000001: {'FAR': 0.7894736842105263, 'FRR': 0.005012531328320802}, 0.97: {'FAR': 0.8245614035087719, 'FRR': 0.005012531328320802}, 0.98: {'FAR': 0.8471177944862155, 'FRR': 0.002506265664160401}, 0.99: {'FAR': 0.8822055137844611, 'FRR': 0.002506265664160401}}\n"
     ]
    }
   ],
   "source": [
    "print(results)"
   ]
  },
  {
   "cell_type": "code",
   "execution_count": 37,
   "metadata": {},
   "outputs": [],
   "source": [
    "import matplotlib.pyplot as plt\n"
   ]
  },
  {
   "cell_type": "code",
   "execution_count": 38,
   "metadata": {},
   "outputs": [
    {
     "data": {
      "image/png": "[encoded data removed]",
      "text/plain": [
       "<Figure size 700x600 with 1 Axes>"
      ]
     },
     "metadata": {},
     "output_type": "display_data"
    }
   ],
   "source": [
    "thresholds = [key for key in results.keys()]\n",
    "far = [results[thresh]['FAR'] for thresh in thresholds]\n",
    "\n",
    "\n",
    "plt.figure(figsize=(7, 6)) \n",
    "plt.plot(thresholds, far, linestyle='-', color='r')\n",
    "plt.title('FAR')\n",
    "plt.xlabel('Threshold')\n",
    "plt.ylabel('FAR')\n",
    "plt.show()"
   ]
  },
  {
   "cell_type": "code",
   "execution_count": 39,
   "metadata": {},
   "outputs": [
    {
     "data": {
      "image/png": "[encoded data removed]",
      "text/plain": [
       "<Figure size 700x600 with 1 Axes>"
      ]
     },
     "metadata": {},
     "output_type": "display_data"
    }
   ],
   "source": [
    "frr = [results[thresh]['FRR'] for thresh in thresholds]\n",
    "plt.figure(figsize=(7, 6))\n",
    "plt.plot(thresholds, frr, linestyle='-', color='b')\n",
    "plt.title('FRR')\n",
    "plt.xlabel('Threshold')\n",
    "plt.ylabel('FRR')\n",
    "plt.show()"
   ]
  },
  {
   "cell_type": "code",
   "execution_count": 40,
   "metadata": {},
   "outputs": [
    {
     "data": {
      "image/png": "[encoded data removed]",
      "text/plain": [
       "<Figure size 640x480 with 1 Axes>"
      ]
     },
     "metadata": {},
     "output_type": "display_data"
    }
   ],
   "source": [
    "frr1 = [1-results[thresh]['FRR'] for thresh in thresholds]\n",
    "\n",
    "\n",
    "plt.figure()\n",
    "plt.plot(far, frr1, linestyle='-', color='b')\n",
    "plt.title('ROC Curve')\n",
    "plt.xlabel('False Accept Rate (FAR)')\n",
    "plt.ylabel('1 - False Reject Rate (FRR)')\n",
    "plt.show()"
   ]
  },
  {
   "cell_type": "code",
   "execution_count": 41,
   "metadata": {},
   "outputs": [
    {
     "data": {
      "image/png": "[encoded data removed]",
      "text/plain": [
       "<Figure size 640x480 with 1 Axes>"
      ]
     },
     "metadata": {},
     "output_type": "display_data"
    }
   ],
   "source": [
    "# Extract FAR and FRR values for plotting\n",
    "fars = [results[thresh]['FAR'] for thresh in thresholds if thresh != 'inf']\n",
    "frrs = [results[thresh]['FRR'] for thresh in thresholds if thresh != 'inf']\n",
    "\n",
    "# Since 'inf' can't be plotted, we remove it from the list of thresholds\n",
    "# Also, we ensure thresholds are sorted because the plotting assumes this order\n",
    "sorted_indices = np.argsort(thresholds)\n",
    "fars = np.array(fars)[sorted_indices]\n",
    "frrs = np.array(frrs)[sorted_indices]\n",
    "\n",
    "# Plotting the DET curve\n",
    "plt.figure()\n",
    "plt.plot(fars, frrs, linestyle='-', color='b')\n",
    "plt.xscale('log')\n",
    "plt.yscale('log')\n",
    "plt.title('DET Curve')\n",
    "plt.xlabel('False Accept Rate (FAR)')\n",
    "plt.ylabel('False Reject Rate (FRR)')\n",
    "plt.show()"
   ]
  }
 ],
 "metadata": {
  "kernelspec": {
   "display_name": "Python 3",
   "language": "python",
   "name": "python3"
  },
  "language_info": {
   "codemirror_mode": {
    "name": "ipython",
    "version": 3
   },
   "file_extension": ".py",
   "mimetype": "text/x-python",
   "name": "python",
   "nbconvert_exporter": "python",
   "pygments_lexer": "ipython3",
   "version": "3.9.6"
  }
 },
 "nbformat": 4,
 "nbformat_minor": 2
}
