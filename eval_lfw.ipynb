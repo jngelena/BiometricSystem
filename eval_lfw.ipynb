{
 "cells": [
  {
   "cell_type": "code",
   "execution_count": 159,
   "metadata": {},
   "outputs": [],
   "source": [
    "import os\n",
    "import re\n",
    "import keras\n",
    "import random\n",
    "import numpy as np\n",
    "import pandas as pd\n",
    "import matplotlib.pyplot as plt\n",
    "\n",
    "from PIL import Image\n",
    "from deepface import DeepFace\n",
    "from itertools import combinations\n",
    "from sklearn.metrics.pairwise import cosine_similarity"
   ]
  },
  {
   "cell_type": "code",
   "execution_count": 2,
   "metadata": {},
   "outputs": [],
   "source": [
    "RANDOM_SEED = 42\n",
    "random.seed(RANDOM_SEED)"
   ]
  },
  {
   "cell_type": "code",
   "execution_count": 3,
   "metadata": {},
   "outputs": [],
   "source": [
    "# load the model and the path of the dataset \n",
    "model = keras.models.load_model('ghostfacenet_v1.h5')\n",
    "dataset_dir = 'lfw_dataset'"
   ]
  },
  {
   "cell_type": "code",
   "execution_count": 4,
   "metadata": {},
   "outputs": [
    {
     "name": "stdout",
     "output_type": "stream",
     "text": [
      "The dataframe has a total of 5749 entities\n"
     ]
    }
   ],
   "source": [
    "# get the list of persons\n",
    "entities = [p for p in os.listdir(dataset_dir) if os.path.isdir(os.path.join(dataset_dir, p)) and not p.startswith('.')]\n",
    "random.shuffle(entities) \n",
    "print(f'The dataframe has a total of {len(entities)} entities')"
   ]
  },
  {
   "cell_type": "markdown",
   "metadata": {},
   "source": [
    "Identificazione 1:N\n",
    "\n",
    "Open set: \n",
    "E’ possibile che molti probes sottomessi al sistema non appartengono a nessun soggetto presente nel gallery. Il sistema deve prima capire se il soggetto è uno sconosciuto o no e poi nel caso verificarne l’identità.\n",
    "\n",
    "Enrolled persons 注册过的人: has more 3 images\n",
    "\n",
    "unenrolled_persons: has less images\n",
    "\n",
    "Genuine Probes: Questi sono tentativi di accesso in cui i dati biometrici presentati al sistema sono effettivamente quelli della persona che afferma di essere. In altre parole, quando un utente autorizzato cerca di accedere al sistema usando i propri dati biometrici veri, si parla di \"genuine probes\". Questo tipo di prova è usato per verificare l'efficacia del sistema nel riconoscere correttamente gli utenti legittimi.\n",
    "\n",
    "Impostor Probes: A differenza delle genuine probes, le impostor probes sono tentativi di accesso dove i dati biometrici usati sono quelli di una persona diversa da quella che sta effettuando il tentativo. Questo può includere sia situazioni in cui una persona cerca di ingannare il sistema usando i dati biometrici di un'altra persona, sia tentativi di accesso non autorizzati utilizzando dati rubati o falsificati. Queste prove sono cruciali per testare la sicurezza del sistema contro accessi fraudolenti."
   ]
  },
  {
   "cell_type": "code",
   "execution_count": 5,
   "metadata": {},
   "outputs": [],
   "source": [
    "data = []\n",
    "min_num_photo_for_person = 3\n",
    "max_num_photo_for_person = 6\n",
    "\n",
    "for person in entities:\n",
    "    person_dir = os.path.join(dataset_dir, person) # Entity path\n",
    "    images_path = os.listdir(person_dir) # Entity photos\n",
    "    random.shuffle(images_path)\n",
    "    count = 0\n",
    "    for image in images_path:   \n",
    "        img_path = os.path.join(person_dir, image)\n",
    "        result = DeepFace.extract_faces(img_path=img_path, enforce_detection=False)\n",
    "        # Remove image which can't detect the face\n",
    "        if result[0]['confidence'] != 0 and count <= max_num_photo_for_person:\n",
    "            if len(images_path) >= min_num_photo_for_person:\n",
    "                data.append([person, img_path, 'Genuine'])\n",
    "            else: \n",
    "                data.append([person, img_path, 'Impostor'])\n",
    "        count += 1\n"
   ]
  },
  {
   "cell_type": "code",
   "execution_count": 6,
   "metadata": {},
   "outputs": [
    {
     "data": {
      "text/html": [
       "<div>\n",
       "<style scoped>\n",
       "    .dataframe tbody tr th:only-of-type {\n",
       "        vertical-align: middle;\n",
       "    }\n",
       "\n",
       "    .dataframe tbody tr th {\n",
       "        vertical-align: top;\n",
       "    }\n",
       "\n",
       "    .dataframe thead th {\n",
       "        text-align: right;\n",
       "    }\n",
       "</style>\n",
       "<table border=\"1\" class=\"dataframe\">\n",
       "  <thead>\n",
       "    <tr style=\"text-align: right;\">\n",
       "      <th></th>\n",
       "      <th>Person</th>\n",
       "      <th>Image_Path</th>\n",
       "      <th>Label</th>\n",
       "    </tr>\n",
       "  </thead>\n",
       "  <tbody>\n",
       "    <tr>\n",
       "      <th>0</th>\n",
       "      <td>Gianna_Angelopoulos-Daskalaki</td>\n",
       "      <td>lfw_dataset/Gianna_Angelopoulos-Daskalaki/Gian...</td>\n",
       "      <td>Genuine</td>\n",
       "    </tr>\n",
       "    <tr>\n",
       "      <th>1</th>\n",
       "      <td>Gianna_Angelopoulos-Daskalaki</td>\n",
       "      <td>lfw_dataset/Gianna_Angelopoulos-Daskalaki/Gian...</td>\n",
       "      <td>Genuine</td>\n",
       "    </tr>\n",
       "    <tr>\n",
       "      <th>2</th>\n",
       "      <td>Gianna_Angelopoulos-Daskalaki</td>\n",
       "      <td>lfw_dataset/Gianna_Angelopoulos-Daskalaki/Gian...</td>\n",
       "      <td>Genuine</td>\n",
       "    </tr>\n",
       "    <tr>\n",
       "      <th>3</th>\n",
       "      <td>Vitali_Klitschko</td>\n",
       "      <td>lfw_dataset/Vitali_Klitschko/Vitali_Klitschko_...</td>\n",
       "      <td>Genuine</td>\n",
       "    </tr>\n",
       "    <tr>\n",
       "      <th>4</th>\n",
       "      <td>Vitali_Klitschko</td>\n",
       "      <td>lfw_dataset/Vitali_Klitschko/Vitali_Klitschko_...</td>\n",
       "      <td>Genuine</td>\n",
       "    </tr>\n",
       "  </tbody>\n",
       "</table>\n",
       "</div>"
      ],
      "text/plain": [
       "                          Person  \\\n",
       "0  Gianna_Angelopoulos-Daskalaki   \n",
       "1  Gianna_Angelopoulos-Daskalaki   \n",
       "2  Gianna_Angelopoulos-Daskalaki   \n",
       "3               Vitali_Klitschko   \n",
       "4               Vitali_Klitschko   \n",
       "\n",
       "                                          Image_Path    Label  \n",
       "0  lfw_dataset/Gianna_Angelopoulos-Daskalaki/Gian...  Genuine  \n",
       "1  lfw_dataset/Gianna_Angelopoulos-Daskalaki/Gian...  Genuine  \n",
       "2  lfw_dataset/Gianna_Angelopoulos-Daskalaki/Gian...  Genuine  \n",
       "3  lfw_dataset/Vitali_Klitschko/Vitali_Klitschko_...  Genuine  \n",
       "4  lfw_dataset/Vitali_Klitschko/Vitali_Klitschko_...  Genuine  "
      ]
     },
     "execution_count": 6,
     "metadata": {},
     "output_type": "execute_result"
    }
   ],
   "source": [
    "df = pd.DataFrame(data, columns=['Person', 'Image_Path', 'Label'])\n",
    "df.head()"
   ]
  },
  {
   "cell_type": "code",
   "execution_count": 7,
   "metadata": {},
   "outputs": [
    {
     "name": "stdout",
     "output_type": "stream",
     "text": [
      "The dataframe has a total of 9633 images\n",
      "The dataframe has 4180 Genuine Probes\n",
      "The dataframe has 5453 Impostor Probes\n"
     ]
    }
   ],
   "source": [
    "print(f'The dataframe has a total of {df.shape[0]} images')\n",
    "print(f\"The dataframe has {(df['Label'] == 'Genuine').sum()} Genuine Probes\")\n",
    "print(f\"The dataframe has {(df['Label'] == 'Impostor').sum()} Impostor Probes\")"
   ]
  },
  {
   "cell_type": "code",
   "execution_count": 8,
   "metadata": {},
   "outputs": [
    {
     "name": "stdout",
     "output_type": "stream",
     "text": [
      "The dataframe has a total of 901 Enrolled entities\n",
      "The dataframe has a total of 4717 Not Enrolled entities\n"
     ]
    }
   ],
   "source": [
    "person_genuine = set(df[df['Label'] == 'Genuine']['Person'].tolist())\n",
    "print(f'The dataframe has a total of {len(person_genuine)} Enrolled entities')\n",
    "\n",
    "person_impostor = set(df[df['Label'] == 'Impostor']['Person'].tolist())\n",
    "print(f'The dataframe has a total of {len(person_impostor)} Not Enrolled entities')"
   ]
  },
  {
   "cell_type": "markdown",
   "metadata": {},
   "source": [
    "### reduce the entities to 20"
   ]
  },
  {
   "cell_type": "code",
   "execution_count": 9,
   "metadata": {},
   "outputs": [
    {
     "name": "stdout",
     "output_type": "stream",
     "text": [
      "Total impostors in the new dataframe: 4717\n",
      "Total enrolled in the new dataframe: 20\n",
      "The new dataframe has 95 Genuine Probes\n",
      "The new dataframe has 5453 Impostor Probes\n"
     ]
    }
   ],
   "source": [
    "selected_genuine = np.random.choice(list(person_genuine), 20, replace=False)\n",
    "\n",
    "filtered_impostor_df = df[df['Person'].isin(selected_genuine)]\n",
    "final_df = pd.concat([filtered_impostor_df, df[df['Label'] == 'Impostor']])\n",
    "\n",
    "print(f\"Total impostors in the new dataframe: {final_df[final_df['Label'] == 'Impostor']['Person'].nunique()}\")\n",
    "print(f\"Total enrolled in the new dataframe: {final_df[final_df['Label'] == 'Genuine']['Person'].nunique()}\")\n",
    "\n",
    "print(f\"The new dataframe has {(final_df['Label'] == 'Genuine').sum()} Genuine Probes\")\n",
    "print(f\"The new dataframe has {(final_df['Label'] == 'Impostor').sum()} Impostor Probes\")"
   ]
  },
  {
   "cell_type": "code",
   "execution_count": 10,
   "metadata": {},
   "outputs": [
    {
     "name": "stdout",
     "output_type": "stream",
     "text": [
      "Total impostors in the new dataframe: 20\n",
      "Total enrolled in the new dataframe: 20\n",
      "The new dataframe has 95 Genuine Probes\n",
      "The new dataframe has 23 Impostor Probes\n"
     ]
    }
   ],
   "source": [
    "selected_impostors = np.random.choice(list(person_impostor), 20, replace=False)\n",
    "\n",
    "filtered_impostor_df = final_df[final_df['Person'].isin(selected_impostors)]\n",
    "final_df1 = pd.concat([filtered_impostor_df, final_df[final_df['Label'] == 'Genuine']])\n",
    "\n",
    "print(f\"Total impostors in the new dataframe: {final_df1[final_df1['Label'] == 'Impostor']['Person'].nunique()}\")\n",
    "print(f\"Total enrolled in the new dataframe: {final_df1[final_df1['Label'] == 'Genuine']['Person'].nunique()}\")\n",
    "\n",
    "print(f\"The new dataframe has {(final_df1['Label'] == 'Genuine').sum()} Genuine Probes\")\n",
    "print(f\"The new dataframe has {(final_df1['Label'] == 'Impostor').sum()} Impostor Probes\")"
   ]
  },
  {
   "cell_type": "code",
   "execution_count": 13,
   "metadata": {},
   "outputs": [
    {
     "data": {
      "text/html": [
       "<div>\n",
       "<style scoped>\n",
       "    .dataframe tbody tr th:only-of-type {\n",
       "        vertical-align: middle;\n",
       "    }\n",
       "\n",
       "    .dataframe tbody tr th {\n",
       "        vertical-align: top;\n",
       "    }\n",
       "\n",
       "    .dataframe thead th {\n",
       "        text-align: right;\n",
       "    }\n",
       "</style>\n",
       "<table border=\"1\" class=\"dataframe\">\n",
       "  <thead>\n",
       "    <tr style=\"text-align: right;\">\n",
       "      <th></th>\n",
       "      <th>Person</th>\n",
       "      <th>Image_Path</th>\n",
       "      <th>Label</th>\n",
       "    </tr>\n",
       "  </thead>\n",
       "  <tbody>\n",
       "    <tr>\n",
       "      <th>527</th>\n",
       "      <td>Muammar_Gaddafi</td>\n",
       "      <td>lfw_dataset/Muammar_Gaddafi/Muammar_Gaddafi_00...</td>\n",
       "      <td>Impostor</td>\n",
       "    </tr>\n",
       "    <tr>\n",
       "      <th>528</th>\n",
       "      <td>Muammar_Gaddafi</td>\n",
       "      <td>lfw_dataset/Muammar_Gaddafi/Muammar_Gaddafi_00...</td>\n",
       "      <td>Impostor</td>\n",
       "    </tr>\n",
       "    <tr>\n",
       "      <th>549</th>\n",
       "      <td>Evelyn_Lauder</td>\n",
       "      <td>lfw_dataset/Evelyn_Lauder/Evelyn_Lauder_0001.jpg</td>\n",
       "      <td>Impostor</td>\n",
       "    </tr>\n",
       "    <tr>\n",
       "      <th>860</th>\n",
       "      <td>Cliff_Ellis</td>\n",
       "      <td>lfw_dataset/Cliff_Ellis/Cliff_Ellis_0001.jpg</td>\n",
       "      <td>Impostor</td>\n",
       "    </tr>\n",
       "    <tr>\n",
       "      <th>1761</th>\n",
       "      <td>Joe_Vandever</td>\n",
       "      <td>lfw_dataset/Joe_Vandever/Joe_Vandever_0001.jpg</td>\n",
       "      <td>Impostor</td>\n",
       "    </tr>\n",
       "  </tbody>\n",
       "</table>\n",
       "</div>"
      ],
      "text/plain": [
       "               Person                                         Image_Path  \\\n",
       "527   Muammar_Gaddafi  lfw_dataset/Muammar_Gaddafi/Muammar_Gaddafi_00...   \n",
       "528   Muammar_Gaddafi  lfw_dataset/Muammar_Gaddafi/Muammar_Gaddafi_00...   \n",
       "549     Evelyn_Lauder   lfw_dataset/Evelyn_Lauder/Evelyn_Lauder_0001.jpg   \n",
       "860       Cliff_Ellis       lfw_dataset/Cliff_Ellis/Cliff_Ellis_0001.jpg   \n",
       "1761     Joe_Vandever     lfw_dataset/Joe_Vandever/Joe_Vandever_0001.jpg   \n",
       "\n",
       "         Label  \n",
       "527   Impostor  \n",
       "528   Impostor  \n",
       "549   Impostor  \n",
       "860   Impostor  \n",
       "1761  Impostor  "
      ]
     },
     "execution_count": 13,
     "metadata": {},
     "output_type": "execute_result"
    }
   ],
   "source": [
    "final_df1.head()"
   ]
  },
  {
   "cell_type": "code",
   "execution_count": 14,
   "metadata": {},
   "outputs": [],
   "source": [
    "final_df1.to_csv('image_genuine_impostor.csv', index=False)"
   ]
  },
  {
   "cell_type": "markdown",
   "metadata": {},
   "source": [
    "crea la matrice ALL-against-ALL approach\n"
   ]
  },
  {
   "cell_type": "markdown",
   "metadata": {},
   "source": [
    "## da qui load csv e run e crea la matrice con la distanza"
   ]
  },
  {
   "cell_type": "code",
   "execution_count": 15,
   "metadata": {},
   "outputs": [],
   "source": [
    "final_df1 = pd.read_csv('image_genuine_impostor.csv')"
   ]
  },
  {
   "cell_type": "code",
   "execution_count": 16,
   "metadata": {},
   "outputs": [],
   "source": [
    "gallery = final_df1[final_df1['Label'] == 'Genuine']['Image_Path'].tolist() # colonne\n",
    "probes = final_df1['Image_Path'].tolist() # righe"
   ]
  },
  {
   "cell_type": "code",
   "execution_count": null,
   "metadata": {},
   "outputs": [],
   "source": [
    "print(gallery)\n",
    "print(len(gallery))"
   ]
  },
  {
   "cell_type": "code",
   "execution_count": null,
   "metadata": {},
   "outputs": [],
   "source": [
    "print(probes)\n",
    "print(len(probes))"
   ]
  },
  {
   "cell_type": "markdown",
   "metadata": {},
   "source": [
    "11 gallery x 13 probes =  143objects 24.8s \n",
    "95 x 118 = 10,030 30m"
   ]
  },
  {
   "cell_type": "code",
   "execution_count": 19,
   "metadata": {},
   "outputs": [],
   "source": [
    "distances = []\n",
    "\n",
    "for img2_path in probes:\n",
    "    distances_row = []\n",
    "    for img1_path in gallery:\n",
    "        result = DeepFace.verify(img1_path=img1_path, img2_path = img2_path, model_name = 'GhostFaceNet')\n",
    "        distances_row.append(result['distance'])\n",
    "    distances.append(distances_row)"
   ]
  },
  {
   "cell_type": "code",
   "execution_count": 20,
   "metadata": {},
   "outputs": [],
   "source": [
    "df_distanze = pd.DataFrame(distances, index=probes, columns=gallery)"
   ]
  },
  {
   "cell_type": "code",
   "execution_count": 21,
   "metadata": {},
   "outputs": [
    {
     "data": {
      "text/html": [
       "<div>\n",
       "<style scoped>\n",
       "    .dataframe tbody tr th:only-of-type {\n",
       "        vertical-align: middle;\n",
       "    }\n",
       "\n",
       "    .dataframe tbody tr th {\n",
       "        vertical-align: top;\n",
       "    }\n",
       "\n",
       "    .dataframe thead th {\n",
       "        text-align: right;\n",
       "    }\n",
       "</style>\n",
       "<table border=\"1\" class=\"dataframe\">\n",
       "  <thead>\n",
       "    <tr style=\"text-align: right;\">\n",
       "      <th></th>\n",
       "      <th>lfw_dataset/Bob_Dole/Bob_Dole_0003.jpg</th>\n",
       "      <th>lfw_dataset/Bob_Dole/Bob_Dole_0001.jpg</th>\n",
       "      <th>lfw_dataset/Bob_Dole/Bob_Dole_0002.jpg</th>\n",
       "      <th>lfw_dataset/Mark_Hurlbert/Mark_Hurlbert_0003.jpg</th>\n",
       "      <th>lfw_dataset/Mark_Hurlbert/Mark_Hurlbert_0005.jpg</th>\n",
       "      <th>lfw_dataset/Mark_Hurlbert/Mark_Hurlbert_0001.jpg</th>\n",
       "      <th>lfw_dataset/Mark_Hurlbert/Mark_Hurlbert_0002.jpg</th>\n",
       "      <th>lfw_dataset/Mark_Hurlbert/Mark_Hurlbert_0004.jpg</th>\n",
       "      <th>lfw_dataset/Abdullah_al-Attiyah/Abdullah_al-Attiyah_0002.jpg</th>\n",
       "      <th>lfw_dataset/Abdullah_al-Attiyah/Abdullah_al-Attiyah_0003.jpg</th>\n",
       "      <th>...</th>\n",
       "      <th>lfw_dataset/Roy_Williams/Roy_Williams_0004.jpg</th>\n",
       "      <th>lfw_dataset/Mahathir_Mohamad/Mahathir_Mohamad_0006.jpg</th>\n",
       "      <th>lfw_dataset/Mahathir_Mohamad/Mahathir_Mohamad_0005.jpg</th>\n",
       "      <th>lfw_dataset/Mahathir_Mohamad/Mahathir_Mohamad_0007.jpg</th>\n",
       "      <th>lfw_dataset/Mahathir_Mohamad/Mahathir_Mohamad_0001.jpg</th>\n",
       "      <th>lfw_dataset/Mahathir_Mohamad/Mahathir_Mohamad_0004.jpg</th>\n",
       "      <th>lfw_dataset/Mahathir_Mohamad/Mahathir_Mohamad_0014.jpg</th>\n",
       "      <th>lfw_dataset/Jim_Carrey/Jim_Carrey_0002.jpg</th>\n",
       "      <th>lfw_dataset/Jim_Carrey/Jim_Carrey_0003.jpg</th>\n",
       "      <th>lfw_dataset/Jim_Carrey/Jim_Carrey_0001.jpg</th>\n",
       "    </tr>\n",
       "  </thead>\n",
       "  <tbody>\n",
       "    <tr>\n",
       "      <th>lfw_dataset/Muammar_Gaddafi/Muammar_Gaddafi_0002.jpg</th>\n",
       "      <td>1.075806</td>\n",
       "      <td>1.063287</td>\n",
       "      <td>1.094025</td>\n",
       "      <td>1.003199</td>\n",
       "      <td>0.897616</td>\n",
       "      <td>0.965774</td>\n",
       "      <td>0.909154</td>\n",
       "      <td>0.988448</td>\n",
       "      <td>1.034994</td>\n",
       "      <td>1.026336</td>\n",
       "      <td>...</td>\n",
       "      <td>1.027628</td>\n",
       "      <td>1.072138</td>\n",
       "      <td>1.009884</td>\n",
       "      <td>1.025072</td>\n",
       "      <td>1.009960</td>\n",
       "      <td>0.910514</td>\n",
       "      <td>1.004082</td>\n",
       "      <td>0.915453</td>\n",
       "      <td>0.862646</td>\n",
       "      <td>0.926291</td>\n",
       "    </tr>\n",
       "    <tr>\n",
       "      <th>lfw_dataset/Muammar_Gaddafi/Muammar_Gaddafi_0001.jpg</th>\n",
       "      <td>1.035444</td>\n",
       "      <td>1.044940</td>\n",
       "      <td>1.043981</td>\n",
       "      <td>0.922984</td>\n",
       "      <td>0.949242</td>\n",
       "      <td>0.950999</td>\n",
       "      <td>0.952447</td>\n",
       "      <td>0.965264</td>\n",
       "      <td>1.020002</td>\n",
       "      <td>1.056516</td>\n",
       "      <td>...</td>\n",
       "      <td>1.020662</td>\n",
       "      <td>1.041932</td>\n",
       "      <td>1.067459</td>\n",
       "      <td>1.074492</td>\n",
       "      <td>1.023869</td>\n",
       "      <td>1.030236</td>\n",
       "      <td>1.069680</td>\n",
       "      <td>0.870167</td>\n",
       "      <td>0.932215</td>\n",
       "      <td>0.922480</td>\n",
       "    </tr>\n",
       "    <tr>\n",
       "      <th>lfw_dataset/Evelyn_Lauder/Evelyn_Lauder_0001.jpg</th>\n",
       "      <td>0.974692</td>\n",
       "      <td>0.877558</td>\n",
       "      <td>1.075005</td>\n",
       "      <td>0.862793</td>\n",
       "      <td>1.026364</td>\n",
       "      <td>1.002694</td>\n",
       "      <td>0.938094</td>\n",
       "      <td>0.841655</td>\n",
       "      <td>0.971888</td>\n",
       "      <td>0.964937</td>\n",
       "      <td>...</td>\n",
       "      <td>0.967545</td>\n",
       "      <td>0.973839</td>\n",
       "      <td>0.972815</td>\n",
       "      <td>0.973017</td>\n",
       "      <td>0.934180</td>\n",
       "      <td>1.033668</td>\n",
       "      <td>0.988440</td>\n",
       "      <td>1.043755</td>\n",
       "      <td>1.126394</td>\n",
       "      <td>1.074762</td>\n",
       "    </tr>\n",
       "    <tr>\n",
       "      <th>lfw_dataset/Cliff_Ellis/Cliff_Ellis_0001.jpg</th>\n",
       "      <td>0.977382</td>\n",
       "      <td>1.055060</td>\n",
       "      <td>0.925123</td>\n",
       "      <td>1.065828</td>\n",
       "      <td>0.957008</td>\n",
       "      <td>1.031279</td>\n",
       "      <td>1.022949</td>\n",
       "      <td>1.147830</td>\n",
       "      <td>1.013310</td>\n",
       "      <td>1.000425</td>\n",
       "      <td>...</td>\n",
       "      <td>0.868258</td>\n",
       "      <td>0.915397</td>\n",
       "      <td>0.996200</td>\n",
       "      <td>0.822989</td>\n",
       "      <td>0.901488</td>\n",
       "      <td>0.960033</td>\n",
       "      <td>0.998585</td>\n",
       "      <td>0.994863</td>\n",
       "      <td>0.915256</td>\n",
       "      <td>1.136081</td>\n",
       "    </tr>\n",
       "    <tr>\n",
       "      <th>lfw_dataset/Joe_Vandever/Joe_Vandever_0001.jpg</th>\n",
       "      <td>1.127945</td>\n",
       "      <td>1.136793</td>\n",
       "      <td>1.071955</td>\n",
       "      <td>0.855035</td>\n",
       "      <td>1.000085</td>\n",
       "      <td>0.930563</td>\n",
       "      <td>0.914672</td>\n",
       "      <td>0.866745</td>\n",
       "      <td>0.909297</td>\n",
       "      <td>1.013839</td>\n",
       "      <td>...</td>\n",
       "      <td>0.892475</td>\n",
       "      <td>0.918978</td>\n",
       "      <td>0.877298</td>\n",
       "      <td>0.768450</td>\n",
       "      <td>0.711020</td>\n",
       "      <td>0.896121</td>\n",
       "      <td>0.842975</td>\n",
       "      <td>0.887773</td>\n",
       "      <td>1.101188</td>\n",
       "      <td>1.003043</td>\n",
       "    </tr>\n",
       "  </tbody>\n",
       "</table>\n",
       "<p>5 rows × 95 columns</p>\n",
       "</div>"
      ],
      "text/plain": [
       "                                                    lfw_dataset/Bob_Dole/Bob_Dole_0003.jpg  \\\n",
       "lfw_dataset/Muammar_Gaddafi/Muammar_Gaddafi_000...                                1.075806   \n",
       "lfw_dataset/Muammar_Gaddafi/Muammar_Gaddafi_000...                                1.035444   \n",
       "lfw_dataset/Evelyn_Lauder/Evelyn_Lauder_0001.jpg                                  0.974692   \n",
       "lfw_dataset/Cliff_Ellis/Cliff_Ellis_0001.jpg                                      0.977382   \n",
       "lfw_dataset/Joe_Vandever/Joe_Vandever_0001.jpg                                    1.127945   \n",
       "\n",
       "                                                    lfw_dataset/Bob_Dole/Bob_Dole_0001.jpg  \\\n",
       "lfw_dataset/Muammar_Gaddafi/Muammar_Gaddafi_000...                                1.063287   \n",
       "lfw_dataset/Muammar_Gaddafi/Muammar_Gaddafi_000...                                1.044940   \n",
       "lfw_dataset/Evelyn_Lauder/Evelyn_Lauder_0001.jpg                                  0.877558   \n",
       "lfw_dataset/Cliff_Ellis/Cliff_Ellis_0001.jpg                                      1.055060   \n",
       "lfw_dataset/Joe_Vandever/Joe_Vandever_0001.jpg                                    1.136793   \n",
       "\n",
       "                                                    lfw_dataset/Bob_Dole/Bob_Dole_0002.jpg  \\\n",
       "lfw_dataset/Muammar_Gaddafi/Muammar_Gaddafi_000...                                1.094025   \n",
       "lfw_dataset/Muammar_Gaddafi/Muammar_Gaddafi_000...                                1.043981   \n",
       "lfw_dataset/Evelyn_Lauder/Evelyn_Lauder_0001.jpg                                  1.075005   \n",
       "lfw_dataset/Cliff_Ellis/Cliff_Ellis_0001.jpg                                      0.925123   \n",
       "lfw_dataset/Joe_Vandever/Joe_Vandever_0001.jpg                                    1.071955   \n",
       "\n",
       "                                                    lfw_dataset/Mark_Hurlbert/Mark_Hurlbert_0003.jpg  \\\n",
       "lfw_dataset/Muammar_Gaddafi/Muammar_Gaddafi_000...                                          1.003199   \n",
       "lfw_dataset/Muammar_Gaddafi/Muammar_Gaddafi_000...                                          0.922984   \n",
       "lfw_dataset/Evelyn_Lauder/Evelyn_Lauder_0001.jpg                                            0.862793   \n",
       "lfw_dataset/Cliff_Ellis/Cliff_Ellis_0001.jpg                                                1.065828   \n",
       "lfw_dataset/Joe_Vandever/Joe_Vandever_0001.jpg                                              0.855035   \n",
       "\n",
       "                                                    lfw_dataset/Mark_Hurlbert/Mark_Hurlbert_0005.jpg  \\\n",
       "lfw_dataset/Muammar_Gaddafi/Muammar_Gaddafi_000...                                          0.897616   \n",
       "lfw_dataset/Muammar_Gaddafi/Muammar_Gaddafi_000...                                          0.949242   \n",
       "lfw_dataset/Evelyn_Lauder/Evelyn_Lauder_0001.jpg                                            1.026364   \n",
       "lfw_dataset/Cliff_Ellis/Cliff_Ellis_0001.jpg                                                0.957008   \n",
       "lfw_dataset/Joe_Vandever/Joe_Vandever_0001.jpg                                              1.000085   \n",
       "\n",
       "                                                    lfw_dataset/Mark_Hurlbert/Mark_Hurlbert_0001.jpg  \\\n",
       "lfw_dataset/Muammar_Gaddafi/Muammar_Gaddafi_000...                                          0.965774   \n",
       "lfw_dataset/Muammar_Gaddafi/Muammar_Gaddafi_000...                                          0.950999   \n",
       "lfw_dataset/Evelyn_Lauder/Evelyn_Lauder_0001.jpg                                            1.002694   \n",
       "lfw_dataset/Cliff_Ellis/Cliff_Ellis_0001.jpg                                                1.031279   \n",
       "lfw_dataset/Joe_Vandever/Joe_Vandever_0001.jpg                                              0.930563   \n",
       "\n",
       "                                                    lfw_dataset/Mark_Hurlbert/Mark_Hurlbert_0002.jpg  \\\n",
       "lfw_dataset/Muammar_Gaddafi/Muammar_Gaddafi_000...                                          0.909154   \n",
       "lfw_dataset/Muammar_Gaddafi/Muammar_Gaddafi_000...                                          0.952447   \n",
       "lfw_dataset/Evelyn_Lauder/Evelyn_Lauder_0001.jpg                                            0.938094   \n",
       "lfw_dataset/Cliff_Ellis/Cliff_Ellis_0001.jpg                                                1.022949   \n",
       "lfw_dataset/Joe_Vandever/Joe_Vandever_0001.jpg                                              0.914672   \n",
       "\n",
       "                                                    lfw_dataset/Mark_Hurlbert/Mark_Hurlbert_0004.jpg  \\\n",
       "lfw_dataset/Muammar_Gaddafi/Muammar_Gaddafi_000...                                          0.988448   \n",
       "lfw_dataset/Muammar_Gaddafi/Muammar_Gaddafi_000...                                          0.965264   \n",
       "lfw_dataset/Evelyn_Lauder/Evelyn_Lauder_0001.jpg                                            0.841655   \n",
       "lfw_dataset/Cliff_Ellis/Cliff_Ellis_0001.jpg                                                1.147830   \n",
       "lfw_dataset/Joe_Vandever/Joe_Vandever_0001.jpg                                              0.866745   \n",
       "\n",
       "                                                    lfw_dataset/Abdullah_al-Attiyah/Abdullah_al-Attiyah_0002.jpg  \\\n",
       "lfw_dataset/Muammar_Gaddafi/Muammar_Gaddafi_000...                                           1.034994              \n",
       "lfw_dataset/Muammar_Gaddafi/Muammar_Gaddafi_000...                                           1.020002              \n",
       "lfw_dataset/Evelyn_Lauder/Evelyn_Lauder_0001.jpg                                             0.971888              \n",
       "lfw_dataset/Cliff_Ellis/Cliff_Ellis_0001.jpg                                                 1.013310              \n",
       "lfw_dataset/Joe_Vandever/Joe_Vandever_0001.jpg                                               0.909297              \n",
       "\n",
       "                                                    lfw_dataset/Abdullah_al-Attiyah/Abdullah_al-Attiyah_0003.jpg  \\\n",
       "lfw_dataset/Muammar_Gaddafi/Muammar_Gaddafi_000...                                           1.026336              \n",
       "lfw_dataset/Muammar_Gaddafi/Muammar_Gaddafi_000...                                           1.056516              \n",
       "lfw_dataset/Evelyn_Lauder/Evelyn_Lauder_0001.jpg                                             0.964937              \n",
       "lfw_dataset/Cliff_Ellis/Cliff_Ellis_0001.jpg                                                 1.000425              \n",
       "lfw_dataset/Joe_Vandever/Joe_Vandever_0001.jpg                                               1.013839              \n",
       "\n",
       "                                                    ...  \\\n",
       "lfw_dataset/Muammar_Gaddafi/Muammar_Gaddafi_000...  ...   \n",
       "lfw_dataset/Muammar_Gaddafi/Muammar_Gaddafi_000...  ...   \n",
       "lfw_dataset/Evelyn_Lauder/Evelyn_Lauder_0001.jpg    ...   \n",
       "lfw_dataset/Cliff_Ellis/Cliff_Ellis_0001.jpg        ...   \n",
       "lfw_dataset/Joe_Vandever/Joe_Vandever_0001.jpg      ...   \n",
       "\n",
       "                                                    lfw_dataset/Roy_Williams/Roy_Williams_0004.jpg  \\\n",
       "lfw_dataset/Muammar_Gaddafi/Muammar_Gaddafi_000...                                        1.027628   \n",
       "lfw_dataset/Muammar_Gaddafi/Muammar_Gaddafi_000...                                        1.020662   \n",
       "lfw_dataset/Evelyn_Lauder/Evelyn_Lauder_0001.jpg                                          0.967545   \n",
       "lfw_dataset/Cliff_Ellis/Cliff_Ellis_0001.jpg                                              0.868258   \n",
       "lfw_dataset/Joe_Vandever/Joe_Vandever_0001.jpg                                            0.892475   \n",
       "\n",
       "                                                    lfw_dataset/Mahathir_Mohamad/Mahathir_Mohamad_0006.jpg  \\\n",
       "lfw_dataset/Muammar_Gaddafi/Muammar_Gaddafi_000...                                           1.072138        \n",
       "lfw_dataset/Muammar_Gaddafi/Muammar_Gaddafi_000...                                           1.041932        \n",
       "lfw_dataset/Evelyn_Lauder/Evelyn_Lauder_0001.jpg                                             0.973839        \n",
       "lfw_dataset/Cliff_Ellis/Cliff_Ellis_0001.jpg                                                 0.915397        \n",
       "lfw_dataset/Joe_Vandever/Joe_Vandever_0001.jpg                                               0.918978        \n",
       "\n",
       "                                                    lfw_dataset/Mahathir_Mohamad/Mahathir_Mohamad_0005.jpg  \\\n",
       "lfw_dataset/Muammar_Gaddafi/Muammar_Gaddafi_000...                                           1.009884        \n",
       "lfw_dataset/Muammar_Gaddafi/Muammar_Gaddafi_000...                                           1.067459        \n",
       "lfw_dataset/Evelyn_Lauder/Evelyn_Lauder_0001.jpg                                             0.972815        \n",
       "lfw_dataset/Cliff_Ellis/Cliff_Ellis_0001.jpg                                                 0.996200        \n",
       "lfw_dataset/Joe_Vandever/Joe_Vandever_0001.jpg                                               0.877298        \n",
       "\n",
       "                                                    lfw_dataset/Mahathir_Mohamad/Mahathir_Mohamad_0007.jpg  \\\n",
       "lfw_dataset/Muammar_Gaddafi/Muammar_Gaddafi_000...                                           1.025072        \n",
       "lfw_dataset/Muammar_Gaddafi/Muammar_Gaddafi_000...                                           1.074492        \n",
       "lfw_dataset/Evelyn_Lauder/Evelyn_Lauder_0001.jpg                                             0.973017        \n",
       "lfw_dataset/Cliff_Ellis/Cliff_Ellis_0001.jpg                                                 0.822989        \n",
       "lfw_dataset/Joe_Vandever/Joe_Vandever_0001.jpg                                               0.768450        \n",
       "\n",
       "                                                    lfw_dataset/Mahathir_Mohamad/Mahathir_Mohamad_0001.jpg  \\\n",
       "lfw_dataset/Muammar_Gaddafi/Muammar_Gaddafi_000...                                           1.009960        \n",
       "lfw_dataset/Muammar_Gaddafi/Muammar_Gaddafi_000...                                           1.023869        \n",
       "lfw_dataset/Evelyn_Lauder/Evelyn_Lauder_0001.jpg                                             0.934180        \n",
       "lfw_dataset/Cliff_Ellis/Cliff_Ellis_0001.jpg                                                 0.901488        \n",
       "lfw_dataset/Joe_Vandever/Joe_Vandever_0001.jpg                                               0.711020        \n",
       "\n",
       "                                                    lfw_dataset/Mahathir_Mohamad/Mahathir_Mohamad_0004.jpg  \\\n",
       "lfw_dataset/Muammar_Gaddafi/Muammar_Gaddafi_000...                                           0.910514        \n",
       "lfw_dataset/Muammar_Gaddafi/Muammar_Gaddafi_000...                                           1.030236        \n",
       "lfw_dataset/Evelyn_Lauder/Evelyn_Lauder_0001.jpg                                             1.033668        \n",
       "lfw_dataset/Cliff_Ellis/Cliff_Ellis_0001.jpg                                                 0.960033        \n",
       "lfw_dataset/Joe_Vandever/Joe_Vandever_0001.jpg                                               0.896121        \n",
       "\n",
       "                                                    lfw_dataset/Mahathir_Mohamad/Mahathir_Mohamad_0014.jpg  \\\n",
       "lfw_dataset/Muammar_Gaddafi/Muammar_Gaddafi_000...                                           1.004082        \n",
       "lfw_dataset/Muammar_Gaddafi/Muammar_Gaddafi_000...                                           1.069680        \n",
       "lfw_dataset/Evelyn_Lauder/Evelyn_Lauder_0001.jpg                                             0.988440        \n",
       "lfw_dataset/Cliff_Ellis/Cliff_Ellis_0001.jpg                                                 0.998585        \n",
       "lfw_dataset/Joe_Vandever/Joe_Vandever_0001.jpg                                               0.842975        \n",
       "\n",
       "                                                    lfw_dataset/Jim_Carrey/Jim_Carrey_0002.jpg  \\\n",
       "lfw_dataset/Muammar_Gaddafi/Muammar_Gaddafi_000...                                    0.915453   \n",
       "lfw_dataset/Muammar_Gaddafi/Muammar_Gaddafi_000...                                    0.870167   \n",
       "lfw_dataset/Evelyn_Lauder/Evelyn_Lauder_0001.jpg                                      1.043755   \n",
       "lfw_dataset/Cliff_Ellis/Cliff_Ellis_0001.jpg                                          0.994863   \n",
       "lfw_dataset/Joe_Vandever/Joe_Vandever_0001.jpg                                        0.887773   \n",
       "\n",
       "                                                    lfw_dataset/Jim_Carrey/Jim_Carrey_0003.jpg  \\\n",
       "lfw_dataset/Muammar_Gaddafi/Muammar_Gaddafi_000...                                    0.862646   \n",
       "lfw_dataset/Muammar_Gaddafi/Muammar_Gaddafi_000...                                    0.932215   \n",
       "lfw_dataset/Evelyn_Lauder/Evelyn_Lauder_0001.jpg                                      1.126394   \n",
       "lfw_dataset/Cliff_Ellis/Cliff_Ellis_0001.jpg                                          0.915256   \n",
       "lfw_dataset/Joe_Vandever/Joe_Vandever_0001.jpg                                        1.101188   \n",
       "\n",
       "                                                    lfw_dataset/Jim_Carrey/Jim_Carrey_0001.jpg  \n",
       "lfw_dataset/Muammar_Gaddafi/Muammar_Gaddafi_000...                                    0.926291  \n",
       "lfw_dataset/Muammar_Gaddafi/Muammar_Gaddafi_000...                                    0.922480  \n",
       "lfw_dataset/Evelyn_Lauder/Evelyn_Lauder_0001.jpg                                      1.074762  \n",
       "lfw_dataset/Cliff_Ellis/Cliff_Ellis_0001.jpg                                          1.136081  \n",
       "lfw_dataset/Joe_Vandever/Joe_Vandever_0001.jpg                                        1.003043  \n",
       "\n",
       "[5 rows x 95 columns]"
      ]
     },
     "execution_count": 21,
     "metadata": {},
     "output_type": "execute_result"
    }
   ],
   "source": [
    "df_distanze.head()"
   ]
  },
  {
   "cell_type": "code",
   "execution_count": 22,
   "metadata": {},
   "outputs": [
    {
     "name": "stdout",
     "output_type": "stream",
     "text": [
      "118\n"
     ]
    }
   ],
   "source": [
    "print(df_distanze.shape[0])"
   ]
  },
  {
   "cell_type": "code",
   "execution_count": 24,
   "metadata": {},
   "outputs": [],
   "source": [
    "df_distanze.to_csv('distance_matrix.csv')"
   ]
  },
  {
   "cell_type": "markdown",
   "metadata": {},
   "source": [
    "----- sopra ok ----- crea matrice"
   ]
  },
  {
   "cell_type": "markdown",
   "metadata": {},
   "source": [
    "Nel contesto dei sistemi biometrici, il threshold (soglia) è un valore critico utilizzato per decidere se due campioni biometrici (ad esempio, impronte digitali, riconoscimento facciale, ecc.) provengono dalla stessa persona o no. La decisione si basa sul confronto di una misura di similarità o distanza tra i campioni contro questo valore di soglia."
   ]
  },
  {
   "cell_type": "code",
   "execution_count": 97,
   "metadata": {},
   "outputs": [],
   "source": [
    "df_distanze = pd.read_csv('distance_matrix.csv', index_col=0)"
   ]
  },
  {
   "cell_type": "code",
   "execution_count": 98,
   "metadata": {},
   "outputs": [
    {
     "data": {
      "text/html": [
       "<div>\n",
       "<style scoped>\n",
       "    .dataframe tbody tr th:only-of-type {\n",
       "        vertical-align: middle;\n",
       "    }\n",
       "\n",
       "    .dataframe tbody tr th {\n",
       "        vertical-align: top;\n",
       "    }\n",
       "\n",
       "    .dataframe thead th {\n",
       "        text-align: right;\n",
       "    }\n",
       "</style>\n",
       "<table border=\"1\" class=\"dataframe\">\n",
       "  <thead>\n",
       "    <tr style=\"text-align: right;\">\n",
       "      <th></th>\n",
       "      <th>lfw_dataset/Bob_Dole/Bob_Dole_0003.jpg</th>\n",
       "      <th>lfw_dataset/Bob_Dole/Bob_Dole_0001.jpg</th>\n",
       "      <th>lfw_dataset/Bob_Dole/Bob_Dole_0002.jpg</th>\n",
       "      <th>lfw_dataset/Mark_Hurlbert/Mark_Hurlbert_0003.jpg</th>\n",
       "      <th>lfw_dataset/Mark_Hurlbert/Mark_Hurlbert_0005.jpg</th>\n",
       "      <th>lfw_dataset/Mark_Hurlbert/Mark_Hurlbert_0001.jpg</th>\n",
       "      <th>lfw_dataset/Mark_Hurlbert/Mark_Hurlbert_0002.jpg</th>\n",
       "      <th>lfw_dataset/Mark_Hurlbert/Mark_Hurlbert_0004.jpg</th>\n",
       "      <th>lfw_dataset/Abdullah_al-Attiyah/Abdullah_al-Attiyah_0002.jpg</th>\n",
       "      <th>lfw_dataset/Abdullah_al-Attiyah/Abdullah_al-Attiyah_0003.jpg</th>\n",
       "      <th>...</th>\n",
       "      <th>lfw_dataset/Roy_Williams/Roy_Williams_0004.jpg</th>\n",
       "      <th>lfw_dataset/Mahathir_Mohamad/Mahathir_Mohamad_0006.jpg</th>\n",
       "      <th>lfw_dataset/Mahathir_Mohamad/Mahathir_Mohamad_0005.jpg</th>\n",
       "      <th>lfw_dataset/Mahathir_Mohamad/Mahathir_Mohamad_0007.jpg</th>\n",
       "      <th>lfw_dataset/Mahathir_Mohamad/Mahathir_Mohamad_0001.jpg</th>\n",
       "      <th>lfw_dataset/Mahathir_Mohamad/Mahathir_Mohamad_0004.jpg</th>\n",
       "      <th>lfw_dataset/Mahathir_Mohamad/Mahathir_Mohamad_0014.jpg</th>\n",
       "      <th>lfw_dataset/Jim_Carrey/Jim_Carrey_0002.jpg</th>\n",
       "      <th>lfw_dataset/Jim_Carrey/Jim_Carrey_0003.jpg</th>\n",
       "      <th>lfw_dataset/Jim_Carrey/Jim_Carrey_0001.jpg</th>\n",
       "    </tr>\n",
       "  </thead>\n",
       "  <tbody>\n",
       "    <tr>\n",
       "      <th>lfw_dataset/Muammar_Gaddafi/Muammar_Gaddafi_0002.jpg</th>\n",
       "      <td>1.075806</td>\n",
       "      <td>1.063287</td>\n",
       "      <td>1.094025</td>\n",
       "      <td>1.003199</td>\n",
       "      <td>0.897616</td>\n",
       "      <td>0.965774</td>\n",
       "      <td>0.909154</td>\n",
       "      <td>0.988448</td>\n",
       "      <td>1.034994</td>\n",
       "      <td>1.026336</td>\n",
       "      <td>...</td>\n",
       "      <td>1.027628</td>\n",
       "      <td>1.072138</td>\n",
       "      <td>1.009884</td>\n",
       "      <td>1.025072</td>\n",
       "      <td>1.009960</td>\n",
       "      <td>0.910514</td>\n",
       "      <td>1.004082</td>\n",
       "      <td>0.915453</td>\n",
       "      <td>0.862646</td>\n",
       "      <td>0.926291</td>\n",
       "    </tr>\n",
       "    <tr>\n",
       "      <th>lfw_dataset/Muammar_Gaddafi/Muammar_Gaddafi_0001.jpg</th>\n",
       "      <td>1.035444</td>\n",
       "      <td>1.044940</td>\n",
       "      <td>1.043981</td>\n",
       "      <td>0.922984</td>\n",
       "      <td>0.949242</td>\n",
       "      <td>0.950999</td>\n",
       "      <td>0.952447</td>\n",
       "      <td>0.965264</td>\n",
       "      <td>1.020002</td>\n",
       "      <td>1.056516</td>\n",
       "      <td>...</td>\n",
       "      <td>1.020662</td>\n",
       "      <td>1.041932</td>\n",
       "      <td>1.067459</td>\n",
       "      <td>1.074492</td>\n",
       "      <td>1.023869</td>\n",
       "      <td>1.030236</td>\n",
       "      <td>1.069680</td>\n",
       "      <td>0.870167</td>\n",
       "      <td>0.932215</td>\n",
       "      <td>0.922480</td>\n",
       "    </tr>\n",
       "    <tr>\n",
       "      <th>lfw_dataset/Evelyn_Lauder/Evelyn_Lauder_0001.jpg</th>\n",
       "      <td>0.974692</td>\n",
       "      <td>0.877558</td>\n",
       "      <td>1.075005</td>\n",
       "      <td>0.862793</td>\n",
       "      <td>1.026364</td>\n",
       "      <td>1.002694</td>\n",
       "      <td>0.938094</td>\n",
       "      <td>0.841655</td>\n",
       "      <td>0.971888</td>\n",
       "      <td>0.964937</td>\n",
       "      <td>...</td>\n",
       "      <td>0.967545</td>\n",
       "      <td>0.973839</td>\n",
       "      <td>0.972815</td>\n",
       "      <td>0.973017</td>\n",
       "      <td>0.934180</td>\n",
       "      <td>1.033668</td>\n",
       "      <td>0.988440</td>\n",
       "      <td>1.043755</td>\n",
       "      <td>1.126394</td>\n",
       "      <td>1.074762</td>\n",
       "    </tr>\n",
       "    <tr>\n",
       "      <th>lfw_dataset/Cliff_Ellis/Cliff_Ellis_0001.jpg</th>\n",
       "      <td>0.977382</td>\n",
       "      <td>1.055060</td>\n",
       "      <td>0.925123</td>\n",
       "      <td>1.065828</td>\n",
       "      <td>0.957008</td>\n",
       "      <td>1.031279</td>\n",
       "      <td>1.022949</td>\n",
       "      <td>1.147830</td>\n",
       "      <td>1.013310</td>\n",
       "      <td>1.000425</td>\n",
       "      <td>...</td>\n",
       "      <td>0.868258</td>\n",
       "      <td>0.915397</td>\n",
       "      <td>0.996200</td>\n",
       "      <td>0.822989</td>\n",
       "      <td>0.901488</td>\n",
       "      <td>0.960033</td>\n",
       "      <td>0.998585</td>\n",
       "      <td>0.994863</td>\n",
       "      <td>0.915256</td>\n",
       "      <td>1.136081</td>\n",
       "    </tr>\n",
       "    <tr>\n",
       "      <th>lfw_dataset/Joe_Vandever/Joe_Vandever_0001.jpg</th>\n",
       "      <td>1.127945</td>\n",
       "      <td>1.136793</td>\n",
       "      <td>1.071955</td>\n",
       "      <td>0.855035</td>\n",
       "      <td>1.000085</td>\n",
       "      <td>0.930563</td>\n",
       "      <td>0.914672</td>\n",
       "      <td>0.866745</td>\n",
       "      <td>0.909297</td>\n",
       "      <td>1.013839</td>\n",
       "      <td>...</td>\n",
       "      <td>0.892475</td>\n",
       "      <td>0.918978</td>\n",
       "      <td>0.877298</td>\n",
       "      <td>0.768450</td>\n",
       "      <td>0.711020</td>\n",
       "      <td>0.896121</td>\n",
       "      <td>0.842975</td>\n",
       "      <td>0.887773</td>\n",
       "      <td>1.101188</td>\n",
       "      <td>1.003043</td>\n",
       "    </tr>\n",
       "  </tbody>\n",
       "</table>\n",
       "<p>5 rows × 95 columns</p>\n",
       "</div>"
      ],
      "text/plain": [
       "                                                    lfw_dataset/Bob_Dole/Bob_Dole_0003.jpg  \\\n",
       "lfw_dataset/Muammar_Gaddafi/Muammar_Gaddafi_000...                                1.075806   \n",
       "lfw_dataset/Muammar_Gaddafi/Muammar_Gaddafi_000...                                1.035444   \n",
       "lfw_dataset/Evelyn_Lauder/Evelyn_Lauder_0001.jpg                                  0.974692   \n",
       "lfw_dataset/Cliff_Ellis/Cliff_Ellis_0001.jpg                                      0.977382   \n",
       "lfw_dataset/Joe_Vandever/Joe_Vandever_0001.jpg                                    1.127945   \n",
       "\n",
       "                                                    lfw_dataset/Bob_Dole/Bob_Dole_0001.jpg  \\\n",
       "lfw_dataset/Muammar_Gaddafi/Muammar_Gaddafi_000...                                1.063287   \n",
       "lfw_dataset/Muammar_Gaddafi/Muammar_Gaddafi_000...                                1.044940   \n",
       "lfw_dataset/Evelyn_Lauder/Evelyn_Lauder_0001.jpg                                  0.877558   \n",
       "lfw_dataset/Cliff_Ellis/Cliff_Ellis_0001.jpg                                      1.055060   \n",
       "lfw_dataset/Joe_Vandever/Joe_Vandever_0001.jpg                                    1.136793   \n",
       "\n",
       "                                                    lfw_dataset/Bob_Dole/Bob_Dole_0002.jpg  \\\n",
       "lfw_dataset/Muammar_Gaddafi/Muammar_Gaddafi_000...                                1.094025   \n",
       "lfw_dataset/Muammar_Gaddafi/Muammar_Gaddafi_000...                                1.043981   \n",
       "lfw_dataset/Evelyn_Lauder/Evelyn_Lauder_0001.jpg                                  1.075005   \n",
       "lfw_dataset/Cliff_Ellis/Cliff_Ellis_0001.jpg                                      0.925123   \n",
       "lfw_dataset/Joe_Vandever/Joe_Vandever_0001.jpg                                    1.071955   \n",
       "\n",
       "                                                    lfw_dataset/Mark_Hurlbert/Mark_Hurlbert_0003.jpg  \\\n",
       "lfw_dataset/Muammar_Gaddafi/Muammar_Gaddafi_000...                                          1.003199   \n",
       "lfw_dataset/Muammar_Gaddafi/Muammar_Gaddafi_000...                                          0.922984   \n",
       "lfw_dataset/Evelyn_Lauder/Evelyn_Lauder_0001.jpg                                            0.862793   \n",
       "lfw_dataset/Cliff_Ellis/Cliff_Ellis_0001.jpg                                                1.065828   \n",
       "lfw_dataset/Joe_Vandever/Joe_Vandever_0001.jpg                                              0.855035   \n",
       "\n",
       "                                                    lfw_dataset/Mark_Hurlbert/Mark_Hurlbert_0005.jpg  \\\n",
       "lfw_dataset/Muammar_Gaddafi/Muammar_Gaddafi_000...                                          0.897616   \n",
       "lfw_dataset/Muammar_Gaddafi/Muammar_Gaddafi_000...                                          0.949242   \n",
       "lfw_dataset/Evelyn_Lauder/Evelyn_Lauder_0001.jpg                                            1.026364   \n",
       "lfw_dataset/Cliff_Ellis/Cliff_Ellis_0001.jpg                                                0.957008   \n",
       "lfw_dataset/Joe_Vandever/Joe_Vandever_0001.jpg                                              1.000085   \n",
       "\n",
       "                                                    lfw_dataset/Mark_Hurlbert/Mark_Hurlbert_0001.jpg  \\\n",
       "lfw_dataset/Muammar_Gaddafi/Muammar_Gaddafi_000...                                          0.965774   \n",
       "lfw_dataset/Muammar_Gaddafi/Muammar_Gaddafi_000...                                          0.950999   \n",
       "lfw_dataset/Evelyn_Lauder/Evelyn_Lauder_0001.jpg                                            1.002694   \n",
       "lfw_dataset/Cliff_Ellis/Cliff_Ellis_0001.jpg                                                1.031279   \n",
       "lfw_dataset/Joe_Vandever/Joe_Vandever_0001.jpg                                              0.930563   \n",
       "\n",
       "                                                    lfw_dataset/Mark_Hurlbert/Mark_Hurlbert_0002.jpg  \\\n",
       "lfw_dataset/Muammar_Gaddafi/Muammar_Gaddafi_000...                                          0.909154   \n",
       "lfw_dataset/Muammar_Gaddafi/Muammar_Gaddafi_000...                                          0.952447   \n",
       "lfw_dataset/Evelyn_Lauder/Evelyn_Lauder_0001.jpg                                            0.938094   \n",
       "lfw_dataset/Cliff_Ellis/Cliff_Ellis_0001.jpg                                                1.022949   \n",
       "lfw_dataset/Joe_Vandever/Joe_Vandever_0001.jpg                                              0.914672   \n",
       "\n",
       "                                                    lfw_dataset/Mark_Hurlbert/Mark_Hurlbert_0004.jpg  \\\n",
       "lfw_dataset/Muammar_Gaddafi/Muammar_Gaddafi_000...                                          0.988448   \n",
       "lfw_dataset/Muammar_Gaddafi/Muammar_Gaddafi_000...                                          0.965264   \n",
       "lfw_dataset/Evelyn_Lauder/Evelyn_Lauder_0001.jpg                                            0.841655   \n",
       "lfw_dataset/Cliff_Ellis/Cliff_Ellis_0001.jpg                                                1.147830   \n",
       "lfw_dataset/Joe_Vandever/Joe_Vandever_0001.jpg                                              0.866745   \n",
       "\n",
       "                                                    lfw_dataset/Abdullah_al-Attiyah/Abdullah_al-Attiyah_0002.jpg  \\\n",
       "lfw_dataset/Muammar_Gaddafi/Muammar_Gaddafi_000...                                           1.034994              \n",
       "lfw_dataset/Muammar_Gaddafi/Muammar_Gaddafi_000...                                           1.020002              \n",
       "lfw_dataset/Evelyn_Lauder/Evelyn_Lauder_0001.jpg                                             0.971888              \n",
       "lfw_dataset/Cliff_Ellis/Cliff_Ellis_0001.jpg                                                 1.013310              \n",
       "lfw_dataset/Joe_Vandever/Joe_Vandever_0001.jpg                                               0.909297              \n",
       "\n",
       "                                                    lfw_dataset/Abdullah_al-Attiyah/Abdullah_al-Attiyah_0003.jpg  \\\n",
       "lfw_dataset/Muammar_Gaddafi/Muammar_Gaddafi_000...                                           1.026336              \n",
       "lfw_dataset/Muammar_Gaddafi/Muammar_Gaddafi_000...                                           1.056516              \n",
       "lfw_dataset/Evelyn_Lauder/Evelyn_Lauder_0001.jpg                                             0.964937              \n",
       "lfw_dataset/Cliff_Ellis/Cliff_Ellis_0001.jpg                                                 1.000425              \n",
       "lfw_dataset/Joe_Vandever/Joe_Vandever_0001.jpg                                               1.013839              \n",
       "\n",
       "                                                    ...  \\\n",
       "lfw_dataset/Muammar_Gaddafi/Muammar_Gaddafi_000...  ...   \n",
       "lfw_dataset/Muammar_Gaddafi/Muammar_Gaddafi_000...  ...   \n",
       "lfw_dataset/Evelyn_Lauder/Evelyn_Lauder_0001.jpg    ...   \n",
       "lfw_dataset/Cliff_Ellis/Cliff_Ellis_0001.jpg        ...   \n",
       "lfw_dataset/Joe_Vandever/Joe_Vandever_0001.jpg      ...   \n",
       "\n",
       "                                                    lfw_dataset/Roy_Williams/Roy_Williams_0004.jpg  \\\n",
       "lfw_dataset/Muammar_Gaddafi/Muammar_Gaddafi_000...                                        1.027628   \n",
       "lfw_dataset/Muammar_Gaddafi/Muammar_Gaddafi_000...                                        1.020662   \n",
       "lfw_dataset/Evelyn_Lauder/Evelyn_Lauder_0001.jpg                                          0.967545   \n",
       "lfw_dataset/Cliff_Ellis/Cliff_Ellis_0001.jpg                                              0.868258   \n",
       "lfw_dataset/Joe_Vandever/Joe_Vandever_0001.jpg                                            0.892475   \n",
       "\n",
       "                                                    lfw_dataset/Mahathir_Mohamad/Mahathir_Mohamad_0006.jpg  \\\n",
       "lfw_dataset/Muammar_Gaddafi/Muammar_Gaddafi_000...                                           1.072138        \n",
       "lfw_dataset/Muammar_Gaddafi/Muammar_Gaddafi_000...                                           1.041932        \n",
       "lfw_dataset/Evelyn_Lauder/Evelyn_Lauder_0001.jpg                                             0.973839        \n",
       "lfw_dataset/Cliff_Ellis/Cliff_Ellis_0001.jpg                                                 0.915397        \n",
       "lfw_dataset/Joe_Vandever/Joe_Vandever_0001.jpg                                               0.918978        \n",
       "\n",
       "                                                    lfw_dataset/Mahathir_Mohamad/Mahathir_Mohamad_0005.jpg  \\\n",
       "lfw_dataset/Muammar_Gaddafi/Muammar_Gaddafi_000...                                           1.009884        \n",
       "lfw_dataset/Muammar_Gaddafi/Muammar_Gaddafi_000...                                           1.067459        \n",
       "lfw_dataset/Evelyn_Lauder/Evelyn_Lauder_0001.jpg                                             0.972815        \n",
       "lfw_dataset/Cliff_Ellis/Cliff_Ellis_0001.jpg                                                 0.996200        \n",
       "lfw_dataset/Joe_Vandever/Joe_Vandever_0001.jpg                                               0.877298        \n",
       "\n",
       "                                                    lfw_dataset/Mahathir_Mohamad/Mahathir_Mohamad_0007.jpg  \\\n",
       "lfw_dataset/Muammar_Gaddafi/Muammar_Gaddafi_000...                                           1.025072        \n",
       "lfw_dataset/Muammar_Gaddafi/Muammar_Gaddafi_000...                                           1.074492        \n",
       "lfw_dataset/Evelyn_Lauder/Evelyn_Lauder_0001.jpg                                             0.973017        \n",
       "lfw_dataset/Cliff_Ellis/Cliff_Ellis_0001.jpg                                                 0.822989        \n",
       "lfw_dataset/Joe_Vandever/Joe_Vandever_0001.jpg                                               0.768450        \n",
       "\n",
       "                                                    lfw_dataset/Mahathir_Mohamad/Mahathir_Mohamad_0001.jpg  \\\n",
       "lfw_dataset/Muammar_Gaddafi/Muammar_Gaddafi_000...                                           1.009960        \n",
       "lfw_dataset/Muammar_Gaddafi/Muammar_Gaddafi_000...                                           1.023869        \n",
       "lfw_dataset/Evelyn_Lauder/Evelyn_Lauder_0001.jpg                                             0.934180        \n",
       "lfw_dataset/Cliff_Ellis/Cliff_Ellis_0001.jpg                                                 0.901488        \n",
       "lfw_dataset/Joe_Vandever/Joe_Vandever_0001.jpg                                               0.711020        \n",
       "\n",
       "                                                    lfw_dataset/Mahathir_Mohamad/Mahathir_Mohamad_0004.jpg  \\\n",
       "lfw_dataset/Muammar_Gaddafi/Muammar_Gaddafi_000...                                           0.910514        \n",
       "lfw_dataset/Muammar_Gaddafi/Muammar_Gaddafi_000...                                           1.030236        \n",
       "lfw_dataset/Evelyn_Lauder/Evelyn_Lauder_0001.jpg                                             1.033668        \n",
       "lfw_dataset/Cliff_Ellis/Cliff_Ellis_0001.jpg                                                 0.960033        \n",
       "lfw_dataset/Joe_Vandever/Joe_Vandever_0001.jpg                                               0.896121        \n",
       "\n",
       "                                                    lfw_dataset/Mahathir_Mohamad/Mahathir_Mohamad_0014.jpg  \\\n",
       "lfw_dataset/Muammar_Gaddafi/Muammar_Gaddafi_000...                                           1.004082        \n",
       "lfw_dataset/Muammar_Gaddafi/Muammar_Gaddafi_000...                                           1.069680        \n",
       "lfw_dataset/Evelyn_Lauder/Evelyn_Lauder_0001.jpg                                             0.988440        \n",
       "lfw_dataset/Cliff_Ellis/Cliff_Ellis_0001.jpg                                                 0.998585        \n",
       "lfw_dataset/Joe_Vandever/Joe_Vandever_0001.jpg                                               0.842975        \n",
       "\n",
       "                                                    lfw_dataset/Jim_Carrey/Jim_Carrey_0002.jpg  \\\n",
       "lfw_dataset/Muammar_Gaddafi/Muammar_Gaddafi_000...                                    0.915453   \n",
       "lfw_dataset/Muammar_Gaddafi/Muammar_Gaddafi_000...                                    0.870167   \n",
       "lfw_dataset/Evelyn_Lauder/Evelyn_Lauder_0001.jpg                                      1.043755   \n",
       "lfw_dataset/Cliff_Ellis/Cliff_Ellis_0001.jpg                                          0.994863   \n",
       "lfw_dataset/Joe_Vandever/Joe_Vandever_0001.jpg                                        0.887773   \n",
       "\n",
       "                                                    lfw_dataset/Jim_Carrey/Jim_Carrey_0003.jpg  \\\n",
       "lfw_dataset/Muammar_Gaddafi/Muammar_Gaddafi_000...                                    0.862646   \n",
       "lfw_dataset/Muammar_Gaddafi/Muammar_Gaddafi_000...                                    0.932215   \n",
       "lfw_dataset/Evelyn_Lauder/Evelyn_Lauder_0001.jpg                                      1.126394   \n",
       "lfw_dataset/Cliff_Ellis/Cliff_Ellis_0001.jpg                                          0.915256   \n",
       "lfw_dataset/Joe_Vandever/Joe_Vandever_0001.jpg                                        1.101188   \n",
       "\n",
       "                                                    lfw_dataset/Jim_Carrey/Jim_Carrey_0001.jpg  \n",
       "lfw_dataset/Muammar_Gaddafi/Muammar_Gaddafi_000...                                    0.926291  \n",
       "lfw_dataset/Muammar_Gaddafi/Muammar_Gaddafi_000...                                    0.922480  \n",
       "lfw_dataset/Evelyn_Lauder/Evelyn_Lauder_0001.jpg                                      1.074762  \n",
       "lfw_dataset/Cliff_Ellis/Cliff_Ellis_0001.jpg                                          1.136081  \n",
       "lfw_dataset/Joe_Vandever/Joe_Vandever_0001.jpg                                        1.003043  \n",
       "\n",
       "[5 rows x 95 columns]"
      ]
     },
     "execution_count": 98,
     "metadata": {},
     "output_type": "execute_result"
    }
   ],
   "source": [
    "df_distanze.head()"
   ]
  },
  {
   "cell_type": "code",
   "execution_count": 99,
   "metadata": {},
   "outputs": [
    {
     "name": "stdout",
     "output_type": "stream",
     "text": [
      "95\n",
      "118\n"
     ]
    }
   ],
   "source": [
    "print(df_distanze.shape[1]) # colonne gallery\n",
    "print(df_distanze.shape[0]) # righe probes"
   ]
  },
  {
   "cell_type": "code",
   "execution_count": 100,
   "metadata": {},
   "outputs": [
    {
     "data": {
      "text/plain": [
       "40"
      ]
     },
     "execution_count": 100,
     "metadata": {},
     "output_type": "execute_result"
    }
   ],
   "source": [
    "len(set(final_df1['Person'].tolist()))"
   ]
  },
  {
   "cell_type": "code",
   "execution_count": null,
   "metadata": {},
   "outputs": [],
   "source": [
    "for probe_index in range(0, df_distanze.shape[0]-1):\n",
    "    probe_subject = df_distanze.iloc[probe_index]\n",
    "    \n",
    "    for gallery_index in range(0, df_distanze.shape[1]-1):\n",
    "        distance = df_distanze.iloc[probe_index][gallery_index]\n",
    "        probe_subject = df_distanze.index[probe_index]\n",
    "        gallery_subject = df_distanze.columns[gallery_index]\n",
    "        "
   ]
  },
  {
   "cell_type": "code",
   "execution_count": null,
   "metadata": {},
   "outputs": [],
   "source": [
    "with pd.option_context('display.max_rows', None, 'display.max_columns', None):  # print all first row with column label\n",
    "    print(df_distanze.iloc[0])"
   ]
  },
  {
   "cell_type": "code",
   "execution_count": null,
   "metadata": {},
   "outputs": [],
   "source": [
    "distances = df_distanze.iloc[0].values  # Distances for current probe\n",
    "sorted_indices = np.argsort(distances)   # Indices of gallery sorted by distance\n",
    "\n",
    "#print(distances)\n",
    "#print(sorted_indices)\n",
    "print(distances[sorted_indices[0]])\n",
    "print(df_distanze.iloc[0].index[sorted_indices[0]])"
   ]
  },
  {
   "cell_type": "code",
   "execution_count": null,
   "metadata": {},
   "outputs": [],
   "source": [
    "threshold = 1.00\n",
    "probe_index = 0\n",
    "\n",
    "probe = df_distanze.index[probe_index]\n",
    "print(probe)"
   ]
  },
  {
   "cell_type": "code",
   "execution_count": null,
   "metadata": {},
   "outputs": [],
   "source": [
    "for value_index in range(1, len(sorted_indices)-1):\n",
    "    if distances[sorted_indices[value_index]] <= threshold:\n",
    "        print(\"value index\", value_index, sorted_indices[value_index],  distances[sorted_indices[value_index]])\n",
    "        if probe != df_distanze.iloc[probe_index].index[sorted_indices[value_index]]:\n",
    "            print(df_distanze.iloc[probe_index].index[sorted_indices[value_index]], \"hi\")"
   ]
  },
  {
   "cell_type": "code",
   "execution_count": 246,
   "metadata": {},
   "outputs": [],
   "source": [
    "def is_impostor(df, image_path):\n",
    "    if image_path in df['Image_Path'].values:\n",
    "        row = df[df['Image_Path'] == image_path].iloc[0]\n",
    "        # Check if the label is 'Genuine'\n",
    "        if row['Label'] == 'Impostor':\n",
    "            return True\n",
    "    return False"
   ]
  },
  {
   "cell_type": "code",
   "execution_count": 160,
   "metadata": {},
   "outputs": [],
   "source": [
    "def extract_middle_part(string):\n",
    "    # Use regular expression to extract the middle part\n",
    "    match = re.search(r'(?<=/)\\w+(?=/)', string)\n",
    "    if match:\n",
    "        return match.group(0)\n",
    "    else:\n",
    "        return None"
   ]
  },
  {
   "cell_type": "code",
   "execution_count": 233,
   "metadata": {},
   "outputs": [],
   "source": [
    "def all_against_all(df_distanze):\n",
    "    thresholds = [round(threshold, 2) for threshold in np.arange(0.01, 1.0, 0.01)] \n",
    "    thresholds.sort()\n",
    "\n",
    "    total_genuine_attempts = df_distanze.shape[1]\n",
    "    total_impostor_attempts = (final_df1['Label'] == 'Impostor').sum()\n",
    "\n",
    "    evaluation_metrics = {\n",
    "        \"number_of_subjects\": len(set(final_df1['Person'].tolist())),\n",
    "        \"number_of_impostors\": total_impostor_attempts,\n",
    "        \"number_of_subjects_in_gallery\": (final_df1['Label'] == 'Genuine').sum(),\n",
    "        \"total_number_of_gallery_samples\": df_distanze.shape[1],\n",
    "        \"total_number_of_probe_samples\": df_distanze.shape[0],\n",
    "        \"total_genuine_attempts\": total_genuine_attempts,\n",
    "        \"thresholds\": list()\n",
    "    }\n",
    "    \n",
    "    for threshold in thresholds:\n",
    "        threshold_metrics = {\n",
    "            \"DI\": 0,  # Direct Identifications\n",
    "            \"FA\": 0,  # False Accepts\n",
    "            \"GR\": 0,  # Genuine Rejects\n",
    "            \"FR\": 0,  # False Rejects\n",
    "            \"DIR\": dict(),  # Direct Identification Rate\n",
    "            \"FRR\": 0,  # False Reject Rate\n",
    "            \"FAR\": 0,  # False Accept Rate\n",
    "            \"GRR\": 0  # Genuine Reject Rate\n",
    "        }\n",
    "\n",
    "        for probe_index in range(df_distanze.shape[0]):  # Iterate through probe samples\n",
    "            distances = df_distanze.iloc[probe_index].values  # Distances for current probe\n",
    "            sorted_indices = np.argsort(distances)  # Indices of gallery sorted by distance\n",
    "\n",
    "            #print(distances, sorted_indices)\n",
    "            impostor = is_impostor(final_df1, df_distanze.index[probe_index])\n",
    "            if not impostor:\n",
    "                # is genuine\n",
    "                # print(df_distanze.index[probe_index],distances, sorted_indices)\n",
    "                sorted_indices = sorted_indices[1:]  # Remove first index (genuine)\n",
    "\n",
    "            probe = df_distanze.index[probe_index]  # The index (row labels) of the DataFrame.\n",
    "            probe_name = extract_middle_part(probe)\n",
    "            first_gallery = df_distanze.iloc[probe_index].index[sorted_indices[0]] # The index (column labels) of the DataFrame.\n",
    "            first_gallery_name = extract_middle_part(first_gallery)\n",
    "\n",
    "            smallest_distance = distances[sorted_indices[0]]\n",
    "            is_accepted_value = smallest_distance <= threshold\n",
    "\n",
    "            if is_accepted_value:\n",
    "                if probe_name == first_gallery_name:\n",
    "                    # if are same image\n",
    "                    threshold_metrics[\"DI\"] += 1 # Direct Identifications\n",
    "                    #if not impostor:\n",
    "                    #    for value_index in range(1, len(sorted_indices)): # ciclo sulla lista delle distanze partendo da secondo elemento\n",
    "                    #        if distances[sorted_indices[value_index]] <= threshold: # se valore è piccolo di threshold\n",
    "                    #            gallery_name = extract_middle_part(df_distanze.iloc[probe_index].index[sorted_indices[value_index]])\n",
    "                    #            if probe_name != gallery_name: # se sono due immagini differenti\n",
    "                    #                print('entrato')\n",
    "                    #                threshold_metrics[\"FA\"] += 1\n",
    "                    #                total_impostor_attempts += 1\n",
    "                    #                break\n",
    "                    #        else:\n",
    "                    #           break\n",
    "                else:\n",
    "                    if not impostor:\n",
    "                        for value_index in range(1, len(sorted_indices)-1): # ciclo sulla lista delle distanze partendo da secondo elemento\n",
    "                            if distances[sorted_indices[value_index]] <= threshold: # se valore è piccolo di threshold\n",
    "                                gallery_name = extract_middle_part(df_distanze.iloc[probe_index].index[sorted_indices[value_index]])\n",
    "                                if probe == gallery_name: # se sono due immagini differenti\n",
    "                                    threshold_metrics[\"DI\"] += 1\n",
    "                                    break\n",
    "                            else:\n",
    "                                break\n",
    "                    else:\n",
    "                        threshold_metrics[\"FA\"] += 1 # False Accepts Quando un soggetto impostore viene accettato\n",
    "            else:\n",
    "                # threshold is greater than the accepted_value\n",
    "                if impostor:\n",
    "                    # Genuine Rejects Quando un soggetto impostore viene rifiutato\n",
    "                    threshold_metrics[\"GR\"] += 1\n",
    "                else:\n",
    "                    # False Rejects Quando l’identità dichiarata è vera ma il soggetto viene rifiutato\n",
    "                    threshold_metrics[\"FR\"] += 1\n",
    "\n",
    "        threshold_metrics[\"DIR\"] = threshold_metrics[\"DI\"] / total_genuine_attempts\n",
    "        threshold_metrics[\"FAR\"] = threshold_metrics[\"FA\"] / total_impostor_attempts  # Total impostor comparisons\n",
    "        threshold_metrics[\"GRR\"] = threshold_metrics[\"GR\"] / total_impostor_attempts\n",
    "        threshold_metrics[\"FRR\"] = 1 - threshold_metrics[\"DIR\"] # False Reject Rate\n",
    "        evaluation_metrics[\"thresholds\"].append({threshold: threshold_metrics})\n",
    "\n",
    "    return evaluation_metrics"
   ]
  },
  {
   "cell_type": "code",
   "execution_count": 234,
   "metadata": {},
   "outputs": [],
   "source": [
    "evaluation_metrics = all_against_all(df_distanze)"
   ]
  },
  {
   "cell_type": "code",
   "execution_count": 235,
   "metadata": {},
   "outputs": [
    {
     "data": {
      "image/png": "[encoded data removed]",
      "text/plain": [
       "<Figure size 1000x500 with 1 Axes>"
      ]
     },
     "metadata": {},
     "output_type": "display_data"
    }
   ],
   "source": [
    "far_values = [metrics[list(metrics.keys())[0]]['FAR'] for metrics in evaluation_metrics['thresholds']]\n",
    "thresholds = [list(metrics.keys())[0] for metrics in evaluation_metrics['thresholds']]\n",
    "\n",
    "# Plot FAR against Thresholds with the corrected logic\n",
    "plt.figure(figsize=(10, 5))\n",
    "plt.plot(thresholds, far_values, 'r', lw=2)  # Adding line width for better visibility\n",
    "plt.title('FAR')\n",
    "plt.xlabel('Threshold')\n",
    "plt.ylabel('FAR')\n",
    "#plt.ylim([0,1])  # Set the limits of the y-axis to ensure it is between 0 and 1\n",
    "plt.show()"
   ]
  },
  {
   "cell_type": "code",
   "execution_count": 236,
   "metadata": {},
   "outputs": [
    {
     "data": {
      "image/png": "[encoded data removed]",
      "text/plain": [
       "<Figure size 1000x500 with 1 Axes>"
      ]
     },
     "metadata": {},
     "output_type": "display_data"
    }
   ],
   "source": [
    "frr_values = [metrics[list(metrics.keys())[0]]['FRR'] for metrics in evaluation_metrics['thresholds']]\n",
    "\n",
    "# Plot FAR against Thresholds\n",
    "plt.figure(figsize=(10, 5))\n",
    "plt.plot(thresholds, frr_values)\n",
    "plt.title('False Reject Rate (FRR) vs Threshold')\n",
    "plt.xlabel('Threshold')\n",
    "plt.ylabel('FRR')\n",
    "plt.show()"
   ]
  },
  {
   "cell_type": "code",
   "execution_count": 239,
   "metadata": {},
   "outputs": [
    {
     "data": {
      "image/png": "[encoded data removed]",
      "text/plain": [
       "<Figure size 800x600 with 1 Axes>"
      ]
     },
     "metadata": {},
     "output_type": "display_data"
    }
   ],
   "source": [
    "diffs = [abs(fa - fr) for fa, fr in zip(far_values, frr_values)]\n",
    "eer_index = diffs.index(min(diffs))\n",
    "eer_threshold = thresholds[eer_index]\n",
    "eer_value = (far_values[eer_index] + frr_values[eer_index]) / 2\n",
    "\n",
    "# Plot FAR and FRR against thresholds\n",
    "plt.figure(figsize=(8, 6))\n",
    "plt.plot(thresholds, far_values, linestyle='-', color='g', label='FAR')\n",
    "plt.plot(thresholds, frr_values, linestyle='-', color='b', label='FRR')\n",
    "plt.plot(eer_threshold, eer_value, 'ro', label='EER')\n",
    "plt.text(eer_threshold, eer_value, 'EER', color='black', ha='right', va='bottom')\n",
    "\n",
    "# Setting up the plot\n",
    "plt.title('Equal Error Rate (EER)')\n",
    "plt.xlabel('Threshold')\n",
    "plt.ylabel('Rate')\n",
    "plt.legend(loc='upper right')\n",
    "plt.show()"
   ]
  },
  {
   "cell_type": "code",
   "execution_count": 240,
   "metadata": {},
   "outputs": [
    {
     "data": {
      "image/png": "[encoded data removed]",
      "text/plain": [
       "<Figure size 640x480 with 1 Axes>"
      ]
     },
     "metadata": {},
     "output_type": "display_data"
    }
   ],
   "source": [
    "tpr_values = [1 - frr for frr in frr_values]  # TPR is 1 - FRR\n",
    "\n",
    "\n",
    "plt.figure()\n",
    "plt.plot(far_values, tpr_values, linestyle='-', color='b')\n",
    "plt.title('ROC Curve')\n",
    "plt.xlabel('False Accept Rate (FAR)')\n",
    "plt.ylabel('1 - False Reject Rate (FRR)')\n",
    "plt.show()"
   ]
  },
  {
   "cell_type": "code",
   "execution_count": 242,
   "metadata": {},
   "outputs": [],
   "source": [
    "from scipy.stats import norm"
   ]
  },
  {
   "cell_type": "code",
   "execution_count": 245,
   "metadata": {},
   "outputs": [
    {
     "data": {
      "text/plain": [
       "([<matplotlib.axis.YTick at 0x359b4dc10>,\n",
       "  <matplotlib.axis.YTick at 0x359b4d5b0>,\n",
       "  <matplotlib.axis.YTick at 0x359b2a6d0>],\n",
       " [Text(0, 0.01, '0.01'), Text(0, 0.1, '0.1'), Text(0, 1.0, '1')])"
      ]
     },
     "execution_count": 245,
     "metadata": {},
     "output_type": "execute_result"
    },
    {
     "data": {
      "image/png": "[encoded data removed]",
      "text/plain": [
       "<Figure size 800x800 with 1 Axes>"
      ]
     },
     "metadata": {},
     "output_type": "display_data"
    }
   ],
   "source": [
    "# Plotting the DET curve\n",
    "plt.figure(figsize=(8, 8))\n",
    "plt.plot(far_values, frr_values, marker='o', linestyle='-')\n",
    "plt.title('Detection Error Tradeoff (DET) Curve')\n",
    "plt.xlabel('False Acceptance Rate (FAR)')\n",
    "plt.ylabel('False Rejection Rate (FRR)')\n",
    "plt.xscale('log')  # Optionally use logarithmic scale for better visualization\n",
    "plt.yscale('log')  # Optionally use logarithmic scale for better visualization\n",
    "#plt.xticks([0.01, 0.1, 1], ['0.01', '0.1', '1'])\n",
    "#plt.yticks([0.01, 0.1, 1], ['0.01', '0.1', '1'])\n",
    "\n"
   ]
  },
  {
   "cell_type": "markdown",
   "metadata": {},
   "source": [
    "--------- sotto no ---------"
   ]
  },
  {
   "cell_type": "code",
   "execution_count": 8,
   "metadata": {},
   "outputs": [],
   "source": [
    "def generate_pairs(df):\n",
    "    \"\"\"Generate all possible genuine pairs and then randomly select impostor pairs to match the number of genuine pairs.\"\"\"\n",
    "    genuine_pairs = []\n",
    "    impostor_pairs = []\n",
    "\n",
    "    # Generate genuine pairs\n",
    "    for _, group in df.groupby('Person'):\n",
    "        genuine_pairs.extend(list(combinations(group['Image_Path'], 2)))\n",
    "\n",
    "    num_genuine_pairs = len(genuine_pairs)\n",
    "    unique_person_ids = df['Person'].unique()\n",
    "\n",
    "    while len(impostor_pairs) < num_genuine_pairs:\n",
    "        # Randomly select two different persons\n",
    "        person_a, person_b = random.sample(list(unique_person_ids), 2)\n",
    "\n",
    "        # Randomly select an image from each person\n",
    "        path_a = random.choice(df[df['Person'] == person_a]['Image_Path'].tolist())\n",
    "        path_b = random.choice(df[df['Person'] == person_b]['Image_Path'].tolist())\n",
    "\n",
    "        # Add this impostor pair to the list\n",
    "        impostor_pairs.append((path_a, path_b))\n",
    "\n",
    "    return genuine_pairs, impostor_pairs"
   ]
  },
  {
   "cell_type": "code",
   "execution_count": 9,
   "metadata": {},
   "outputs": [],
   "source": [
    "genuine_pairs, impostor_pairs = generate_pairs(df)"
   ]
  },
  {
   "cell_type": "code",
   "execution_count": 10,
   "metadata": {},
   "outputs": [
    {
     "name": "stdout",
     "output_type": "stream",
     "text": [
      "236044 236044\n"
     ]
    }
   ],
   "source": [
    "print(len(genuine_pairs), len(impostor_pairs))"
   ]
  },
  {
   "cell_type": "code",
   "execution_count": 19,
   "metadata": {},
   "outputs": [],
   "source": [
    "def get_embedding(model, image_path):\n",
    "    \"\"\"\n",
    "    Get an image embedding using ghostfacenet_v1 model.\n",
    "    \n",
    "    Parameters:\n",
    "    - image_path: Path to the image file.\n",
    "    \n",
    "    Returns:\n",
    "    - embedding: The embedding vector for the image.\n",
    "    \"\"\"\n",
    "    img = Image.open(image_path).convert('RGB')\n",
    "    img = img.resize((112, 112))\n",
    "    img_array = np.array(img).astype('float32')\n",
    "    \n",
    "    # Normalize the image data to [-1, 1]\n",
    "    img_array = (img_array / 127.5) - 1  # Assuming the original range is [0, 255]\n",
    "    return model.predict(np.expand_dims(img_array, axis=0))\n",
    "\n",
    "\n",
    "def compute_cosine_distance(features1, features2):\n",
    "    # Compute and return the cosine distance between two feature vectors\n",
    "    return cosine_similarity(features1, features2)\n",
    "\n",
    "def compute_distances(pairs, model):\n",
    "    \"\"\"Compute the cosine distance for each pair, handling NaN values.\"\"\"\n",
    "    distances = []\n",
    "    for img_path_a, img_path_b in pairs:\n",
    "\n",
    "        embedding1 = get_embedding(model, img_path_a)\n",
    "        embedding2 = get_embedding(model, img_path_b)\n",
    "\n",
    "        if embedding1 is None or embedding2 is None:\n",
    "            print(f\"Skipping pair {img_path_a}, {img_path_b} due to an error.\")\n",
    "            continue\n",
    "        # Ensure no NaN values are present in features before computing distance\n",
    "        if np.isnan(embedding1).any() or np.isnan(embedding2).any():\n",
    "            print(f\"Found NaN in features for pair {img_path_a}, {img_path_b}. Skipping.\")\n",
    "            continue\n",
    "        # Compute cosine similarity and convert it to distance\n",
    "        similarity = cosine_similarity(embedding1.reshape(1, -1), embedding2.reshape(1, -1))\n",
    "        distance = 1 - similarity.item()  # Convert numpy array to scalar\n",
    "        print(f\"Distance between {img_path_a} and {img_path_b}: {distance}\")\n",
    "        distances.append(distance)\n",
    "    return distances"
   ]
  },
  {
   "cell_type": "code",
   "execution_count": null,
   "metadata": {},
   "outputs": [],
   "source": [
    "genuine_distances = compute_distances(genuine_pairs, model)"
   ]
  },
  {
   "cell_type": "code",
   "execution_count": null,
   "metadata": {},
   "outputs": [],
   "source": [
    "impostor_distances = compute_distances(impostor_pairs, model)"
   ]
  },
  {
   "cell_type": "code",
   "execution_count": 26,
   "metadata": {},
   "outputs": [],
   "source": [
    "def evaluate_threshold(distances, threshold):\n",
    "    \"\"\"Evaluate pairs against the threshold to determine matches and non-matches.\"\"\"\n",
    "    matches = [distance <= threshold for distance in distances]\n",
    "    return matches\n",
    "\n",
    "def calculate_metrics(genuine_distances, impostor_distances, threshold):\n",
    "    \"\"\"Calculate evaluation metrics based on distances and a threshold.\"\"\"\n",
    "    genuine_matches = evaluate_threshold(genuine_distances, threshold)\n",
    "    impostor_matches = evaluate_threshold(impostor_distances, threshold)\n",
    "\n",
    "    # True Positive: Genuine pair correctly matched\n",
    "    tp = sum(genuine_matches)\n",
    "    # False Positive: Impostor pair incorrectly matched\n",
    "    fp = sum(impostor_matches)\n",
    "    # True Negative: Impostor pair correctly not matched\n",
    "    tn = len(impostor_matches) - fp\n",
    "    # False Negative: Genuine pair incorrectly not matched\n",
    "    fn = len(genuine_matches) - tp\n",
    "\n",
    "    # Example metric calculations\n",
    "    far = fp / (fp + tn)  # False Acceptance Rate\n",
    "    frr = fn / (fn + tp)  # False Rejection Rate\n",
    "\n",
    "    return {'FAR': far, 'FRR': frr}"
   ]
  },
  {
   "cell_type": "code",
   "execution_count": 27,
   "metadata": {},
   "outputs": [],
   "source": [
    "# Main evaluation\n",
    "thresholds = np.arange(0.01, 1.0, 0.01)\n",
    "results = {}\n",
    "\n",
    "for threshold in thresholds:\n",
    "    metrics = calculate_metrics(genuine_distances, impostor_distances, threshold)\n",
    "    results[threshold] = metrics"
   ]
  },
  {
   "cell_type": "code",
   "execution_count": 28,
   "metadata": {},
   "outputs": [
    {
     "data": {
      "image/png": "[encoded data removed]",
      "text/plain": [
       "<Figure size 700x600 with 1 Axes>"
      ]
     },
     "metadata": {},
     "output_type": "display_data"
    }
   ],
   "source": [
    "thresholds = [key for key in results.keys()]\n",
    "far = [results[thresh]['FAR'] for thresh in thresholds]\n",
    "\n",
    "plt.figure(figsize=(7, 6)) \n",
    "plt.plot(thresholds, far, linestyle='-', color='r')\n",
    "plt.title('FAR')\n",
    "plt.xlabel('Threshold')\n",
    "plt.ylabel('FAR')\n",
    "plt.show()"
   ]
  },
  {
   "cell_type": "code",
   "execution_count": 29,
   "metadata": {},
   "outputs": [
    {
     "data": {
      "image/png": "[encoded data removed]",
      "text/plain": [
       "<Figure size 700x600 with 1 Axes>"
      ]
     },
     "metadata": {},
     "output_type": "display_data"
    }
   ],
   "source": [
    "frr = [results[thresh]['FRR'] for thresh in thresholds]\n",
    "plt.figure(figsize=(7, 6))\n",
    "plt.plot(thresholds, frr, linestyle='-', color='b')\n",
    "plt.title('FRR')\n",
    "plt.xlabel('Threshold')\n",
    "plt.ylabel('FRR')\n",
    "plt.show()"
   ]
  },
  {
   "cell_type": "code",
   "execution_count": 30,
   "metadata": {},
   "outputs": [
    {
     "data": {
      "image/png": "[encoded data removed]",
      "text/plain": [
       "<Figure size 800x600 with 1 Axes>"
      ]
     },
     "metadata": {},
     "output_type": "display_data"
    }
   ],
   "source": [
    "eer_index = np.argmin(np.abs(np.array(far) - np.array(frr)))\n",
    "eer_FAR = far[eer_index]\n",
    "eer_threshold = thresholds[eer_index]\n",
    "\n",
    "# Plot FAR and FRR against thresholds\n",
    "plt.figure(figsize=(8, 6))\n",
    "plt.plot(thresholds, far, linestyle='-', color='g', label='FAR')\n",
    "plt.plot(thresholds, frr, linestyle='-', color='b', label='FRR')\n",
    "plt.plot(eer_threshold, eer_FAR, 'ro', label='EER')\n",
    "plt.text(eer_threshold, eer_FAR, 'EER', color='black', ha='right', va='bottom')\n",
    "\n",
    "# Setting up the plot\n",
    "plt.title('Equal Error Rate (EER)')\n",
    "plt.xlabel('Threshold')\n",
    "plt.ylabel('Rate')\n",
    "plt.legend(loc='upper right')\n",
    "plt.show()"
   ]
  },
  {
   "cell_type": "code",
   "execution_count": 31,
   "metadata": {},
   "outputs": [
    {
     "data": {
      "image/png": "[encoded data removed]",
      "text/plain": [
       "<Figure size 640x480 with 1 Axes>"
      ]
     },
     "metadata": {},
     "output_type": "display_data"
    }
   ],
   "source": [
    "frr1 = [1-results[thresh]['FRR'] for thresh in thresholds]\n",
    "\n",
    "\n",
    "plt.figure()\n",
    "plt.plot(far, frr1, linestyle='-', color='b')\n",
    "plt.title('ROC Curve')\n",
    "plt.xlabel('False Accept Rate (FAR)')\n",
    "plt.ylabel('1 - False Reject Rate (FRR)')\n",
    "plt.show()"
   ]
  },
  {
   "cell_type": "code",
   "execution_count": 35,
   "metadata": {},
   "outputs": [
    {
     "data": {
      "image/png": "[encoded data removed]",
      "text/plain": [
       "<Figure size 640x480 with 1 Axes>"
      ]
     },
     "metadata": {},
     "output_type": "display_data"
    }
   ],
   "source": [
    "# Plotting the DET curve\n",
    "plt.figure()\n",
    "plt.plot(far, frr, linestyle='-', color='b')\n",
    "plt.xscale('log')\n",
    "plt.yscale('log')\n",
    "plt.title('DET Curve')\n",
    "plt.xlabel('False Accept Rate (FAR)')\n",
    "plt.ylabel('False Reject Rate (FRR)')\n",
    "\n",
    "plt.xticks([0.01, 0.1, 1], ['0.01', '0.1', '1'])\n",
    "\n",
    "plt.show()"
   ]
  }
 ],
 "metadata": {
  "kernelspec": {
   "display_name": "Python 3",
   "language": "python",
   "name": "python3"
  },
  "language_info": {
   "codemirror_mode": {
    "name": "ipython",
    "version": 3
   },
   "file_extension": ".py",
   "mimetype": "text/x-python",
   "name": "python",
   "nbconvert_exporter": "python",
   "pygments_lexer": "ipython3",
   "version": "3.9.6"
  }
 },
 "nbformat": 4,
 "nbformat_minor": 2
}
